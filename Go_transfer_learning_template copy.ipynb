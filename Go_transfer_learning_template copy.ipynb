{
  "cells": [
    {
      "attachments": {},
      "cell_type": "markdown",
      "metadata": {
        "id": "md-x1taQ8yGx"
      },
      "source": [
        "## Transfer Learning for Computer Vision Tutorial\n",
        "\n",
        "**Author**: [Sasank Chilamkurthy](https://chsasank.github.io)\n",
        "\n",
        "**Modified by**: win7 at october 2022\n",
        "\n",
        "In this tutorial, you will learn how to train a convolutional neural network for\n",
        "image classification using transfer learning. You can read more about the transfer\n",
        "learning at [cs231n notes](https://cs231n.github.io/transfer-learning/)_\n",
        "\n",
        "Quoting these notes,\n",
        "\n",
        "    In practice, very few people train an entire Convolutional Network\n",
        "    from scratch (with random initialization), because it is relatively\n",
        "    rare to have a dataset of sufficient size. Instead, it is common to\n",
        "    pretrain a ConvNet on a very large dataset (e.g. ImageNet, which\n",
        "    contains 1.2 million images with 1000 categories), and then use the\n",
        "    ConvNet either as an initialization or a fixed feature extractor for\n",
        "    the task of interest.\n",
        "\n",
        "These two major transfer learning scenarios look as follows:\n",
        "\n",
        "-  **Finetuning the convnet**: Instead of random initialization, we\n",
        "   initialize the network with a pretrained network, like the one that is\n",
        "   trained on imagenet 1000 dataset. Rest of the training looks as\n",
        "   usual.\n",
        "-  **ConvNet as fixed feature extractor**: Here, we will freeze the weights\n",
        "   for all of the network except that of the final fully connected\n",
        "   layer. This last fully connected layer is replaced with a new one\n",
        "   with random weights and only this layer is trained.\n"
      ]
    },
    {
      "attachments": {},
      "cell_type": "markdown",
      "metadata": {},
      "source": [
        "#### Transfer Learning Summary\n",
        "\n",
        "- Use a pre-trained model out-of-the-box (good if a model already exists for your problem).\n",
        "\n",
        "- Use a pre-trained model as a “feature extractor” (good if you want to adapt a pre-trained model for a specific problem).\n",
        "\n",
        "- Fine-tune a pre-trained model (same as 2 but generally yields better results, although at more computational cost)."
      ]
    },
    {
      "attachments": {},
      "cell_type": "markdown",
      "metadata": {},
      "source": [
        "### Imports"
      ]
    },
    {
      "cell_type": "code",
      "execution_count": 1,
      "metadata": {
        "colab": {
          "base_uri": "https://localhost:8080/"
        },
        "id": "H0K8D2yZ8yGy",
        "notebookRunGroups": {
          "groupValue": "1"
        },
        "outputId": "f726af03-30dd-455c-e9ef-0d60a6fab390"
      },
      "outputs": [
        {
          "name": "stdout",
          "output_type": "stream",
          "text": [
            "time: 343 µs (started: 2023-07-05 22:29:37 -05:00)\n"
          ]
        }
      ],
      "source": [
        "# License: BSD\n",
        "# Author: Sasank Chilamkurthy\n",
        "\n",
        "from __future__ import print_function, division\n",
        "\n",
        "import torch\n",
        "import torch.nn as nn\n",
        "import torch.optim as optim\n",
        "from torch.optim import lr_scheduler\n",
        "import torch.backends.cudnn as cudnn\n",
        "import numpy as np\n",
        "import torchvision\n",
        "from torchvision import datasets, models, transforms\n",
        "from torch.utils.data.sampler import WeightedRandomSampler\n",
        "from torchsampler import ImbalancedDatasetSampler\n",
        "import matplotlib.pyplot as plt\n",
        "import time\n",
        "import os\n",
        "import copy\n",
        "\n",
        "import pandas as pd\n",
        "import shutil\n",
        "import sys\n",
        "\n",
        "from sklearn.metrics import classification_report\n",
        "from sklearn.metrics import roc_auc_score\n",
        "from sklearn.model_selection import train_test_split\n",
        "from PIL import Image\n",
        "\n",
        "from tqdm import tqdm\n",
        "import memory_profiler  # conda install -c anaconda memory_profiler\n",
        "# cudnn.benchmark = True\n",
        "# plt.ion()   # interactive mode\n",
        "import neptune\n",
        "\n",
        "from tempfile import TemporaryDirectory\n",
        "\n",
        "%matplotlib inline\n",
        "%load_ext autotime"
      ]
    },
    {
      "attachments": {},
      "cell_type": "markdown",
      "metadata": {},
      "source": [
        "### Functions\n",
        "\n"
      ]
    },
    {
      "cell_type": "code",
      "execution_count": 2,
      "metadata": {
        "colab": {
          "base_uri": "https://localhost:8080/"
        },
        "id": "88IWH2bxRwS0",
        "notebookRunGroups": {
          "groupValue": "1"
        },
        "outputId": "a6b5436a-3f34-4064-914c-9f3a1e7a9a92"
      },
      "outputs": [
        {
          "name": "stdout",
          "output_type": "stream",
          "text": [
            "time: 8.43 ms (started: 2023-07-05 22:29:37 -05:00)\n"
          ]
        }
      ],
      "source": [
        "def move_split(df, type): # change this function according your dataset\n",
        "    if not os.path.isdir(\"dataset\"):\n",
        "        os.makedirs(\"dataset\")\n",
        "\n",
        "        for item in np.unique(df.iloc[:, -1]):\n",
        "            os.makedirs(\"dataset/train/class_{}\".format(item))\n",
        "            os.makedirs(\"dataset/val/class_{}\".format(item))\n",
        "    \n",
        "    for index, row in tqdm(df.iterrows()):\n",
        "        s = \"source/train/{}_{}.jpg\".format(row[\"ID\"], row[\"location\"])\n",
        "        t = \"dataset/{}/class_{}\".format(type, row[\"level\"])\n",
        "        shutil.copy(s, t)\n",
        "\n",
        "def set_parameter_requires_grad(model, feature_extract):\n",
        "    if feature_extract:\n",
        "        for param in model.parameters():\n",
        "            param.requires_grad = False\n",
        "\n",
        "# set initialize weight for custom model\n",
        "def init_weights(m):\n",
        "    if isinstance(m, torch.nn.Linear):\n",
        "        torch.nn.init.xavier_uniform_(m.weight)\n",
        "        m.bias.data.fill_(0.01)\n",
        "\n",
        "def classifier_model(num_ftrs, num_classes, init_weight=False):\n",
        "    # Custom model\n",
        "    \"\"\" torch.nn.Conv2d(in_channels=8, out_channels=3, kernel_size=(3, 3), padding=1),\n",
        "    torch.nn.ReLU(),\n",
        "    torch.nn.MaxPool2d((2, 2)),\n",
        "    torch.nn.Conv2d(in_channels=3, out_channels=2, kernel_size=(3, 3), padding=1),\n",
        "    torch.nn.ReLU(),\n",
        "    torch.nn.MaxPool2d((2, 2)),\n",
        "    torch.nn.Flatten(), \"\"\"\n",
        "\n",
        "    model = torch.nn.Sequential(torch.nn.Linear(num_ftrs, 128),\n",
        "                                torch.nn.ReLU(),\n",
        "\n",
        "                                torch.nn.Linear(128, 64),\n",
        "                                torch.nn.ReLU(),\n",
        "                                torch.nn.Dropout(0.5),\n",
        "\n",
        "                                torch.nn.Linear(64, num_classes))\n",
        "    if init_weight:\n",
        "        model.apply(init_weights)\n",
        "    return model\n",
        "\n",
        "def initialize_model(model_name, num_classes, feature_extract):\n",
        "    # Initialize these variables which will be set in this if statement. Each of these\n",
        "    # variables is model specific.\n",
        "    model = None\n",
        "    input_size = 0\n",
        "\n",
        "    if model_name == \"alexnet\":\n",
        "        model = models.alexnet(weights=\"IMAGENET1K_V1\")\n",
        "        set_parameter_requires_grad(model, feature_extract)\n",
        "        num_ftrs = model.classifier[6].in_features\n",
        "        model.classifier[6] = classifier_model(num_ftrs, num_classes, init_weight=True) # nn.Linear(num_ftrs,num_classes)\n",
        "        input_size = 224\n",
        "\n",
        "    elif model_name == \"convnext_large\":\n",
        "        model = models.convnext_large(weights=\"IMAGENET1K_V1\")\n",
        "        set_parameter_requires_grad(model, feature_extract)\n",
        "        num_ftrs = model.classifier[2].in_features\n",
        "        model.classifier[2] = classifier_model(num_ftrs, num_classes, init_weight=True) # nn.Linear(num_ftrs,num_classes)\n",
        "        input_size = 224\n",
        "\n",
        "    elif model_name == \"densenet201\":\n",
        "        model = models.densenet201(weights=\"IMAGENET1K_V1\")\n",
        "        set_parameter_requires_grad(model, feature_extract)\n",
        "        num_ftrs = model.classifier.in_features\n",
        "        model.classifier = classifier_model(num_ftrs, num_classes, init_weight=True) # nn.Linear(num_ftrs, num_classes)\n",
        "        input_size = 224\n",
        "\n",
        "    elif model_name == \"efficientnet_v2_l\":\n",
        "        model = models.efficientnet_v2_l(weights=\"IMAGENET1K_V1\")\n",
        "        set_parameter_requires_grad(model, feature_extract)\n",
        "        num_ftrs = model.classifier[1].in_features\n",
        "        model.classifier[1] = classifier_model(num_ftrs, num_classes, init_weight=True) # nn.Linear(num_ftrs,num_classes)\n",
        "        input_size = 480\n",
        "\n",
        "    elif model_name == \"googlenet\":\n",
        "        model = models.googlenet(weights=\"IMAGENET1K_V1\")\n",
        "        set_parameter_requires_grad(model, feature_extract)\n",
        "        num_ftrs = model.fc.in_features\n",
        "        model.fc = classifier_model(num_ftrs, num_classes, init_weight=True) # nn.Linear(num_ftrs, num_classes)\n",
        "        input_size = 384\n",
        "\n",
        "    elif model_name == \"inception_v3\":\n",
        "        model = models.inception_v3(weights=\"IMAGENET1K_V1\")\n",
        "        set_parameter_requires_grad(model, feature_extract)\n",
        "        # Handle the auxilary net\n",
        "        num_ftrs = model.AuxLogits.fc.in_features\n",
        "        model.AuxLogits.fc = nn.Linear(num_ftrs, num_classes)\n",
        "        # Handle the primary net\n",
        "        num_ftrs = model.fc.in_features\n",
        "        model.fc = nn.Linear(num_ftrs, num_classes)\n",
        "        input_size = 299\n",
        "\n",
        "        \"\"\" set_parameter_requires_grad(model, feature_extract)\n",
        "        num_ftrs = model.fc.in_features\n",
        "        model.fc = classifier_model(num_ftrs, num_classes, init_weight=True) # nn.Linear(num_ftrs, num_classes)\n",
        "        input_size = 299 \"\"\"\n",
        "\n",
        "    elif model_name == \"mnasnet1_3\":\n",
        "        model = models.mnasnet1_3(weights=\"IMAGENET1K_V1\")\n",
        "        set_parameter_requires_grad(model, feature_extract)\n",
        "        num_ftrs = model.classifier[1].in_features\n",
        "        model.classifier[1] = classifier_model(num_ftrs, num_classes, init_weight=True) # nn.Linear(num_ftrs,num_classes)\n",
        "        input_size = 224\n",
        "\n",
        "    elif model_name == \"maxvit_t\":\n",
        "        model = models.maxvit_t(weights=\"IMAGENET1K_V1\")\n",
        "        set_parameter_requires_grad(model, feature_extract)\n",
        "        num_ftrs = model.classifier[5].in_features\n",
        "        model.classifier[5] = classifier_model(num_ftrs, num_classes, init_weight=True) # nn.Linear(num_ftrs,num_classes)\n",
        "        input_size = 224\n",
        "\n",
        "    elif model_name == \"mobilenet_v3_large\":\n",
        "        model = models.mobilenet_v3_large(weights=\"IMAGENET1K_V2\")\n",
        "        set_parameter_requires_grad(model, feature_extract)\n",
        "        num_ftrs = model.classifier[3].in_features\n",
        "        model.classifier[3] = classifier_model(num_ftrs, num_classes, init_weight=True) # nn.Linear(num_ftrs,num_classes)\n",
        "        input_size = 224\n",
        "\n",
        "    elif model_name == \"regnet_y_128gf\":\n",
        "        model = models.regnet_y_128gf(weights=\"IMAGENET1K_SWAG_E2E_V1\")\n",
        "        set_parameter_requires_grad(model, feature_extract)\n",
        "        num_ftrs = model.fc.in_features\n",
        "        model.fc = classifier_model(num_ftrs, num_classes, init_weight=True) # nn.Linear(num_ftrs, num_classes)\n",
        "        input_size = 384\n",
        "\n",
        "    elif model_name == \"resnext101_64x4d\":\n",
        "        model = models.resnext101_64x4d(weights=\"IMAGENET1K_V1\")\n",
        "        set_parameter_requires_grad(model, feature_extract)\n",
        "        num_ftrs = model.fc.in_features\n",
        "        model.fc = classifier_model(num_ftrs, num_classes, init_weight=True) # nn.Linear(num_ftrs, num_classes)\n",
        "        input_size = 224\n",
        "\n",
        "    elif model_name == \"resnet152\":\n",
        "        model = models.resnet152(weights=\"IMAGENET1K_V2\")\n",
        "        set_parameter_requires_grad(model, feature_extract)\n",
        "        num_ftrs = model.fc.in_features\n",
        "        model.fc = classifier_model(num_ftrs, num_classes, init_weight=True) # # nn.Linear(num_ftrs, num_classes)\n",
        "        input_size = 224\n",
        "\n",
        "    elif model_name == \"shufflenet_v2_x2_0\":\n",
        "        model = models.shufflenet_v2_x2_0(weights=\"IMAGENET1K_V1\")\n",
        "        set_parameter_requires_grad(model, feature_extract)\n",
        "        num_ftrs = model.fc.in_features\n",
        "        model.fc = classifier_model(num_ftrs, num_classes, init_weight=True) # # nn.Linear(num_ftrs, num_classes)\n",
        "        input_size = 224\n",
        "\n",
        "    elif model_name == \"squeezenet1_1\":\n",
        "        model = models.squeezenet1_1(weights=\"IMAGENET1K_V1\")\n",
        "        set_parameter_requires_grad(model, feature_extract)\n",
        "        model.classifier[1] = nn.Conv2d(512, num_classes, kernel_size=(1, 1), stride=(1, 1))\n",
        "        model.num_classes = num_classes\n",
        "        input_size = 224\n",
        "\n",
        "    elif model_name == \"swin_v2_b\":\n",
        "        model = models.swin_v2_b(weights=\"IMAGENET1K_V1\")\n",
        "        set_parameter_requires_grad(model, feature_extract)\n",
        "        num_ftrs = model.head.in_features\n",
        "        model.head = classifier_model(num_ftrs, num_classes, init_weight=True) # # nn.Linear(num_ftrs, num_classes)\n",
        "        input_size = 256\n",
        "\n",
        "    elif model_name == \"vgg19\":\n",
        "        model = models.vgg19_bn(weights=\"IMAGENET1K_V1\")\n",
        "        set_parameter_requires_grad(model, feature_extract)\n",
        "        num_ftrs = model.classifier[6].in_features\n",
        "        model.classifier[6] = classifier_model(num_ftrs, num_classes, init_weight=True) # nn.Linear(num_ftrs,num_classes)\n",
        "        input_size = 224\n",
        "\n",
        "    elif model_name == \"vit_h_14\":\n",
        "        model = models.vit_h_14(weights=\"IMAGENET1K_SWAG_E2E_V1\")\n",
        "        set_parameter_requires_grad(model, feature_extract)\n",
        "        num_ftrs = model.heads.head.in_features\n",
        "        model.heads.head = classifier_model(num_ftrs, num_classes, init_weight=True) # nn.Linear(num_ftrs,num_classes)\n",
        "        input_size = 518\n",
        "\n",
        "    elif model_name == \"wide_resnet101_2\":\n",
        "        model = models.wide_resnet101_2(weights=\"IMAGENET1K_V2\")\n",
        "        set_parameter_requires_grad(model, feature_extract)\n",
        "        num_ftrs = model.fc.in_features\n",
        "        model.fc = classifier_model(num_ftrs, num_classes, init_weight=True) # nn.Linear(num_ftrs, num_classes)\n",
        "        input_size = 224\n",
        "\n",
        "    # ---    \n",
        "    elif model_name == \"resnet50\":\n",
        "        model = models.resnet50(weights=\"IMAGENET1K_V2\")\n",
        "        set_parameter_requires_grad(model, feature_extract)\n",
        "        num_ftrs = model.fc.in_features\n",
        "        model.fc = classifier_model(num_ftrs, num_classes, init_weight=True) # nn.Linear(num_ftrs, num_classes)\n",
        "        input_size = 224\n",
        "\n",
        "    elif model_name == \"inception\":\n",
        "        \"\"\" Inception v3\n",
        "        Be careful, expects (299,299) sized images and has auxiliary output\n",
        "        \"\"\"\n",
        "        weights = models.Inception_V3_Weights.IMAGENET1K_V1 #\n",
        "        model = models.inception_v3(weights=weights, progress=True)\n",
        "        set_parameter_requires_grad(model, feature_extract)\n",
        "        # Handle the auxilary net\n",
        "        num_ftrs = model.AuxLogits.fc.in_features\n",
        "        model.AuxLogits.fc = nn.Linear(num_ftrs, num_classes)\n",
        "        # Handle the primary net\n",
        "        num_ftrs = model.fc.in_features\n",
        "        model.fc = nn.Linear(num_ftrs,num_classes)\n",
        "        input_size = 299\n",
        "\n",
        "    else:\n",
        "        print(\"Invalid model name, exiting...\")\n",
        "        exit()\n",
        "\n",
        "    return model, input_size\n",
        "\n",
        "def imshow(inp, title=None):\n",
        "    \"\"\"Imshow for Tensor.\"\"\"\n",
        "    inp = inp.numpy().transpose((1, 2, 0))\n",
        "    mean = np.array([0.485, 0.456, 0.406])\n",
        "    std = np.array([0.229, 0.224, 0.225])\n",
        "    inp = std * inp + mean\n",
        "    inp = np.clip(inp, 0, 1)\n",
        "    plt.imshow(inp)\n",
        "    if title is not None:\n",
        "        plt.title(title)\n",
        "    plt.pause(0.001)  # pause a bit so that plots are updated\n",
        "\n",
        "def train_model(run, model, device, dataloaders, dataset_sizes, criterion, optimizer, scheduler, num_epochs=25):\n",
        "    since = time.time()\n",
        "\n",
        "    train_losses = []\n",
        "    val_losses = []\n",
        "\n",
        "    train_accuracies = []\n",
        "    val_accuracies = []\n",
        "\n",
        "    # Create a temporary directory to save training checkpoints\n",
        "    with TemporaryDirectory() as tempdir:\n",
        "        best_model_params_path = os.path.join(tempdir, \"best_model_params.pt\")\n",
        "\n",
        "        torch.save(model.state_dict(), best_model_params_path)\n",
        "        best_acc = 0.0\n",
        "\n",
        "        loop_obj = tqdm(range(num_epochs))\n",
        "        for epoch in loop_obj:\n",
        "            # print(f'Epoch {epoch}/{num_epochs - 1}')\n",
        "            # print('-' * 10)\n",
        "            loop_obj.set_description(f\"Epoch: {epoch + 1}\")\n",
        "            run[\"params/epochs\"] = epoch + 1\n",
        "\n",
        "            # Each epoch has a training and validation phase\n",
        "            for phase in [\"train\", \"val\"]:\n",
        "                if phase == 'train':\n",
        "                    model.train()  # Set model to training mode\n",
        "                else:\n",
        "                    model.eval()   # Set model to evaluate mode\n",
        "\n",
        "                running_loss = 0.0\n",
        "                running_corrects = 0\n",
        "\n",
        "                # Iterate over data.\n",
        "                for inputs, labels in dataloaders[phase]:\n",
        "                    inputs = inputs.to(device)\n",
        "                    labels = labels.to(device)\n",
        "\n",
        "                    # zero the parameter gradients\n",
        "                    optimizer.zero_grad()\n",
        "\n",
        "                    # forward\n",
        "                    # track history if only in train\n",
        "                    with torch.set_grad_enabled(phase == \"train\"):\n",
        "                        outputs = model(inputs)\n",
        "                        _, preds = torch.max(outputs, 1)\n",
        "                        loss = criterion(outputs, labels)\n",
        "\n",
        "                        # backward + optimize only if in training phase\n",
        "                        if phase == \"train\":\n",
        "                            loss.backward()\n",
        "                            optimizer.step()\n",
        "\n",
        "                    # statistics\n",
        "                    running_loss += loss.item() * inputs.size(0)\n",
        "                    running_corrects += torch.sum(preds == labels.data)\n",
        "\n",
        "                if phase == \"train\":\n",
        "                    scheduler.step()\n",
        "\n",
        "                epoch_loss = running_loss / dataset_sizes[phase]\n",
        "                epoch_acc = running_corrects.double() / dataset_sizes[phase]\n",
        "\n",
        "                # print(f'{phase} Loss: {epoch_loss:.4f} Acc: {epoch_acc:.4f}')\n",
        "                loop_obj.set_postfix_str(f\"{phase}, Loss: {epoch_loss:.4f} Acc: {epoch_acc:.4f}\")\n",
        "\n",
        "                run[\"{}/accuracy\".format(phase)].append(epoch_acc)\n",
        "                run[\"{}/loss\".format(phase)].append(epoch_loss)\n",
        "\n",
        "                if phase == \"train\":\n",
        "                    train_accuracies.append(epoch_acc)\n",
        "                    train_losses.append(epoch_loss)\n",
        "                else:\n",
        "                    val_accuracies.append(epoch_acc)\n",
        "                    val_losses.append(epoch_loss)\n",
        "\n",
        "                # deep copy the model\n",
        "                if phase == \"val\" and epoch_acc > best_acc:\n",
        "                    best_acc = epoch_acc\n",
        "                    torch.save(model.state_dict(), best_model_params_path)\n",
        "\n",
        "        time_elapsed = time.time() - since\n",
        "        print(f'Training complete in {time_elapsed // 60:.0f}m {time_elapsed % 60:.0f}s')\n",
        "        print(f'Best val Acc: {best_acc:4f}')\n",
        "        run[\"train/runtime\"] = time_elapsed // 60\n",
        "\n",
        "        # load best model weights\n",
        "        model.load_state_dict(torch.load(best_model_params_path))\n",
        "    return model, train_accuracies, train_losses, val_accuracies, val_losses\n",
        "\n",
        "def train_model_v1(run, model, device, dataloaders, dataset_sizes, criterion, optimizer, scheduler, num_epochs=25):\n",
        "    since = time.time()\n",
        "\n",
        "    val_acc_history = []\n",
        "\n",
        "    train_losses = []\n",
        "    val_losses = []\n",
        "\n",
        "    train_accuracies = []\n",
        "    val_accuracies = []\n",
        "\n",
        "    best_model_wts = copy.deepcopy(model.state_dict())\n",
        "    best_acc = 0.0\n",
        "\n",
        "    loop_obj = tqdm(range(num_epochs))\n",
        "    for epoch in loop_obj:\n",
        "        # print(f\"Epoch {epoch + 1}/{num_epochs}\")\n",
        "        # print(\"-\" * 10)\n",
        "        loop_obj.set_description(f\"Epoch: {epoch + 1}\")\n",
        "        run[\"params/epochs\"] = epoch + 1\n",
        "\n",
        "        # Each epoch has a training and validation phase\n",
        "        for phase in [\"train\", \"val\"]:\n",
        "            if phase == \"train\":\n",
        "                model.train()  # Set model to training mode\n",
        "            else:\n",
        "                model.eval()   # Set model to evaluate mode\n",
        "\n",
        "            running_loss = 0.0\n",
        "            running_corrects = 0\n",
        "\n",
        "            # Iterate over data.\n",
        "            for inputs, labels in dataloaders[phase]:\n",
        "                inputs = inputs.to(device)\n",
        "                labels = labels.to(device)\n",
        "\n",
        "                # zero the parameter gradients\n",
        "                optimizer.zero_grad()\n",
        "\n",
        "                # forward\n",
        "                # track history if only in train\n",
        "                with torch.set_grad_enabled(phase == \"train\"):\n",
        "                    outputs = model(inputs)\n",
        "                    _, preds = torch.max(outputs, 1)\n",
        "                    loss = criterion(outputs, labels)\n",
        "\n",
        "                    # backward + optimize only if in training phase\n",
        "                    if phase == \"train\":\n",
        "                        loss.backward()\n",
        "                        optimizer.step()\n",
        "\n",
        "                # statistics\n",
        "                running_loss += loss.item() * inputs.size(0)\n",
        "                running_corrects += torch.sum(preds == labels.data)\n",
        "\n",
        "            if phase == \"train\":\n",
        "                scheduler.step()\n",
        "\n",
        "            epoch_loss = running_loss / dataset_sizes[phase]\n",
        "            epoch_acc = running_corrects.double() / dataset_sizes[phase]\n",
        "\n",
        "            if phase == \"train\":\n",
        "                train_accuracies.append(epoch_acc)\n",
        "                train_losses.append(epoch_loss)\n",
        "\n",
        "                run[\"train/accuracy\"].append(epoch_acc)\n",
        "                run[\"train/loss\"].append(epoch_loss)\n",
        "            else:\n",
        "                val_accuracies.append(epoch_acc)\n",
        "                val_losses.append(epoch_loss)\n",
        "\n",
        "                run[\"val/accuracy\"].append(epoch_acc)\n",
        "                run[\"val/loss\"].append(epoch_loss)\n",
        "\n",
        "            # print(f\"{phase} Loss: {epoch_loss:.4f} Acc: {epoch_acc:.4f}\")\n",
        "            loop_obj.set_postfix_str(f\"{phase}, Loss: {epoch_loss:.4f} Acc: {epoch_acc:.4f}\")\n",
        "\n",
        "            # deep copy the model\n",
        "            if phase == \"val\" and epoch_acc > best_acc:\n",
        "                best_acc = epoch_acc\n",
        "                best_model_wts = copy.deepcopy(model.state_dict())\n",
        "            if phase == \"val\":\n",
        "                val_acc_history.append(epoch_acc)\n",
        "\n",
        "    time_elapsed = time.time() - since\n",
        "    print(f\"Training complete in {time_elapsed // 60:.0f}m {time_elapsed % 60:.0f}s\")\n",
        "    print(f\"Best val Acc: {best_acc:4f}\")\n",
        "\n",
        "    run[\"train/runtime\"] = time_elapsed\n",
        "\n",
        "    # load best model weights\n",
        "    model.load_state_dict(best_model_wts)\n",
        "\n",
        "    # run.stop()\n",
        "    return model, train_losses, val_losses, train_accuracies, val_accuracies # val_acc_history\n",
        "\n",
        "def visualize_model(model, num_images=6):\n",
        "    was_training = model.training\n",
        "    model.eval()\n",
        "    images_so_far = 0\n",
        "    fig = plt.figure()\n",
        "\n",
        "    with torch.no_grad():\n",
        "        for i, (inputs, labels) in enumerate(dataloaders[\"val\"]):\n",
        "            inputs = inputs.to(device)\n",
        "            labels = labels.to(device)\n",
        "\n",
        "            outputs = model(inputs)\n",
        "            _, preds = torch.max(outputs, 1)\n",
        "\n",
        "            for j in range(inputs.size()[0]):\n",
        "                images_so_far += 1\n",
        "                ax = plt.subplot(num_images//2, 2, images_so_far)\n",
        "                ax.axis(\"off\")\n",
        "                ax.set_title(f\"predicted: {class_names[preds[j]]}\")\n",
        "                imshow(inputs.cpu().data[j])\n",
        "\n",
        "                if images_so_far == num_images:\n",
        "                    model.train(mode=was_training)\n",
        "                    return\n",
        "        model.train(mode=was_training)\n",
        "\n",
        "def show_results(train_losses, val_losses, train_accuracies, val_accuracies):\n",
        "    train_accuracies_ = [h.cpu().numpy() for h in train_accuracies]\n",
        "    val_accuracies_ = [h.cpu().numpy() for h in val_accuracies]\n",
        "\n",
        "    fig, axes = plt.subplots(1, 2, figsize=(14,4))\n",
        "    ax1, ax2 = axes\n",
        "    ax1.plot(train_losses, label=\"train\")\n",
        "    ax1.plot(val_losses, label=\"val\")\n",
        "    ax1.set_xlabel(\"Epoch\"); ax1.set_ylabel(\"Loss\")\n",
        "    ax1.grid()\n",
        "    ax2.plot(train_accuracies_, label=\"train\")\n",
        "    ax2.plot(val_accuracies_, label=\"val\")\n",
        "    ax2.set_xlabel(\"Epoch\"); ax2.set_ylabel(\"Accuracy\")\n",
        "    ax2.grid()\n",
        "    for ax in axes: ax.legend()\n",
        "\n",
        "def get_predictions(model_ft, dataloaders, type_data):\n",
        "    labels = []\n",
        "    predictions = []\n",
        "    predictions_proba = []\n",
        "\n",
        "    with torch.no_grad():\n",
        "        for batch_x_test, batch_y_test in dataloaders[type_data]:\n",
        "            batch_x_test = batch_x_test.to(device).to(torch.float32)\n",
        "            batch_y_test = batch_y_test.to(device).to(torch.int64)\n",
        "\n",
        "            batch_test_predictions = model_ft(batch_x_test)\n",
        "            # batch_test_predictions = model_conv(batch_x_test)\n",
        "\n",
        "            batch_test_predictions = torch.nn.functional.softmax(batch_test_predictions, dim=-1)\n",
        "            predictions_proba.append(batch_test_predictions)\n",
        "            # print(batch_test_predictions)\n",
        "\n",
        "            batch_test_predictions = batch_test_predictions.max(dim=1).indices\n",
        "            # print(batch_test_predictions)\n",
        "\n",
        "            labels.append(batch_y_test)\n",
        "            predictions.append(batch_test_predictions)\n",
        "\n",
        "    labels = torch.cat(labels, dim=0)\n",
        "    predictions = torch.cat(predictions, dim=0)\n",
        "    predictions_proba = torch.cat(predictions_proba, dim=0)\n",
        "\n",
        "    labels = labels.cpu().numpy()\n",
        "    predictions = predictions.cpu().numpy()\n",
        "    predictions_proba = predictions_proba.cpu().numpy()\n",
        "    return labels, predictions, predictions_proba"
      ]
    },
    {
      "attachments": {},
      "cell_type": "markdown",
      "metadata": {
        "id": "1RAC0vLJGeNg"
      },
      "source": [
        "### Split data"
      ]
    },
    {
      "cell_type": "code",
      "execution_count": 3,
      "metadata": {
        "colab": {
          "base_uri": "https://localhost:8080/",
          "height": 441
        },
        "id": "zWISQyq-NsgY",
        "outputId": "8650caa7-d10f-4e87-9606-41a4404a345e"
      },
      "outputs": [
        {
          "data": {
            "text/html": [
              "<div>\n",
              "<style scoped>\n",
              "    .dataframe tbody tr th:only-of-type {\n",
              "        vertical-align: middle;\n",
              "    }\n",
              "\n",
              "    .dataframe tbody tr th {\n",
              "        vertical-align: top;\n",
              "    }\n",
              "\n",
              "    .dataframe thead th {\n",
              "        text-align: right;\n",
              "    }\n",
              "</style>\n",
              "<table border=\"1\" class=\"dataframe\">\n",
              "  <thead>\n",
              "    <tr style=\"text-align: right;\">\n",
              "      <th></th>\n",
              "      <th>ID</th>\n",
              "      <th>location</th>\n",
              "      <th>level</th>\n",
              "    </tr>\n",
              "  </thead>\n",
              "  <tbody>\n",
              "    <tr>\n",
              "      <th>0</th>\n",
              "      <td>d3d9446802a44259755d38e6d163e820</td>\n",
              "      <td>left</td>\n",
              "      <td>0</td>\n",
              "    </tr>\n",
              "    <tr>\n",
              "      <th>1</th>\n",
              "      <td>d3d9446802a44259755d38e6d163e820</td>\n",
              "      <td>right</td>\n",
              "      <td>0</td>\n",
              "    </tr>\n",
              "    <tr>\n",
              "      <th>2</th>\n",
              "      <td>c51ce410c124a10e0db5e4b97fc2af39</td>\n",
              "      <td>left</td>\n",
              "      <td>0</td>\n",
              "    </tr>\n",
              "    <tr>\n",
              "      <th>3</th>\n",
              "      <td>c51ce410c124a10e0db5e4b97fc2af39</td>\n",
              "      <td>right</td>\n",
              "      <td>0</td>\n",
              "    </tr>\n",
              "    <tr>\n",
              "      <th>4</th>\n",
              "      <td>9bf31c7ff062936a96d3c8bd1f8f2ff3</td>\n",
              "      <td>left</td>\n",
              "      <td>1</td>\n",
              "    </tr>\n",
              "    <tr>\n",
              "      <th>...</th>\n",
              "      <td>...</td>\n",
              "      <td>...</td>\n",
              "      <td>...</td>\n",
              "    </tr>\n",
              "    <tr>\n",
              "      <th>24583</th>\n",
              "      <td>7dc5ece165388748790d8170245197ed</td>\n",
              "      <td>right</td>\n",
              "      <td>0</td>\n",
              "    </tr>\n",
              "    <tr>\n",
              "      <th>24584</th>\n",
              "      <td>e3c216d521607da146fa23d65cfcc6b6</td>\n",
              "      <td>left</td>\n",
              "      <td>0</td>\n",
              "    </tr>\n",
              "    <tr>\n",
              "      <th>24585</th>\n",
              "      <td>e3c216d521607da146fa23d65cfcc6b6</td>\n",
              "      <td>right</td>\n",
              "      <td>0</td>\n",
              "    </tr>\n",
              "    <tr>\n",
              "      <th>24586</th>\n",
              "      <td>54d9ee4df2caa006b994d148f23a9b10</td>\n",
              "      <td>left</td>\n",
              "      <td>0</td>\n",
              "    </tr>\n",
              "    <tr>\n",
              "      <th>24587</th>\n",
              "      <td>54d9ee4df2caa006b994d148f23a9b10</td>\n",
              "      <td>right</td>\n",
              "      <td>0</td>\n",
              "    </tr>\n",
              "  </tbody>\n",
              "</table>\n",
              "<p>24588 rows × 3 columns</p>\n",
              "</div>"
            ],
            "text/plain": [
              "                                     ID location  level\n",
              "0      d3d9446802a44259755d38e6d163e820     left      0\n",
              "1      d3d9446802a44259755d38e6d163e820    right      0\n",
              "2      c51ce410c124a10e0db5e4b97fc2af39     left      0\n",
              "3      c51ce410c124a10e0db5e4b97fc2af39    right      0\n",
              "4      9bf31c7ff062936a96d3c8bd1f8f2ff3     left      1\n",
              "...                                 ...      ...    ...\n",
              "24583  7dc5ece165388748790d8170245197ed    right      0\n",
              "24584  e3c216d521607da146fa23d65cfcc6b6     left      0\n",
              "24585  e3c216d521607da146fa23d65cfcc6b6    right      0\n",
              "24586  54d9ee4df2caa006b994d148f23a9b10     left      0\n",
              "24587  54d9ee4df2caa006b994d148f23a9b10    right      0\n",
              "\n",
              "[24588 rows x 3 columns]"
            ]
          },
          "execution_count": 3,
          "metadata": {},
          "output_type": "execute_result"
        },
        {
          "name": "stdout",
          "output_type": "stream",
          "text": [
            "time: 79.9 ms (started: 2023-07-01 15:44:47 -05:00)\n"
          ]
        }
      ],
      "source": [
        "df = pd.read_csv(\"source/train.csv\")\n",
        "df"
      ]
    },
    {
      "cell_type": "code",
      "execution_count": 4,
      "metadata": {
        "colab": {
          "base_uri": "https://localhost:8080/"
        },
        "id": "t0RuA0yyITq7",
        "outputId": "df041e05-f3eb-4761-f474-16feb78812bd"
      },
      "outputs": [
        {
          "data": {
            "text/plain": [
              "0    18057\n",
              "1     6531\n",
              "Name: level, dtype: int64"
            ]
          },
          "execution_count": 4,
          "metadata": {},
          "output_type": "execute_result"
        },
        {
          "name": "stdout",
          "output_type": "stream",
          "text": [
            "time: 5.31 ms (started: 2023-07-01 15:44:47 -05:00)\n"
          ]
        }
      ],
      "source": [
        "# count classes\n",
        "df[\"level\"].value_counts()"
      ]
    },
    {
      "cell_type": "code",
      "execution_count": 5,
      "metadata": {},
      "outputs": [
        {
          "data": {
            "text/html": [
              "<div>\n",
              "<style scoped>\n",
              "    .dataframe tbody tr th:only-of-type {\n",
              "        vertical-align: middle;\n",
              "    }\n",
              "\n",
              "    .dataframe tbody tr th {\n",
              "        vertical-align: top;\n",
              "    }\n",
              "\n",
              "    .dataframe thead th {\n",
              "        text-align: right;\n",
              "    }\n",
              "</style>\n",
              "<table border=\"1\" class=\"dataframe\">\n",
              "  <thead>\n",
              "    <tr style=\"text-align: right;\">\n",
              "      <th></th>\n",
              "      <th>ID</th>\n",
              "      <th>location</th>\n",
              "    </tr>\n",
              "  </thead>\n",
              "  <tbody>\n",
              "    <tr>\n",
              "      <th>0</th>\n",
              "      <td>d3d9446802a44259755d38e6d163e820</td>\n",
              "      <td>left</td>\n",
              "    </tr>\n",
              "    <tr>\n",
              "      <th>1</th>\n",
              "      <td>d3d9446802a44259755d38e6d163e820</td>\n",
              "      <td>right</td>\n",
              "    </tr>\n",
              "    <tr>\n",
              "      <th>2</th>\n",
              "      <td>c51ce410c124a10e0db5e4b97fc2af39</td>\n",
              "      <td>left</td>\n",
              "    </tr>\n",
              "    <tr>\n",
              "      <th>3</th>\n",
              "      <td>c51ce410c124a10e0db5e4b97fc2af39</td>\n",
              "      <td>right</td>\n",
              "    </tr>\n",
              "    <tr>\n",
              "      <th>4</th>\n",
              "      <td>9bf31c7ff062936a96d3c8bd1f8f2ff3</td>\n",
              "      <td>left</td>\n",
              "    </tr>\n",
              "    <tr>\n",
              "      <th>...</th>\n",
              "      <td>...</td>\n",
              "      <td>...</td>\n",
              "    </tr>\n",
              "    <tr>\n",
              "      <th>24583</th>\n",
              "      <td>7dc5ece165388748790d8170245197ed</td>\n",
              "      <td>right</td>\n",
              "    </tr>\n",
              "    <tr>\n",
              "      <th>24584</th>\n",
              "      <td>e3c216d521607da146fa23d65cfcc6b6</td>\n",
              "      <td>left</td>\n",
              "    </tr>\n",
              "    <tr>\n",
              "      <th>24585</th>\n",
              "      <td>e3c216d521607da146fa23d65cfcc6b6</td>\n",
              "      <td>right</td>\n",
              "    </tr>\n",
              "    <tr>\n",
              "      <th>24586</th>\n",
              "      <td>54d9ee4df2caa006b994d148f23a9b10</td>\n",
              "      <td>left</td>\n",
              "    </tr>\n",
              "    <tr>\n",
              "      <th>24587</th>\n",
              "      <td>54d9ee4df2caa006b994d148f23a9b10</td>\n",
              "      <td>right</td>\n",
              "    </tr>\n",
              "  </tbody>\n",
              "</table>\n",
              "<p>24588 rows × 2 columns</p>\n",
              "</div>"
            ],
            "text/plain": [
              "                                     ID location\n",
              "0      d3d9446802a44259755d38e6d163e820     left\n",
              "1      d3d9446802a44259755d38e6d163e820    right\n",
              "2      c51ce410c124a10e0db5e4b97fc2af39     left\n",
              "3      c51ce410c124a10e0db5e4b97fc2af39    right\n",
              "4      9bf31c7ff062936a96d3c8bd1f8f2ff3     left\n",
              "...                                 ...      ...\n",
              "24583  7dc5ece165388748790d8170245197ed    right\n",
              "24584  e3c216d521607da146fa23d65cfcc6b6     left\n",
              "24585  e3c216d521607da146fa23d65cfcc6b6    right\n",
              "24586  54d9ee4df2caa006b994d148f23a9b10     left\n",
              "24587  54d9ee4df2caa006b994d148f23a9b10    right\n",
              "\n",
              "[24588 rows x 2 columns]"
            ]
          },
          "execution_count": 5,
          "metadata": {},
          "output_type": "execute_result"
        },
        {
          "name": "stdout",
          "output_type": "stream",
          "text": [
            "time: 17.3 ms (started: 2023-07-01 15:44:47 -05:00)\n"
          ]
        }
      ],
      "source": [
        "df_X = df.iloc[:, :-1]\n",
        "df_X"
      ]
    },
    {
      "cell_type": "code",
      "execution_count": 6,
      "metadata": {},
      "outputs": [
        {
          "data": {
            "text/html": [
              "<div>\n",
              "<style scoped>\n",
              "    .dataframe tbody tr th:only-of-type {\n",
              "        vertical-align: middle;\n",
              "    }\n",
              "\n",
              "    .dataframe tbody tr th {\n",
              "        vertical-align: top;\n",
              "    }\n",
              "\n",
              "    .dataframe thead th {\n",
              "        text-align: right;\n",
              "    }\n",
              "</style>\n",
              "<table border=\"1\" class=\"dataframe\">\n",
              "  <thead>\n",
              "    <tr style=\"text-align: right;\">\n",
              "      <th></th>\n",
              "      <th>level</th>\n",
              "    </tr>\n",
              "  </thead>\n",
              "  <tbody>\n",
              "    <tr>\n",
              "      <th>0</th>\n",
              "      <td>0</td>\n",
              "    </tr>\n",
              "    <tr>\n",
              "      <th>1</th>\n",
              "      <td>0</td>\n",
              "    </tr>\n",
              "    <tr>\n",
              "      <th>2</th>\n",
              "      <td>0</td>\n",
              "    </tr>\n",
              "    <tr>\n",
              "      <th>3</th>\n",
              "      <td>0</td>\n",
              "    </tr>\n",
              "    <tr>\n",
              "      <th>4</th>\n",
              "      <td>1</td>\n",
              "    </tr>\n",
              "    <tr>\n",
              "      <th>...</th>\n",
              "      <td>...</td>\n",
              "    </tr>\n",
              "    <tr>\n",
              "      <th>24583</th>\n",
              "      <td>0</td>\n",
              "    </tr>\n",
              "    <tr>\n",
              "      <th>24584</th>\n",
              "      <td>0</td>\n",
              "    </tr>\n",
              "    <tr>\n",
              "      <th>24585</th>\n",
              "      <td>0</td>\n",
              "    </tr>\n",
              "    <tr>\n",
              "      <th>24586</th>\n",
              "      <td>0</td>\n",
              "    </tr>\n",
              "    <tr>\n",
              "      <th>24587</th>\n",
              "      <td>0</td>\n",
              "    </tr>\n",
              "  </tbody>\n",
              "</table>\n",
              "<p>24588 rows × 1 columns</p>\n",
              "</div>"
            ],
            "text/plain": [
              "       level\n",
              "0          0\n",
              "1          0\n",
              "2          0\n",
              "3          0\n",
              "4          1\n",
              "...      ...\n",
              "24583      0\n",
              "24584      0\n",
              "24585      0\n",
              "24586      0\n",
              "24587      0\n",
              "\n",
              "[24588 rows x 1 columns]"
            ]
          },
          "execution_count": 6,
          "metadata": {},
          "output_type": "execute_result"
        },
        {
          "name": "stdout",
          "output_type": "stream",
          "text": [
            "time: 17.1 ms (started: 2023-07-01 15:44:47 -05:00)\n"
          ]
        }
      ],
      "source": [
        "df_y = df.iloc[:, -1:]\n",
        "df_y"
      ]
    },
    {
      "cell_type": "code",
      "execution_count": 7,
      "metadata": {},
      "outputs": [
        {
          "data": {
            "text/plain": [
              "(19670, 4918, 19670, 4918)"
            ]
          },
          "execution_count": 7,
          "metadata": {},
          "output_type": "execute_result"
        },
        {
          "name": "stdout",
          "output_type": "stream",
          "text": [
            "time: 95.3 ms (started: 2023-07-01 15:44:47 -05:00)\n"
          ]
        }
      ],
      "source": [
        "# df_train, df_test = train_test_split(df, test_size=0.2, random_state=42)\n",
        "X_train, X_test, y_train, y_test = train_test_split(df_X, df_y, test_size=0.2, random_state=42, stratify=df_y)\n",
        "len(X_train), len(X_test), len(y_train), len(y_test)"
      ]
    },
    {
      "cell_type": "code",
      "execution_count": 8,
      "metadata": {},
      "outputs": [
        {
          "data": {
            "text/html": [
              "<div>\n",
              "<style scoped>\n",
              "    .dataframe tbody tr th:only-of-type {\n",
              "        vertical-align: middle;\n",
              "    }\n",
              "\n",
              "    .dataframe tbody tr th {\n",
              "        vertical-align: top;\n",
              "    }\n",
              "\n",
              "    .dataframe thead th {\n",
              "        text-align: right;\n",
              "    }\n",
              "</style>\n",
              "<table border=\"1\" class=\"dataframe\">\n",
              "  <thead>\n",
              "    <tr style=\"text-align: right;\">\n",
              "      <th></th>\n",
              "      <th>ID</th>\n",
              "      <th>location</th>\n",
              "      <th>level</th>\n",
              "    </tr>\n",
              "  </thead>\n",
              "  <tbody>\n",
              "    <tr>\n",
              "      <th>328</th>\n",
              "      <td>3dc4876f3f08201c7c76cb71fa1da439</td>\n",
              "      <td>left</td>\n",
              "      <td>0</td>\n",
              "    </tr>\n",
              "    <tr>\n",
              "      <th>16271</th>\n",
              "      <td>dd24bf1f94c244e91a4a783a50f36b6f</td>\n",
              "      <td>right</td>\n",
              "      <td>0</td>\n",
              "    </tr>\n",
              "    <tr>\n",
              "      <th>7110</th>\n",
              "      <td>a0b173044f2019316bebc411696e7d35</td>\n",
              "      <td>left</td>\n",
              "      <td>0</td>\n",
              "    </tr>\n",
              "    <tr>\n",
              "      <th>12530</th>\n",
              "      <td>d79bc606792288b59c64959c6bcbf5d5</td>\n",
              "      <td>left</td>\n",
              "      <td>0</td>\n",
              "    </tr>\n",
              "    <tr>\n",
              "      <th>8871</th>\n",
              "      <td>b0263bc40e0ff50f481b85a968c30ac1</td>\n",
              "      <td>right</td>\n",
              "      <td>0</td>\n",
              "    </tr>\n",
              "    <tr>\n",
              "      <th>...</th>\n",
              "      <td>...</td>\n",
              "      <td>...</td>\n",
              "      <td>...</td>\n",
              "    </tr>\n",
              "    <tr>\n",
              "      <th>13812</th>\n",
              "      <td>614794dbe82384e43122cc92e6a66f6f</td>\n",
              "      <td>left</td>\n",
              "      <td>1</td>\n",
              "    </tr>\n",
              "    <tr>\n",
              "      <th>16999</th>\n",
              "      <td>252a3893179658de41f437d975468205</td>\n",
              "      <td>right</td>\n",
              "      <td>0</td>\n",
              "    </tr>\n",
              "    <tr>\n",
              "      <th>9356</th>\n",
              "      <td>34f9679482b481012016f1f5c8b977f0</td>\n",
              "      <td>left</td>\n",
              "      <td>0</td>\n",
              "    </tr>\n",
              "    <tr>\n",
              "      <th>3042</th>\n",
              "      <td>66fae5b05c0f64c4d2bdcdf1ad85f7b2</td>\n",
              "      <td>left</td>\n",
              "      <td>0</td>\n",
              "    </tr>\n",
              "    <tr>\n",
              "      <th>10303</th>\n",
              "      <td>04e35ab54388b691735c8b4231d387a1</td>\n",
              "      <td>right</td>\n",
              "      <td>0</td>\n",
              "    </tr>\n",
              "  </tbody>\n",
              "</table>\n",
              "<p>19670 rows × 3 columns</p>\n",
              "</div>"
            ],
            "text/plain": [
              "                                     ID location  level\n",
              "328    3dc4876f3f08201c7c76cb71fa1da439     left      0\n",
              "16271  dd24bf1f94c244e91a4a783a50f36b6f    right      0\n",
              "7110   a0b173044f2019316bebc411696e7d35     left      0\n",
              "12530  d79bc606792288b59c64959c6bcbf5d5     left      0\n",
              "8871   b0263bc40e0ff50f481b85a968c30ac1    right      0\n",
              "...                                 ...      ...    ...\n",
              "13812  614794dbe82384e43122cc92e6a66f6f     left      1\n",
              "16999  252a3893179658de41f437d975468205    right      0\n",
              "9356   34f9679482b481012016f1f5c8b977f0     left      0\n",
              "3042   66fae5b05c0f64c4d2bdcdf1ad85f7b2     left      0\n",
              "10303  04e35ab54388b691735c8b4231d387a1    right      0\n",
              "\n",
              "[19670 rows x 3 columns]"
            ]
          },
          "execution_count": 8,
          "metadata": {},
          "output_type": "execute_result"
        },
        {
          "name": "stdout",
          "output_type": "stream",
          "text": [
            "time: 13.6 ms (started: 2023-07-01 15:44:48 -05:00)\n"
          ]
        }
      ],
      "source": [
        "df_train = X_train.copy()\n",
        "df_train[\"level\"] = y_train\n",
        "df_train"
      ]
    },
    {
      "cell_type": "code",
      "execution_count": 9,
      "metadata": {},
      "outputs": [
        {
          "data": {
            "text/html": [
              "<div>\n",
              "<style scoped>\n",
              "    .dataframe tbody tr th:only-of-type {\n",
              "        vertical-align: middle;\n",
              "    }\n",
              "\n",
              "    .dataframe tbody tr th {\n",
              "        vertical-align: top;\n",
              "    }\n",
              "\n",
              "    .dataframe thead th {\n",
              "        text-align: right;\n",
              "    }\n",
              "</style>\n",
              "<table border=\"1\" class=\"dataframe\">\n",
              "  <thead>\n",
              "    <tr style=\"text-align: right;\">\n",
              "      <th></th>\n",
              "      <th>ID</th>\n",
              "      <th>location</th>\n",
              "      <th>level</th>\n",
              "    </tr>\n",
              "  </thead>\n",
              "  <tbody>\n",
              "    <tr>\n",
              "      <th>11916</th>\n",
              "      <td>8bc96a461bd0ce6616f30b9383b7427d</td>\n",
              "      <td>left</td>\n",
              "      <td>1</td>\n",
              "    </tr>\n",
              "    <tr>\n",
              "      <th>23962</th>\n",
              "      <td>080261e4427a081fc6e637b654f590ee</td>\n",
              "      <td>left</td>\n",
              "      <td>0</td>\n",
              "    </tr>\n",
              "    <tr>\n",
              "      <th>8273</th>\n",
              "      <td>d16c8f18bdee715020ec90b5ec04e9d4</td>\n",
              "      <td>right</td>\n",
              "      <td>0</td>\n",
              "    </tr>\n",
              "    <tr>\n",
              "      <th>2103</th>\n",
              "      <td>62e7f2e090fe150ef8deb4466fdc81b3</td>\n",
              "      <td>right</td>\n",
              "      <td>0</td>\n",
              "    </tr>\n",
              "    <tr>\n",
              "      <th>5340</th>\n",
              "      <td>2bdfb48c5fa7d2344b71ef45c8a7d31c</td>\n",
              "      <td>left</td>\n",
              "      <td>1</td>\n",
              "    </tr>\n",
              "    <tr>\n",
              "      <th>...</th>\n",
              "      <td>...</td>\n",
              "      <td>...</td>\n",
              "      <td>...</td>\n",
              "    </tr>\n",
              "    <tr>\n",
              "      <th>16463</th>\n",
              "      <td>65742cafb273e12fc7bb968b5fca065e</td>\n",
              "      <td>right</td>\n",
              "      <td>1</td>\n",
              "    </tr>\n",
              "    <tr>\n",
              "      <th>7593</th>\n",
              "      <td>8e887cf8e64ab8e7173701a979476567</td>\n",
              "      <td>right</td>\n",
              "      <td>0</td>\n",
              "    </tr>\n",
              "    <tr>\n",
              "      <th>9146</th>\n",
              "      <td>5939cbe46f1512291125700ee2e7236a</td>\n",
              "      <td>left</td>\n",
              "      <td>0</td>\n",
              "    </tr>\n",
              "    <tr>\n",
              "      <th>708</th>\n",
              "      <td>36a1694bce9815b7e38a9dad05ad42e0</td>\n",
              "      <td>left</td>\n",
              "      <td>0</td>\n",
              "    </tr>\n",
              "    <tr>\n",
              "      <th>4084</th>\n",
              "      <td>52fc2aee802efbad698503d28ebd3a1f</td>\n",
              "      <td>left</td>\n",
              "      <td>0</td>\n",
              "    </tr>\n",
              "  </tbody>\n",
              "</table>\n",
              "<p>4918 rows × 3 columns</p>\n",
              "</div>"
            ],
            "text/plain": [
              "                                     ID location  level\n",
              "11916  8bc96a461bd0ce6616f30b9383b7427d     left      1\n",
              "23962  080261e4427a081fc6e637b654f590ee     left      0\n",
              "8273   d16c8f18bdee715020ec90b5ec04e9d4    right      0\n",
              "2103   62e7f2e090fe150ef8deb4466fdc81b3    right      0\n",
              "5340   2bdfb48c5fa7d2344b71ef45c8a7d31c     left      1\n",
              "...                                 ...      ...    ...\n",
              "16463  65742cafb273e12fc7bb968b5fca065e    right      1\n",
              "7593   8e887cf8e64ab8e7173701a979476567    right      0\n",
              "9146   5939cbe46f1512291125700ee2e7236a     left      0\n",
              "708    36a1694bce9815b7e38a9dad05ad42e0     left      0\n",
              "4084   52fc2aee802efbad698503d28ebd3a1f     left      0\n",
              "\n",
              "[4918 rows x 3 columns]"
            ]
          },
          "execution_count": 9,
          "metadata": {},
          "output_type": "execute_result"
        },
        {
          "name": "stdout",
          "output_type": "stream",
          "text": [
            "time: 13.2 ms (started: 2023-07-01 15:44:48 -05:00)\n"
          ]
        }
      ],
      "source": [
        "df_test = X_test.copy()\n",
        "df_test[\"level\"] = y_test\n",
        "df_test"
      ]
    },
    {
      "cell_type": "code",
      "execution_count": 10,
      "metadata": {
        "colab": {
          "base_uri": "https://localhost:8080/"
        },
        "id": "I9nkO1ifIesW",
        "outputId": "ff8f38b5-8547-48a9-cb3e-402a56946b66"
      },
      "outputs": [
        {
          "name": "stdout",
          "output_type": "stream",
          "text": [
            "time: 12.7 ms (started: 2023-07-01 15:44:48 -05:00)\n"
          ]
        }
      ],
      "source": [
        "# move image into train and test folder\n",
        "# move_split(df_train, \"train\")\n",
        "# move_split(df_test, \"val\")"
      ]
    },
    {
      "attachments": {},
      "cell_type": "markdown",
      "metadata": {
        "id": "Sg-eScWwJgsN"
      },
      "source": [
        "### Initialize and Reshape the networks"
      ]
    },
    {
      "attachments": {},
      "cell_type": "markdown",
      "metadata": {
        "id": "4b0blWotqRIV"
      },
      "source": [
        "Set Model Parameters’ .requires_grad attribute\n",
        "~~~~~~~~~~~~~~~~~~~~~~~~~~~~~~~~~~~~~~~~~~~~~~\n",
        "\n",
        "This helper function sets the ``.requires_grad`` attribute of the\n",
        "parameters in the model to False when we are feature extracting. By\n",
        "default, when we load a pretrained model all of the parameters have\n",
        "``.requires_grad=True``, which is fine if we are training from scratch\n",
        "or finetuning. However, if we are feature extracting and only want to\n",
        "compute gradients for the newly initialized layer then we want all of\n",
        "the other parameters to not require gradients. This will make more sense\n",
        "later."
      ]
    },
    {
      "attachments": {},
      "cell_type": "markdown",
      "metadata": {
        "id": "JWmsZnoOKJys"
      },
      "source": [
        "#### Details"
      ]
    },
    {
      "attachments": {},
      "cell_type": "markdown",
      "metadata": {
        "id": "qSQWr6_PqRIW"
      },
      "source": [
        "Now to the most interesting part. Here is where we handle the reshaping\n",
        "of each network. Note, this is not an automatic procedure and is unique\n",
        "to each model. Recall, the final layer of a CNN model, which is often\n",
        "times an FC layer, has the same number of nodes as the number of output\n",
        "classes in the dataset. Since all of the models have been pretrained on\n",
        "Imagenet, they all have output layers of size 1000, one node for each\n",
        "class. The goal here is to reshape the last layer to have the same\n",
        "number of inputs as before, AND to have the same number of outputs as\n",
        "the number of classes in the dataset. In the following sections we will\n",
        "discuss how to alter the architecture of each model individually. But\n",
        "first, there is one important detail regarding the difference between\n",
        "finetuning and feature-extraction.\n",
        "\n",
        "When feature extracting, we only want to update the parameters of the\n",
        "last layer, or in other words, we only want to update the parameters for\n",
        "the layer(s) we are reshaping. Therefore, we do not need to compute the\n",
        "gradients of the parameters that we are not changing, so for efficiency\n",
        "we set the .requires_grad attribute to False. This is important because\n",
        "by default, this attribute is set to True. Then, when we initialize the\n",
        "new layer and by default the new parameters have ``.requires_grad=True``\n",
        "so only the new layer’s parameters will be updated. When we are\n",
        "finetuning we can leave all of the .required_grad’s set to the default\n",
        "of True.\n",
        "\n",
        "Finally, notice that inception_v3 requires the input size to be\n",
        "(299,299), whereas all of the other models expect (224,224).\n",
        "\n",
        "```python \n",
        "model_ft = models.alexnet(weights=\"IMAGENET1K_V1\")\n",
        "\"\"\"\n",
        "(classifier): Sequential(\n",
        "    (0): Dropout(p=0.5, inplace=False)\n",
        "    (1): Linear(in_features=9216, out_features=4096, bias=True)\n",
        "    (2): ReLU(inplace=True)\n",
        "    (3): Dropout(p=0.5, inplace=False)\n",
        "    (4): Linear(in_features=4096, out_features=4096, bias=True)\n",
        "    (5): ReLU(inplace=True)\n",
        "    (6): Linear(in_features=4096, out_features=1000, bias=True)\n",
        ")\n",
        "crop_size=[224]\n",
        "\"\"\"\n",
        "\n",
        "model_ft = models.convnext_large(weights=\"IMAGENET1K_V1\")\n",
        "\"\"\"\n",
        "(classifier): Sequential(\n",
        "    (0): LayerNorm2d((1536,), eps=1e-06, elementwise_affine=True)\n",
        "    (1): Flatten(start_dim=1, end_dim=-1)\n",
        "    (2): Linear(in_features=1536, out_features=1000, bias=True)\n",
        ")\n",
        "crop_size=[224]\n",
        "\"\"\"\n",
        "\n",
        "model_ft = models.densenet201(weights=\"IMAGENET1K_V1\")\n",
        "\"\"\"\n",
        "(classifier): Linear(in_features=1920, out_features=1000, bias=True)\n",
        "crop_size=[224]\n",
        "\"\"\"\n",
        "\n",
        "model_ft = models.efficientnet_v2_l(weights=\"IMAGENET1K_V1\")\n",
        "\"\"\"\n",
        "(classifier): Sequential(\n",
        "    (0): Dropout(p=0.4, inplace=True)\n",
        "    (1): Linear(in_features=1280, out_features=1000, bias=True)\n",
        ")\n",
        "crop_size=[480]\n",
        "\"\"\"\n",
        "\n",
        "model_ft = models.googlenet(weights=\"IMAGENET1K_V1\")\n",
        "\"\"\"\n",
        "(fc): Linear(in_features=1024, out_features=1000, bias=True)\n",
        "crop_size=[384]\n",
        "\"\"\"\n",
        "\n",
        "model_ft = models.inception_v3(weights=\"IMAGENET1K_V1\")\n",
        "\"\"\"\n",
        "(fc): Linear(in_features=2048, out_features=1000, bias=True)\n",
        "crop_size=[299]\n",
        "\"\"\"\n",
        "\n",
        "model_ft = models.mnasnet1_3(weights=\"IMAGENET1K_V1\")\n",
        "\"\"\"\n",
        "(classifier): Sequential(\n",
        "    (0): Dropout(p=0.2, inplace=True)\n",
        "    (1): Linear(in_features=1280, out_features=1000, bias=True)\n",
        ")\n",
        "crop_size=[224]\n",
        "\"\"\"\n",
        "\n",
        "model_ft = models.maxvit_t(weights=\"IMAGENET1K_V1\")\n",
        "\"\"\"\n",
        "(classifier): Sequential(\n",
        "    (0): AdaptiveAvgPool2d(output_size=1)\n",
        "    (1): Flatten(start_dim=1, end_dim=-1)\n",
        "    (2): LayerNorm((512,), eps=1e-05, elementwise_affine=True)\n",
        "    (3): Linear(in_features=512, out_features=512, bias=True)\n",
        "    (4): Tanh()\n",
        "    (5): Linear(in_features=512, out_features=1000, bias=False)\n",
        ")\n",
        "crop_size=[224]\n",
        "\"\"\"\n",
        "\n",
        "model_ft = models.mobilenet_v3_large(weights=\"IMAGENET1K_V2\")\n",
        "\"\"\"\n",
        "(classifier): Sequential(\n",
        "    (0): Linear(in_features=960, out_features=1280, bias=True)\n",
        "    (1): Hardswish()\n",
        "    (2): Dropout(p=0.2, inplace=True)\n",
        "    (3): Linear(in_features=1280, out_features=1000, bias=True)\n",
        ")\n",
        "crop_size=[224]\n",
        "\"\"\"\n",
        "\n",
        "model_ft = models.regnet_y_128gf(weights=\"IMAGENET1K_SWAG_E2E_V1\")\n",
        "\"\"\"\n",
        "(fc): Linear(in_features=7392, out_features=1000, bias=True)\n",
        "crop_size=[384]\n",
        "\"\"\"\n",
        "\n",
        "model_ft = models.resnext101_64x4d(weights=\"IMAGENET1K_V1\")\n",
        "\"\"\"\n",
        "(fc): Linear(in_features=2048, out_features=1000, bias=True)\n",
        "crop_size=[224]\n",
        "\"\"\"\n",
        "\n",
        "model_ft = models.resnet152(weights=\"IMAGENET1K_V2\")\n",
        "\"\"\"\n",
        "(fc): Linear(in_features=2048, out_features=1000, bias=True)\n",
        "crop_size=[224]\n",
        "\"\"\"\n",
        "\n",
        "model_ft = models.shufflenet_v2_x2_0(weights=\"IMAGENET1K_V1\")\n",
        "\"\"\"\n",
        "(fc): Linear(in_features=2048, out_features=1000, bias=True)\n",
        "crop_size=[224]\n",
        "\"\"\"\n",
        "\n",
        "model_ft = models.squeezenet1_1(weights=\"IMAGENET1K_V1\")\n",
        "\"\"\"\n",
        "(classifier): Sequential(\n",
        "    (0): Dropout(p=0.5, inplace=False)\n",
        "    (1): Conv2d(512, 1000, kernel_size=(1, 1), stride=(1, 1))\n",
        "    (2): ReLU(inplace=True)\n",
        "    (3): AdaptiveAvgPool2d(output_size=(1, 1))\n",
        "  )\n",
        "crop_size=[224]\n",
        "\"\"\"\n",
        "\n",
        "model_ft = models.swin_v2_b(weights=\"IMAGENET1K_V1\")\n",
        "\"\"\"\n",
        "(head): Linear(in_features=1024, out_features=1000, bias=True)\n",
        "crop_size=[256]\n",
        "\"\"\"\n",
        "\n",
        "model_ft = models.vgg19_bn(weights=\"IMAGENET1K_V1\")\n",
        "\"\"\"\n",
        "(classifier): Sequential(\n",
        "    (0): Linear(in_features=25088, out_features=4096, bias=True)\n",
        "    (1): ReLU(inplace=True)\n",
        "    (2): Dropout(p=0.5, inplace=False)\n",
        "    (3): Linear(in_features=4096, out_features=4096, bias=True)\n",
        "    (4): ReLU(inplace=True)\n",
        "    (5): Dropout(p=0.5, inplace=False)\n",
        "    (6): Linear(in_features=4096, out_features=1000, bias=True)\n",
        ")\n",
        "crop_size=[224]\n",
        "\"\"\"\n",
        "\n",
        "model_ft = models.vit_h_14(weights=\"IMAGENET1K_SWAG_E2E_V1\")\n",
        "\"\"\"\n",
        "(heads): Sequential(\n",
        "    (head): Linear(in_features=1280, out_features=1000, bias=True)\n",
        ")\n",
        "crop_size=[518]\n",
        "\"\"\"\n",
        "\n",
        "model_ft = models.wide_resnet101_2(weights=\"IMAGENET1K_V2\")\n",
        "\"\"\"\n",
        "(fc): Linear(in_features=2048, out_features=1000, bias=True)\n",
        "crop_size=[224]\n",
        "\"\"\"\n",
        "```\n",
        "\n",
        "Notice, many of the models have similar output structures, but each must\n",
        "be handled slightly differently. Also, check out the printed model\n",
        "architecture of the reshaped network and make sure the number of output\n",
        "features is the same as the number of classes in the dataset.\n",
        "\n",
        "\n"
      ]
    },
    {
      "attachments": {},
      "cell_type": "markdown",
      "metadata": {
        "id": "ImsFin2V8yGz"
      },
      "source": [
        "### Load data\n",
        "\n",
        "We will use torchvision and torch.utils.data packages for loading the\n",
        "data."
      ]
    },
    {
      "attachments": {},
      "cell_type": "markdown",
      "metadata": {},
      "source": [
        "```\n",
        "├── transfer_learning.ipynb\n",
        "└── dataset ← data dir here\n",
        "    ├── train\n",
        "    │   ├── class_1\n",
        "    │   └── class_2\n",
        "    ├── test\n",
        "    │   ├── class_1\n",
        "    └── └── class_2\n",
        "```"
      ]
    },
    {
      "cell_type": "code",
      "execution_count": 10,
      "metadata": {},
      "outputs": [
        {
          "name": "stdout",
          "output_type": "stream",
          "text": [
            "'Go_transfer_learning_template copy.ipynb'   source\n",
            " Go_transfer_learning_template.ipynb\t     test_neptune.ipynb\n",
            " README.md\t\t\t\t     test_neptune.py\n",
            " dataset\t\t\t\t     utils.py\n",
            " environment.yml\n",
            "time: 792 ms (started: 2023-07-04 16:00:19 -05:00)\n"
          ]
        }
      ],
      "source": [
        "!ls"
      ]
    },
    {
      "cell_type": "code",
      "execution_count": 3,
      "metadata": {
        "notebookRunGroups": {
          "groupValue": "1"
        }
      },
      "outputs": [
        {
          "name": "stdout",
          "output_type": "stream",
          "text": [
            "train\n"
          ]
        },
        {
          "name": "stdout",
          "output_type": "stream",
          "text": [
            "Memory consumed: 0 mb\n",
            "Classes: ['class_0', 'class_1']\n",
            "Class count: 14445, 5225\n",
            "Samples: 19670\n",
            "First sample: ('dataset/train/class_0/000c076c390a4c357313fca29e390ece_left.jpg', 0)\n",
            "Class: class_0\n",
            "Image data type: <class 'PIL.Image.Image'>\n",
            "Image size: (800, 533)\n",
            "\n",
            "val\n",
            "Memory consumed: 0 mb\n",
            "Classes: ['class_0', 'class_1']\n",
            "Class count: 3612, 1306\n",
            "Samples: 4918\n",
            "First sample: ('dataset/val/class_0/00126b47d5502dfb7d01f750ad23d813_right.jpg', 0)\n",
            "Class: class_0\n",
            "Image data type: <class 'PIL.Image.Image'>\n",
            "Image size: (800, 533)\n",
            "\n",
            "time: 534 ms (started: 2023-07-05 22:29:37 -05:00)\n"
          ]
        }
      ],
      "source": [
        "# images information\n",
        "data_dir = \"dataset\"\n",
        "image_datasets = {x: datasets.ImageFolder(os.path.join(data_dir, x)) for x in [\"train\", \"val\"]}\n",
        "\n",
        "for x in [\"train\", \"val\"]:\n",
        "    print(x)\n",
        "    mem = memory_profiler.memory_usage()[0]\n",
        "    train_dataset = image_datasets[x]\n",
        "    print(f\"Memory consumed: {memory_profiler.memory_usage()[0] - mem:.0f} mb\")\n",
        "\n",
        "    print(f\"Classes: {train_dataset.classes}\")\n",
        "    print(f\"Class count: {train_dataset.targets.count(0)}, {train_dataset.targets.count(1)}\")\n",
        "    print(f\"Samples:\",len(train_dataset))\n",
        "    print(f\"First sample: {train_dataset.samples[0]}\")\n",
        "\n",
        "    img, target = next(iter(train_dataset))\n",
        "    print(f\"Class: {train_dataset.classes[target]}\")\n",
        "    img\n",
        "\n",
        "    print(f\"Image data type: {type(img)}\")\n",
        "    print(f\"Image size: {img.size}\")\n",
        "    print()"
      ]
    },
    {
      "cell_type": "code",
      "execution_count": 4,
      "metadata": {
        "notebookRunGroups": {
          "groupValue": "1"
        }
      },
      "outputs": [
        {
          "name": "stdout",
          "output_type": "stream",
          "text": [
            "\n",
            "Min/max values for each band in the image:\n",
            "    [(0, 255), (0, 253), (0, 232)]\n",
            "\n",
            "Total number of pixels for each band in the image:\n",
            "    [426400, 426400, 426400]\n",
            "\n",
            "Sum of all pixels for each band in the image:\n",
            "    [47027351.0, 39486656.0, 34987839.0]\n",
            "\n",
            "Squared sum of all pixels for each band in the image:\n",
            "    [7462613199.0, 5171815206.0, 4000350675.0]\n",
            "\n",
            "Average (arithmetic mean) pixel level for each band in the image:\n",
            "    [110.28928470919324, 92.60472795497186, 82.05403142589118]\n",
            "\n",
            "Median pixel level for each band in the image:\n",
            "    [131, 109, 99]\n",
            "\n",
            "RMS (root-mean-square) for each band in the image:\n",
            "    [132.293000888024, 110.13184157246526, 96.85910100726834]\n",
            "\n",
            "Variance for each band in the image:\n",
            "    [5337.711762293237, 3553.3868885282427, 2648.821374695073]\n",
            "\n",
            "Standard deviation for each band in the image:\n",
            "    [73.05964523793719, 59.610291800395025, 51.46670161079951]\n",
            "\n",
            "time: 4.83 ms (started: 2023-07-05 22:29:37 -05:00)\n"
          ]
        }
      ],
      "source": [
        "# get mean and std\n",
        "from PIL import Image, ImageStat\n",
        "train_dataset = image_datasets[\"train\"]\n",
        "stat = ImageStat.Stat(img)\n",
        "\n",
        "print(\"\"\"\n",
        "Min/max values for each band in the image:\n",
        "    {.extrema}\n",
        "\n",
        "Total number of pixels for each band in the image:\n",
        "    {.count}\n",
        "\n",
        "Sum of all pixels for each band in the image:\n",
        "    {.sum}\n",
        "\n",
        "Squared sum of all pixels for each band in the image:\n",
        "    {.sum2}\n",
        "\n",
        "Average (arithmetic mean) pixel level for each band in the image:\n",
        "    {.mean}\n",
        "\n",
        "Median pixel level for each band in the image:\n",
        "    {.median}\n",
        "\n",
        "RMS (root-mean-square) for each band in the image:\n",
        "    {.rms}\n",
        "\n",
        "Variance for each band in the image:\n",
        "    {.var}\n",
        "\n",
        "Standard deviation for each band in the image:\n",
        "    {.stddev}\n",
        "\"\"\".format(*((stat, ) * 9)))"
      ]
    },
    {
      "cell_type": "code",
      "execution_count": 5,
      "metadata": {
        "notebookRunGroups": {
          "groupValue": "1"
        }
      },
      "outputs": [
        {
          "name": "stdout",
          "output_type": "stream",
          "text": [
            "mean: [0.4325069988595813, 0.3660265927073987, 0.35368116993918614]\n",
            "std: [0.2865084126977929, 0.23561380158258904, 0.22183923108103237]\n",
            "time: 8.83 ms (started: 2023-07-05 22:29:37 -05:00)\n"
          ]
        }
      ],
      "source": [
        "# mean and std for normalization\n",
        "max_ = stat.extrema\n",
        "mean_ = stat.mean\n",
        "std_ = stat.stddev\n",
        "\n",
        "mean = []\n",
        "std = []\n",
        "\n",
        "for k in range(len(max_)):\n",
        "    mean.append(mean_[k] / max_[k][1])\n",
        "    std.append(std_[k] / max_[k][1])\n",
        "\n",
        "print(\"mean:\", mean)\n",
        "print(\"std:\", std)"
      ]
    },
    {
      "attachments": {},
      "cell_type": "markdown",
      "metadata": {
        "id": "MbzVjjHI8yG0"
      },
      "source": [
        "### Visualize a few images\n",
        "\n",
        "Let\"s visualize a few training images so as to understand the data\n",
        "augmentations."
      ]
    },
    {
      "cell_type": "code",
      "execution_count": null,
      "metadata": {
        "colab": {
          "base_uri": "https://localhost:8080/",
          "height": 162
        },
        "id": "ZMQZKsjj8yG0",
        "outputId": "fae6cf54-9e1c-44ab-eae8-ca593357e728"
      },
      "outputs": [],
      "source": [
        "# Get a batch of training data\n",
        "inputs, classes = next(iter(dataloaders[\"train\"]))\n",
        "\n",
        "# Make a grid from batch\n",
        "out = torchvision.utils.make_grid(inputs)\n",
        "\n",
        "imshow(out, title=[class_names[x] for x in classes])"
      ]
    },
    {
      "cell_type": "code",
      "execution_count": null,
      "metadata": {},
      "outputs": [
        {
          "name": "stdout",
          "output_type": "stream",
          "text": [
            "Image data type: <class 'torch.Tensor'>\n",
            "Image size: torch.Size([8, 3, 224, 224])\n",
            "time: 1.21 ms (started: 2023-06-30 23:06:52 -05:00)\n"
          ]
        }
      ],
      "source": [
        "print(f\"Image data type: {type(inputs)}\")\n",
        "print(f\"Image size: {inputs.shape}\")"
      ]
    },
    {
      "attachments": {},
      "cell_type": "markdown",
      "metadata": {
        "id": "c6X9scrh8yG1"
      },
      "source": [
        "### Training the model\n",
        "\n",
        "Now, let\"s write a general function to train a model. Here, we will\n",
        "illustrate:\n",
        "\n",
        "-  Scheduling the learning rate\n",
        "-  Saving the best model\n",
        "\n",
        "In the following, parameter ``scheduler`` is an LR scheduler object from\n",
        "``torch.optim.lr_scheduler``."
      ]
    },
    {
      "attachments": {},
      "cell_type": "markdown",
      "metadata": {
        "id": "RrNqkFvy8yG2"
      },
      "source": [
        "### Fine Tuning\n",
        "\n",
        "Load a pretrained model and reset final fully connected layer."
      ]
    },
    {
      "cell_type": "code",
      "execution_count": null,
      "metadata": {},
      "outputs": [],
      "source": [
        "run = neptune.init_run(\n",
        "    project=\"edwin.alvarez/Kaggle-GC\",\n",
        "    api_token=\"eyJhcGlfYWRkcmVzcyI6Imh0dHBzOi8vYXBwLm5lcHR1bmUuYWkiLCJhcGlfdXJsIjoiaHR0cHM6Ly9hcHAubmVwdHVuZS5haSIsImFwaV9rZXkiOiIwZjM0NzgxNy1lMDI1LTQxMzgtYTE2NS03OTIwOWY5NzgwNTkifQ==\",\n",
        ")  # your credentials\n",
        "\n",
        "parameters = {\n",
        "    \"model_name\": model_name,\n",
        "    \"num_classes\": num_classes,\n",
        "    \"batch_size\": batch_size,\n",
        "    \"num_epochs\": num_epochs\n",
        "}\n",
        "run[\"parameters\"] = parameters\n",
        "run[\"option/name\"] = \"fine tuning\""
      ]
    },
    {
      "cell_type": "code",
      "execution_count": null,
      "metadata": {
        "colab": {
          "base_uri": "https://localhost:8080/"
        },
        "id": "z9tMQe-W8yG2",
        "outputId": "eb9fb15b-2305-404e-e879-1124d423377a"
      },
      "outputs": [
        {
          "name": "stdout",
          "output_type": "stream",
          "text": [
            "time: 361 ms (started: 2023-06-29 18:41:59 -05:00)\n"
          ]
        }
      ],
      "source": [
        "device = torch.device(\"cuda:0\" if torch.cuda.is_available() else \"cpu\")\n",
        "device\n",
        "\n",
        "model_ft, input_size = initialize_model(model_name, num_classes, feature_extract=False, use_pretrained=True)\n",
        "model_ft = model_ft.to(device)\n",
        "\n",
        "criterion = nn.CrossEntropyLoss() # nn.BCELoss() # nn.CrossEntropyLoss()\n",
        "\n",
        "# Observe that all parameters are being optimized\n",
        "# optimizer_ft = optim.SGD(model_ft.parameters(), lr=0.001, momentum=0.9)\n",
        "optimizer_ft = optim.Adam(model_ft.parameters(), lr=0.001)\n",
        "\n",
        "# Decay LR by a factor of 0.1 every 7 epochs\n",
        "exp_lr_scheduler = lr_scheduler.StepLR(optimizer_ft, step_size=7, gamma=0.1)\n",
        "\n",
        "run[\"optim/name\"] = \"Adam\"\n",
        "run[\"optim/lr\"] = 0.001"
      ]
    },
    {
      "attachments": {},
      "cell_type": "markdown",
      "metadata": {
        "id": "fCu9jGK58yG2"
      },
      "source": [
        "#### Train and evaluation\n",
        "\n",
        "It should take around 15-25 min on CPU. On GPU though, it takes less than a\n",
        "minute.\n"
      ]
    },
    {
      "cell_type": "code",
      "execution_count": null,
      "metadata": {
        "colab": {
          "base_uri": "https://localhost:8080/"
        },
        "id": "WtMlHnKO8yG2",
        "outputId": "f4533e13-b110-43cd-c95f-5cdce85bace4"
      },
      "outputs": [
        {
          "name": "stdout",
          "output_type": "stream",
          "text": [
            "Epoch 1/25\n",
            "----------\n",
            "train Loss: 0.5635 Acc: 0.7415\n",
            "val Loss: 0.5547 Acc: 0.7275\n",
            "\n",
            "Epoch 2/25\n",
            "----------\n",
            "train Loss: 0.5429 Acc: 0.7528\n",
            "val Loss: 0.5273 Acc: 0.7562\n",
            "\n",
            "Epoch 3/25\n",
            "----------\n",
            "train Loss: 0.5329 Acc: 0.7592\n",
            "val Loss: 0.5265 Acc: 0.7625\n",
            "\n",
            "Epoch 4/25\n",
            "----------\n",
            "train Loss: 0.5284 Acc: 0.7615\n",
            "val Loss: 0.5336 Acc: 0.7562\n",
            "\n",
            "Epoch 5/25\n",
            "----------\n",
            "train Loss: 0.5258 Acc: 0.7600\n",
            "val Loss: 0.5118 Acc: 0.7662\n",
            "\n",
            "Epoch 6/25\n",
            "----------\n",
            "train Loss: 0.5235 Acc: 0.7652\n",
            "val Loss: 0.5191 Acc: 0.7623\n",
            "\n",
            "Epoch 7/25\n",
            "----------\n",
            "train Loss: 0.5236 Acc: 0.7636\n",
            "val Loss: 0.5339 Acc: 0.7534\n",
            "\n",
            "Epoch 8/25\n",
            "----------\n",
            "train Loss: 0.5141 Acc: 0.7682\n",
            "val Loss: 0.5242 Acc: 0.7595\n",
            "\n",
            "Epoch 9/25\n",
            "----------\n",
            "train Loss: 0.5132 Acc: 0.7692\n",
            "val Loss: 0.5311 Acc: 0.7576\n",
            "\n",
            "Epoch 10/25\n",
            "----------\n",
            "train Loss: 0.5105 Acc: 0.7702\n",
            "val Loss: 0.5150 Acc: 0.7641\n",
            "\n",
            "Epoch 11/25\n",
            "----------\n",
            "train Loss: 0.5138 Acc: 0.7696\n",
            "val Loss: 0.5308 Acc: 0.7580\n",
            "\n",
            "Epoch 12/25\n",
            "----------\n",
            "train Loss: 0.5107 Acc: 0.7725\n",
            "val Loss: 0.5343 Acc: 0.7548\n",
            "\n",
            "Epoch 13/25\n",
            "----------\n",
            "train Loss: 0.5142 Acc: 0.7682\n",
            "val Loss: 0.5145 Acc: 0.7676\n",
            "\n",
            "Epoch 14/25\n",
            "----------\n",
            "train Loss: 0.5112 Acc: 0.7680\n",
            "val Loss: 0.5231 Acc: 0.7623\n",
            "\n",
            "Epoch 15/25\n",
            "----------\n",
            "train Loss: 0.5118 Acc: 0.7701\n",
            "val Loss: 0.5246 Acc: 0.7601\n",
            "\n",
            "Epoch 16/25\n",
            "----------\n",
            "train Loss: 0.5119 Acc: 0.7696\n",
            "val Loss: 0.5236 Acc: 0.7617\n",
            "\n",
            "Epoch 17/25\n",
            "----------\n",
            "train Loss: 0.5169 Acc: 0.7673\n",
            "val Loss: 0.5171 Acc: 0.7633\n",
            "\n",
            "Epoch 18/25\n",
            "----------\n",
            "train Loss: 0.5111 Acc: 0.7698\n",
            "val Loss: 0.5200 Acc: 0.7633\n",
            "\n",
            "Epoch 19/25\n",
            "----------\n",
            "train Loss: 0.5124 Acc: 0.7678\n",
            "val Loss: 0.5189 Acc: 0.7633\n",
            "\n",
            "Epoch 20/25\n",
            "----------\n",
            "train Loss: 0.5101 Acc: 0.7684\n",
            "val Loss: 0.5191 Acc: 0.7623\n",
            "\n",
            "Epoch 21/25\n",
            "----------\n",
            "train Loss: 0.5095 Acc: 0.7710\n",
            "val Loss: 0.5184 Acc: 0.7647\n",
            "\n",
            "Epoch 22/25\n",
            "----------\n",
            "train Loss: 0.5121 Acc: 0.7687\n",
            "val Loss: 0.5354 Acc: 0.7554\n",
            "\n",
            "Epoch 23/25\n",
            "----------\n",
            "train Loss: 0.5114 Acc: 0.7671\n",
            "val Loss: 0.5235 Acc: 0.7623\n",
            "\n",
            "Epoch 24/25\n",
            "----------\n",
            "train Loss: 0.5114 Acc: 0.7705\n",
            "val Loss: 0.5212 Acc: 0.7627\n",
            "\n",
            "Epoch 25/25\n",
            "----------\n",
            "train Loss: 0.5096 Acc: 0.7705\n",
            "val Loss: 0.5182 Acc: 0.7660\n",
            "\n",
            "Training complete in 33m 36s\n",
            "Best val Acc: 0.767588\n",
            "Shutting down background jobs, please wait a moment...\n",
            "Done!\n",
            "Waiting for the remaining 3 operations to synchronize with Neptune. Do not kill this process.\n",
            "All 3 operations synced, thanks for waiting!\n",
            "Explore the metadata in the Neptune app:\n",
            "https://app.neptune.ai/edwin.alvarez/Kaggle-GC/e/KAG-11/metadata\n",
            "time: 33min 37s (started: 2023-06-29 18:42:01 -05:00)\n"
          ]
        }
      ],
      "source": [
        "model_ft, train_losses, val_losses, train_accuracies, val_accuracies = train_model(model_ft, criterion, optimizer_ft,\n",
        "                                                                                        exp_lr_scheduler, num_epochs=num_epochs)"
      ]
    },
    {
      "cell_type": "code",
      "execution_count": null,
      "metadata": {
        "colab": {
          "base_uri": "https://localhost:8080/"
        },
        "id": "QYMIL5usxMyd",
        "outputId": "3bd92eac-c730-4748-ccc8-e25432cb5725"
      },
      "outputs": [],
      "source": [
        "# show_results(train_losses, val_losses, train_accuracies, val_accuracies)"
      ]
    },
    {
      "cell_type": "code",
      "execution_count": null,
      "metadata": {
        "colab": {
          "base_uri": "https://localhost:8080/",
          "height": 1000
        },
        "id": "xEFOktLp8yG2",
        "outputId": "8e1b7eb4-d59b-4222-a6b0-abc96ecc8a29"
      },
      "outputs": [
        {
          "data": {
            "image/png": "[encoded data removed]",
            "text/plain": [
              "<Figure size 640x480 with 1 Axes>"
            ]
          },
          "metadata": {},
          "output_type": "display_data"
        },
        {
          "data": {
            "image/png": "[encoded data removed]",
            "text/plain": [
              "<Figure size 640x480 with 1 Axes>"
            ]
          },
          "metadata": {},
          "output_type": "display_data"
        },
        {
          "data": {
            "image/png": "[encoded data removed]",
            "text/plain": [
              "<Figure size 640x480 with 1 Axes>"
            ]
          },
          "metadata": {},
          "output_type": "display_data"
        },
        {
          "data": {
            "image/png": "[encoded data removed]",
            "text/plain": [
              "<Figure size 640x480 with 1 Axes>"
            ]
          },
          "metadata": {},
          "output_type": "display_data"
        },
        {
          "data": {
            "image/png": "[encoded data removed]",
            "text/plain": [
              "<Figure size 640x480 with 1 Axes>"
            ]
          },
          "metadata": {},
          "output_type": "display_data"
        },
        {
          "data": {
            "image/png": "[encoded data removed]",
            "text/plain": [
              "<Figure size 640x480 with 1 Axes>"
            ]
          },
          "metadata": {},
          "output_type": "display_data"
        },
        {
          "name": "stdout",
          "output_type": "stream",
          "text": [
            "time: 961 ms (started: 2023-06-29 16:59:13 -05:00)\n"
          ]
        }
      ],
      "source": [
        "visualize_model(model_ft, num_images=2)"
      ]
    },
    {
      "attachments": {},
      "cell_type": "markdown",
      "metadata": {
        "id": "PG4HUYFv8yG3"
      },
      "source": [
        "### Feature extractor\n",
        "\n",
        "Here, we need to freeze all the network except the final layer. We need\n",
        "to set ``requires_grad = False`` to freeze the parameters so that the\n",
        "gradients are not computed in ``backward()``.\n",
        "\n",
        "You can read more about this in the documentation\n",
        "[here](https://pytorch.org/docs/notes/autograd.html#excluding-subgraphs-from-backward)_.\n",
        "\n",
        "\n"
      ]
    },
    {
      "cell_type": "code",
      "execution_count": null,
      "metadata": {},
      "outputs": [],
      "source": [
        "run = neptune.init_run(\n",
        "    project=\"edwin.alvarez/Kaggle-GC\",\n",
        "    api_token=\"eyJhcGlfYWRkcmVzcyI6Imh0dHBzOi8vYXBwLm5lcHR1bmUuYWkiLCJhcGlfdXJsIjoiaHR0cHM6Ly9hcHAubmVwdHVuZS5haSIsImFwaV9rZXkiOiIwZjM0NzgxNy1lMDI1LTQxMzgtYTE2NS03OTIwOWY5NzgwNTkifQ==\",\n",
        ")  # your credentials\n",
        "\n",
        "run[\"parameters\"] = parameters\n",
        "run[\"option/name\"] = \"feature extractor\""
      ]
    },
    {
      "cell_type": "code",
      "execution_count": null,
      "metadata": {
        "colab": {
          "base_uri": "https://localhost:8080/"
        },
        "id": "z0_7lAM08yG3",
        "outputId": "d236d456-c39d-47ec-b8bc-891f09514c90"
      },
      "outputs": [
        {
          "name": "stdout",
          "output_type": "stream",
          "text": [
            "time: 550 ms (started: 2023-06-29 19:29:59 -05:00)\n"
          ]
        }
      ],
      "source": [
        "# model_conv = torchvision.models.resnet18(pretrained=True)\n",
        "model_conv, input_size = initialize_model(model_name, num_classes, feature_extract=True, use_pretrained=True)\n",
        "model_conv = model_conv.to(device)\n",
        "\n",
        "criterion = nn.CrossEntropyLoss()\n",
        "\n",
        "# Observe that only parameters of final layer are being optimized as\n",
        "# opposed to before.\n",
        "# optimizer_conv = optim.SGD(model_conv.fc.parameters(), lr=0.001, momentum=0.9)\n",
        "optimizer_conv = optim.Adam(model_conv.parameters(), lr=0.001)\n",
        "\n",
        "# Decay LR by a factor of 0.1 every 7 epochs\n",
        "exp_lr_scheduler = lr_scheduler.StepLR(optimizer_conv, step_size=7, gamma=0.1)\n",
        "\n",
        "run[\"optim/name\"] = \"Adam\"\n",
        "run[\"optim/lr\"] = 0.001"
      ]
    },
    {
      "attachments": {},
      "cell_type": "markdown",
      "metadata": {
        "id": "rkgoL6xK8yG3"
      },
      "source": [
        "#### Train and evaluation\n",
        "\n",
        "On CPU this will take about half the time compared to previous scenario.\n",
        "This is expected as gradients don\"t need to be computed for most of the\n",
        "network. However, forward does need to be computed.\n"
      ]
    },
    {
      "cell_type": "code",
      "execution_count": null,
      "metadata": {
        "colab": {
          "base_uri": "https://localhost:8080/"
        },
        "id": "ZoAa5SWj8yG3",
        "outputId": "48845c45-5219-46d9-c0e7-08b80e3543ca"
      },
      "outputs": [
        {
          "name": "stdout",
          "output_type": "stream",
          "text": [
            "Epoch 1/25\n",
            "----------\n",
            "train Loss: 0.5912 Acc: 0.7356\n",
            "val Loss: 0.5993 Acc: 0.7188\n",
            "\n",
            "Epoch 2/25\n",
            "----------\n",
            "train Loss: 0.5763 Acc: 0.7383\n",
            "val Loss: 0.5953 Acc: 0.7188\n",
            "\n",
            "Epoch 3/25\n",
            "----------\n",
            "train Loss: 0.5756 Acc: 0.7383\n",
            "val Loss: 0.5962 Acc: 0.7188\n",
            "\n",
            "Epoch 4/25\n",
            "----------\n",
            "train Loss: 0.5757 Acc: 0.7383\n",
            "val Loss: 0.5965 Acc: 0.7188\n",
            "\n",
            "Epoch 5/25\n",
            "----------\n",
            "train Loss: 0.5755 Acc: 0.7383\n",
            "val Loss: 0.5948 Acc: 0.7188\n",
            "\n",
            "Epoch 6/25\n",
            "----------\n",
            "train Loss: 0.5753 Acc: 0.7383\n",
            "val Loss: 0.5953 Acc: 0.7188\n",
            "\n",
            "Epoch 7/25\n",
            "----------\n",
            "train Loss: 0.5751 Acc: 0.7383\n",
            "val Loss: 0.5947 Acc: 0.7188\n",
            "\n",
            "Epoch 8/25\n",
            "----------\n",
            "train Loss: 0.5748 Acc: 0.7383\n",
            "val Loss: 0.5949 Acc: 0.7188\n",
            "\n",
            "Epoch 9/25\n",
            "----------\n",
            "train Loss: 0.5749 Acc: 0.7383\n",
            "val Loss: 0.5949 Acc: 0.7188\n",
            "\n",
            "Epoch 10/25\n",
            "----------\n",
            "train Loss: 0.5750 Acc: 0.7383\n",
            "val Loss: 0.5950 Acc: 0.7188\n",
            "\n",
            "Epoch 11/25\n",
            "----------\n",
            "train Loss: 0.5749 Acc: 0.7383\n",
            "val Loss: 0.5950 Acc: 0.7188\n",
            "\n",
            "Epoch 12/25\n",
            "----------\n",
            "train Loss: 0.5750 Acc: 0.7383\n",
            "val Loss: 0.5950 Acc: 0.7188\n",
            "\n",
            "Epoch 13/25\n",
            "----------\n",
            "train Loss: 0.5750 Acc: 0.7383\n",
            "val Loss: 0.5950 Acc: 0.7188\n",
            "\n",
            "Epoch 14/25\n",
            "----------\n",
            "train Loss: 0.5749 Acc: 0.7383\n",
            "val Loss: 0.5950 Acc: 0.7188\n",
            "\n",
            "Epoch 15/25\n",
            "----------\n",
            "train Loss: 0.5749 Acc: 0.7383\n",
            "val Loss: 0.5950 Acc: 0.7188\n",
            "\n",
            "Epoch 16/25\n",
            "----------\n",
            "train Loss: 0.5748 Acc: 0.7383\n",
            "val Loss: 0.5950 Acc: 0.7188\n",
            "\n",
            "Epoch 17/25\n",
            "----------\n",
            "train Loss: 0.5749 Acc: 0.7383\n",
            "val Loss: 0.5950 Acc: 0.7188\n",
            "\n",
            "Epoch 18/25\n",
            "----------\n",
            "train Loss: 0.5749 Acc: 0.7383\n",
            "val Loss: 0.5950 Acc: 0.7188\n",
            "\n",
            "Epoch 19/25\n",
            "----------\n",
            "train Loss: 0.5748 Acc: 0.7383\n",
            "val Loss: 0.5950 Acc: 0.7188\n",
            "\n",
            "Epoch 20/25\n",
            "----------\n",
            "train Loss: 0.5749 Acc: 0.7383\n",
            "val Loss: 0.5950 Acc: 0.7188\n",
            "\n",
            "Epoch 21/25\n",
            "----------\n",
            "train Loss: 0.5749 Acc: 0.7383\n",
            "val Loss: 0.5950 Acc: 0.7188\n",
            "\n",
            "Epoch 22/25\n",
            "----------\n",
            "train Loss: 0.5748 Acc: 0.7383\n",
            "val Loss: 0.5950 Acc: 0.7188\n",
            "\n",
            "Epoch 23/25\n",
            "----------\n",
            "train Loss: 0.5748 Acc: 0.7383\n",
            "val Loss: 0.5950 Acc: 0.7188\n",
            "\n",
            "Epoch 24/25\n",
            "----------\n",
            "train Loss: 0.5750 Acc: 0.7383\n",
            "val Loss: 0.5950 Acc: 0.7188\n",
            "\n",
            "Epoch 25/25\n",
            "----------\n",
            "train Loss: 0.5750 Acc: 0.7383\n",
            "val Loss: 0.5950 Acc: 0.7188\n",
            "\n",
            "Training complete in 89m 56s\n",
            "Best val Acc: 0.718788\n",
            "Shutting down background jobs, please wait a moment...\n",
            "Done!\n",
            "Waiting for the remaining 3 operations to synchronize with Neptune. Do not kill this process.\n",
            "All 3 operations synced, thanks for waiting!\n",
            "Explore the metadata in the Neptune app:\n",
            "https://app.neptune.ai/edwin.alvarez/Kaggle-GC/e/KAG-12/metadata\n",
            "time: 1h 29min 56s (started: 2023-06-29 19:30:06 -05:00)\n"
          ]
        }
      ],
      "source": [
        "model_conv, train_losses_, val_losses_, train_accuracies_, val_accuracies_ = train_model(model_conv, criterion, optimizer_conv,\n",
        "                                                                                         exp_lr_scheduler, num_epochs=num_epochs)"
      ]
    },
    {
      "cell_type": "code",
      "execution_count": null,
      "metadata": {
        "colab": {
          "base_uri": "https://localhost:8080/"
        },
        "id": "xpLv6-Ub4acj",
        "outputId": "408aec7d-2c9d-4ec0-c6f2-bc1e8d45a132"
      },
      "outputs": [],
      "source": [
        "# show_results(train_losses_, val_losses_, train_accuracies_, val_accuracies_)"
      ]
    },
    {
      "cell_type": "code",
      "execution_count": null,
      "metadata": {
        "colab": {
          "base_uri": "https://localhost:8080/",
          "height": 1000
        },
        "id": "wRxtQn4a8yG3",
        "outputId": "72dd5859-7e41-4fb0-8fff-0968a7a55cc5"
      },
      "outputs": [],
      "source": [
        "visualize_model(model_conv, num_images=2)\n",
        "\n",
        "plt.ioff()\n",
        "plt.show()"
      ]
    },
    {
      "attachments": {},
      "cell_type": "markdown",
      "metadata": {},
      "source": [
        "## Experiments"
      ]
    },
    {
      "cell_type": "code",
      "execution_count": 6,
      "metadata": {
        "notebookRunGroups": {
          "groupValue": "1"
        }
      },
      "outputs": [
        {
          "name": "stdout",
          "output_type": "stream",
          "text": [
            "time: 3.84 ms (started: 2023-07-05 22:29:37 -05:00)\n"
          ]
        }
      ],
      "source": [
        "# Data augmentation and normalization for training\n",
        "# Just normalization for validation\n",
        "def get_data_transforms(option):\n",
        "    if option == 0:\n",
        "        data_transforms = {\n",
        "            \"train\": transforms.Compose([\n",
        "                transforms.RandomResizedCrop(input_size),\n",
        "                transforms.RandomHorizontalFlip(),\n",
        "                transforms.ToTensor(),\n",
        "                transforms.Normalize([0.485, 0.456, 0.406], [0.229, 0.224, 0.225])\n",
        "            ]),\n",
        "            \"val\": transforms.Compose([\n",
        "                transforms.Resize(input_size),\n",
        "                transforms.CenterCrop(input_size),\n",
        "                transforms.ToTensor(),\n",
        "                transforms.Normalize([0.485, 0.456, 0.406], [0.229, 0.224, 0.225])\n",
        "            ]),\n",
        "        }\n",
        "    elif option == 1:\n",
        "        data_transforms = {\n",
        "            \"train\": transforms.Compose([\n",
        "                transforms.RandomResizedCrop(input_size),\n",
        "                transforms.RandomHorizontalFlip(),\n",
        "                transforms.ToTensor(),\n",
        "                transforms.Normalize(mean, std)\n",
        "            ]),\n",
        "            \"val\": transforms.Compose([\n",
        "                transforms.Resize(input_size),\n",
        "                transforms.CenterCrop(input_size),\n",
        "                transforms.ToTensor(),\n",
        "                transforms.Normalize(mean, std)\n",
        "            ]),\n",
        "        }\n",
        "    elif option == 2:\n",
        "        data_transforms = {\n",
        "            \"train\": transforms.Compose([\n",
        "                transforms.Resize(400),\n",
        "                transforms.RandomHorizontalFlip(),\n",
        "                transforms.CenterCrop(input_size),\n",
        "                transforms.ToTensor(),\n",
        "                transforms.Normalize(mean, std)\n",
        "            ]),\n",
        "            \"val\": transforms.Compose([\n",
        "                transforms.Resize(input_size),\n",
        "                transforms.CenterCrop(input_size),\n",
        "                transforms.ToTensor(),\n",
        "                transforms.Normalize(mean, std)\n",
        "            ]),\n",
        "        }\n",
        "    elif option == 3:\n",
        "        data_transforms = {\n",
        "            \"train\": transforms.Compose([\n",
        "                transforms.Resize(400),\n",
        "                transforms.RandomHorizontalFlip(),\n",
        "                transforms.CenterCrop(input_size),\n",
        "                transforms.RandomRotation(degrees=45),\n",
        "                transforms.ToTensor(),\n",
        "                transforms.Normalize(mean, std)\n",
        "            ]),\n",
        "            \"val\": transforms.Compose([\n",
        "                transforms.Resize(input_size),\n",
        "                transforms.CenterCrop(input_size),\n",
        "                transforms.RandomRotation(degrees=20),\n",
        "                transforms.ToTensor(),\n",
        "                transforms.Normalize(mean, std)\n",
        "            ]),\n",
        "        }\n",
        "    return data_transforms\n",
        "\n",
        "def get_optimizer(model, option):\n",
        "    optimizers = [\n",
        "        optim.Adadelta(model.parameters(), lr=1.0),             # 0\n",
        "        optim.Adagrad(model.parameters(), lr=0.01),             # 1\n",
        "        optim.Adam(model.parameters(), lr=0.001),               # 2\n",
        "        optim.AdamW(model.parameters(), lr=0.001),              # 3\n",
        "        optim.SparseAdam(model.parameters(), lr=0.001),         # 4, SparseAdam does not support dense gradients, please consider Adam instead\n",
        "        optim.Adamax(model.parameters(), lr=0.002),             # 5\n",
        "        optim.ASGD(model.parameters(), lr=0.01),                # 6\n",
        "        optim.LBFGS(model.parameters(), lr=1),                  # 7, more cost\n",
        "        optim.NAdam(model.parameters(), lr=0.002),              # 8\n",
        "        optim.RAdam(model.parameters(), lr=0.001),              # 9   \n",
        "        optim.RMSprop(model.parameters(), lr=0.01),             # 10\n",
        "        optim.Rprop(model.parameters(), lr=0.01),               # 11\n",
        "        optim.SGD(model.parameters(), lr=0.001, momentum=0.7)   # 12\n",
        "    ]\n",
        "    return optimizers[option]"
      ]
    },
    {
      "cell_type": "code",
      "execution_count": 7,
      "metadata": {
        "notebookRunGroups": {
          "groupValue": ""
        }
      },
      "outputs": [
        {
          "name": "stderr",
          "output_type": "stream",
          "text": [
            "/tmp/ipykernel_2705506/1180680529.py:45: NeptuneWarning: To avoid unintended consumption of logging hours during interactive sessions, the following monitoring options are disabled unless set to 'True' when initializing the run: 'capture_stdout', 'capture_stderr', and 'capture_hardware_metrics'.\n",
            "  run = neptune.init_run(\n"
          ]
        },
        {
          "name": "stdout",
          "output_type": "stream",
          "text": [
            "https://app.neptune.ai/GoTeam/Ka-GC/e/KAG-139\n"
          ]
        },
        {
          "name": "stderr",
          "output_type": "stream",
          "text": [
            "Epoch: 20: 100%|██████████| 20/20 [1:15:19<00:00, 225.96s/it, val, Loss: 0.4561 Acc: 0.8066]  \n"
          ]
        },
        {
          "name": "stdout",
          "output_type": "stream",
          "text": [
            "Training complete in 75m 20s\n",
            "Best val Acc: 0.808052\n",
            "Shutting down background jobs, please wait a moment...\n",
            "Done!\n",
            "Waiting for the remaining 1 operations to synchronize with Neptune. Do not kill this process.\n",
            "All 1 operations synced, thanks for waiting!\n",
            "Explore the metadata in the Neptune app:\n",
            "https://app.neptune.ai/GoTeam/Ka-GC/e/KAG-139/metadata\n",
            "https://app.neptune.ai/GoTeam/Ka-GC/e/KAG-140\n"
          ]
        },
        {
          "name": "stderr",
          "output_type": "stream",
          "text": [
            "Epoch: 20: 100%|██████████| 20/20 [1:15:23<00:00, 226.17s/it, val, Loss: 0.4503 Acc: 0.8089]  \n"
          ]
        },
        {
          "name": "stdout",
          "output_type": "stream",
          "text": [
            "Training complete in 75m 24s\n",
            "Best val Acc: 0.809272\n",
            "Shutting down background jobs, please wait a moment...\n",
            "Done!\n",
            "Waiting for the remaining 1 operations to synchronize with Neptune. Do not kill this process.\n",
            "All 1 operations synced, thanks for waiting!\n",
            "Explore the metadata in the Neptune app:\n",
            "https://app.neptune.ai/GoTeam/Ka-GC/e/KAG-140/metadata\n",
            "https://app.neptune.ai/GoTeam/Ka-GC/e/KAG-141\n"
          ]
        },
        {
          "name": "stderr",
          "output_type": "stream",
          "text": [
            "Epoch: 20: 100%|██████████| 20/20 [1:15:18<00:00, 225.91s/it, val, Loss: 0.4457 Acc: 0.8091]  \n"
          ]
        },
        {
          "name": "stdout",
          "output_type": "stream",
          "text": [
            "Training complete in 75m 19s\n",
            "Best val Acc: 0.809475\n",
            "Shutting down background jobs, please wait a moment...\n",
            "Done!\n",
            "Waiting for the remaining 1 operations to synchronize with Neptune. Do not kill this process.\n",
            "All 1 operations synced, thanks for waiting!\n",
            "Explore the metadata in the Neptune app:\n",
            "https://app.neptune.ai/GoTeam/Ka-GC/e/KAG-141/metadata\n",
            "https://app.neptune.ai/GoTeam/Ka-GC/e/KAG-142\n"
          ]
        },
        {
          "name": "stderr",
          "output_type": "stream",
          "text": [
            "Epoch: 20: 100%|██████████| 20/20 [1:15:16<00:00, 225.84s/it, val, Loss: 0.4417 Acc: 0.8107]  \n"
          ]
        },
        {
          "name": "stdout",
          "output_type": "stream",
          "text": [
            "Training complete in 75m 17s\n",
            "Best val Acc: 0.812729\n",
            "Shutting down background jobs, please wait a moment...\n",
            "Done!\n",
            "Waiting for the remaining 1 operations to synchronize with Neptune. Do not kill this process.\n",
            "All 1 operations synced, thanks for waiting!\n",
            "Explore the metadata in the Neptune app:\n",
            "https://app.neptune.ai/GoTeam/Ka-GC/e/KAG-142/metadata\n",
            "https://app.neptune.ai/GoTeam/Ka-GC/e/KAG-143\n"
          ]
        },
        {
          "name": "stderr",
          "output_type": "stream",
          "text": [
            "Epoch: 20: 100%|██████████| 20/20 [1:15:21<00:00, 226.05s/it, val, Loss: 0.4462 Acc: 0.8097]  \n"
          ]
        },
        {
          "name": "stdout",
          "output_type": "stream",
          "text": [
            "Training complete in 75m 22s\n",
            "Best val Acc: 0.811102\n",
            "Shutting down background jobs, please wait a moment...\n",
            "Done!\n",
            "Waiting for the remaining 1 operations to synchronize with Neptune. Do not kill this process.\n",
            "All 1 operations synced, thanks for waiting!\n",
            "Explore the metadata in the Neptune app:\n",
            "https://app.neptune.ai/GoTeam/Ka-GC/e/KAG-143/metadata\n",
            "https://app.neptune.ai/GoTeam/Ka-GC/e/KAG-144\n"
          ]
        },
        {
          "name": "stderr",
          "output_type": "stream",
          "text": [
            "Epoch: 20: 100%|██████████| 20/20 [1:15:30<00:00, 226.54s/it, val, Loss: 0.4422 Acc: 0.8117]  \n"
          ]
        },
        {
          "name": "stdout",
          "output_type": "stream",
          "text": [
            "Training complete in 75m 31s\n",
            "Best val Acc: 0.811712\n",
            "Shutting down background jobs, please wait a moment...\n",
            "Done!\n",
            "Waiting for the remaining 1 operations to synchronize with Neptune. Do not kill this process.\n",
            "All 1 operations synced, thanks for waiting!\n",
            "Explore the metadata in the Neptune app:\n",
            "https://app.neptune.ai/GoTeam/Ka-GC/e/KAG-144/metadata\n",
            "https://app.neptune.ai/GoTeam/Ka-GC/e/KAG-145\n"
          ]
        },
        {
          "name": "stderr",
          "output_type": "stream",
          "text": [
            "Epoch: 20: 100%|██████████| 20/20 [1:15:10<00:00, 225.53s/it, val, Loss: 0.4985 Acc: 0.7865]  \n"
          ]
        },
        {
          "name": "stdout",
          "output_type": "stream",
          "text": [
            "Training complete in 75m 11s\n",
            "Best val Acc: 0.790565\n",
            "Shutting down background jobs, please wait a moment...\n",
            "Done!\n",
            "Waiting for the remaining 1 operations to synchronize with Neptune. Do not kill this process.\n",
            "All 1 operations synced, thanks for waiting!\n",
            "Explore the metadata in the Neptune app:\n",
            "https://app.neptune.ai/GoTeam/Ka-GC/e/KAG-145/metadata\n",
            "https://app.neptune.ai/GoTeam/Ka-GC/e/KAG-146\n"
          ]
        },
        {
          "name": "stderr",
          "output_type": "stream",
          "text": [
            "Epoch: 20: 100%|██████████| 20/20 [1:15:13<00:00, 225.69s/it, val, Loss: 0.4795 Acc: 0.7859]  \n"
          ]
        },
        {
          "name": "stdout",
          "output_type": "stream",
          "text": [
            "Training complete in 75m 14s\n",
            "Best val Acc: 0.788329\n",
            "Shutting down background jobs, please wait a moment...\n",
            "Done!\n",
            "Waiting for the remaining 1 operations to synchronize with Neptune. Do not kill this process.\n",
            "All 1 operations synced, thanks for waiting!\n",
            "Explore the metadata in the Neptune app:\n",
            "https://app.neptune.ai/GoTeam/Ka-GC/e/KAG-146/metadata\n",
            "https://app.neptune.ai/GoTeam/Ka-GC/e/KAG-147\n"
          ]
        },
        {
          "name": "stderr",
          "output_type": "stream",
          "text": [
            "Epoch: 9:  40%|████      | 8/20 [30:09<45:04, 225.41s/it, val, Loss: 0.4786 Acc: 0.7881]    "
          ]
        }
      ],
      "source": [
        "# Top level data directory. Here we assume the format of the directory conforms\n",
        "# to the ImageFolder structure\n",
        "data_dir = \"dataset\"\n",
        "\n",
        "# Models to choose from [resnet50, resnet152, alexnet, vgg19, squeezenet1_0, densenet201]\n",
        "models_name = [\"alexnet\", \"convnext_large\", \"densenet201\",\n",
        "                \"efficientnet_v2_l\", \"googlenet\", \"inception_v3\",\n",
        "                \"mnasnet1_3\", \"maxvit_t\", \"mobilenet_v3_large\",\n",
        "                \"regnet_y_128gf\", \"resnext101_64x4d\", \"resnet152\",\n",
        "                \"shufflenet_v2_x2_0\", \"squeezenet1_1\", \"swin_v2_b\",\n",
        "                \"vgg19\", \"vit_h_14\", \"wide_resnet101_2\"]\n",
        "                \n",
        "models_name = [\"alexnet\", \"convnext_large\", \"densenet201\",\n",
        "                \"googlenet\",\n",
        "                \"mnasnet1_3\", \"maxvit_t\", \"mobilenet_v3_large\",\n",
        "                \"resnext101_64x4d\", \"resnet152\",\n",
        "                \"shufflenet_v2_x2_0\", \"squeezenet1_1\", \"swin_v2_b\",\n",
        "                \"vgg19\", \"wide_resnet101_2\"]\n",
        "\n",
        "models_name = [\"convnext_large\", \"densenet201\",\n",
        "                \"resnext101_64x4d\", \"resnet152\",\n",
        "                \"shufflenet_v2_x2_0\", \"swin_v2_b\",\n",
        "                \"wide_resnet101_2\"]\n",
        "\n",
        "models_name = [\"convnext_large\"]\n",
        "\n",
        "# Number of classes in the dataset\n",
        "num_classes = 2\n",
        "\n",
        "# Batch size for training (change depending on how much memory you have)\n",
        "batch_size = 12\n",
        "\n",
        "# Number of epochs to train for\n",
        "num_epochs = 20\n",
        "\n",
        "# Flag for feature extracting. When False, we finetune the whole model,\n",
        "# when True we only update the reshaped layer params\n",
        "# feature_extract = True\n",
        "\n",
        "for option in [(\"fe\", True)]: # (\"ft\", False), (\"fe\", True)\n",
        "    for model_name in models_name:\n",
        "        for trans in [1, 2]: # [0, 1, 2]: falta: 0 con 8, 9\n",
        "            for opti in [0, 1, 3, 5, 8, 9]: # [0, 1, 3, 4, 5, 6, 8, 9, 10, 11, 12]:\n",
        "                #---\n",
        "                run = neptune.init_run(\n",
        "                    project=\"GoTeam/Ka-GC\",\n",
        "                    api_token=\"eyJhcGlfYWRkcmVzcyI6Imh0dHBzOi8vYXBwLm5lcHR1bmUuYWkiLCJhcGlfdXJsIjoiaHR0cHM6Ly9hcHAubmVwdHVuZS5haSIsImFwaV9rZXkiOiIwZjM0NzgxNy1lMDI1LTQxMzgtYTE2NS03OTIwOWY5NzgwNTkifQ==\",\n",
        "                )  # your credentials\n",
        "\n",
        "                \"\"\" run = neptune.init_run(\n",
        "                    project=\"GoTeam/Go-KGC\",\n",
        "                    api_token=\"eyJhcGlfYWRkcmVzcyI6Imh0dHBzOi8vYXBwLm5lcHR1bmUuYWkiLCJhcGlfdXJsIjoiaHR0cHM6Ly9hcHAubmVwdHVuZS5haSIsImFwaV9rZXkiOiIwZjM0NzgxNy1lMDI1LTQxMzgtYTE2NS03OTIwOWY5NzgwNTkifQ==\",\n",
        "                )  # your credentials \"\"\"\n",
        "\n",
        "                run[\"sys/tags\"].add(option[0])\n",
        "                run[\"sys/tags\"].add(\"transf {}\".format(trans))\n",
        "                # run[\"sys/tags\"].add(\"WRS\")\n",
        "                # run[\"sys/tags\"].add(\"IDS\")\n",
        "\n",
        "                #---\n",
        "                device = torch.device(\"cuda:1\" if torch.cuda.is_available() else \"cpu\")\n",
        "                device\n",
        "\n",
        "                model, input_size = initialize_model(model_name, num_classes, feature_extract=option[1])\n",
        "                model = model.to(device)\n",
        "\n",
        "                #---\n",
        "                data_transforms = get_data_transforms(trans)\n",
        "\n",
        "                image_datasets = {x: datasets.ImageFolder(os.path.join(data_dir, x), data_transforms[x]) for x in [\"train\", \"val\"]}\n",
        "\n",
        "                \"\"\" train_dataset = image_datasets[\"train\"]\n",
        "                targets = torch.tensor(train_dataset.targets, dtype=torch.int8)\n",
        "                class_counts = torch.bincount(targets)\n",
        "                # weights = 1.0 / class_counts.float()\n",
        "                weights = [1 / class_counts[i].float() for i in targets]\n",
        "                sampler = WeightedRandomSampler(weights, len(train_dataset), replacement=True)\n",
        "\n",
        "                dataloaders = {}\n",
        "                for x in [\"train\", \"val\"]:\n",
        "                    if x == \"train\":\n",
        "                        dataloaders[x] = torch.utils.data.DataLoader(image_datasets[x], batch_size=batch_size, sampler=sampler,\n",
        "                                                                    shuffle=False, drop_last=False, num_workers=4)\n",
        "                    else: \n",
        "                        dataloaders[x] = torch.utils.data.DataLoader(image_datasets[x], batch_size=batch_size,\n",
        "                                                                    shuffle=True, drop_last=False, num_workers=4) \"\"\"\n",
        "\n",
        "                \"\"\" dataloaders = {}\n",
        "                for x in [\"train\", \"val\"]:\n",
        "                    if x == \"train\":\n",
        "                        dataloaders[x] = torch.utils.data.DataLoader(image_datasets[x], batch_size=batch_size, sampler=ImbalancedDatasetSampler(train_dataset),\n",
        "                                                                    shuffle=False, drop_last=False, num_workers=4)\n",
        "                    else: \n",
        "                        dataloaders[x] = torch.utils.data.DataLoader(image_datasets[x], batch_size=batch_size,\n",
        "                                                                    shuffle=True, drop_last=False, num_workers=4) \"\"\"\n",
        "\n",
        "                dataloaders = {x: torch.utils.data.DataLoader(image_datasets[x], batch_size=batch_size,\n",
        "                                                                shuffle=True, drop_last=False, num_workers=4) for x in [\"train\", \"val\"]}\n",
        "                            \n",
        "                dataset_sizes = {x: len(image_datasets[x]) for x in [\"train\", \"val\"]}\n",
        "                class_names = image_datasets[\"train\"].classes\n",
        "                #---\n",
        "\n",
        "                criterion = nn.CrossEntropyLoss() # nn.BCELoss() # nn.CrossEntropyLoss()\n",
        "\n",
        "                # Observe that all parameters are being optimized\n",
        "                optimizer = get_optimizer(model, opti)\n",
        "\n",
        "                # Decay LR by a factor of 0.1 every 7 epochs\n",
        "                exp_lr_scheduler = lr_scheduler.StepLR(optimizer, step_size=7, gamma=0.1)\n",
        "\n",
        "                parameters = {\n",
        "                    \"model\": model_name,\n",
        "                    \"classes\": num_classes,\n",
        "                    # \"epochs\": num_epochs,\n",
        "                    \"batch size\": batch_size,\n",
        "                    \"criterion\": \"CrossEntropyLoss\",\n",
        "                    \"optimazer\": type(optimizer).__name__,\n",
        "                    \"lr\": optimizer.param_groups[0][\"lr\"]\n",
        "                }\n",
        "                run[\"params\"] = parameters\n",
        "\n",
        "                #---\n",
        "                model, \\\n",
        "                train_losses, \\\n",
        "                val_losses, \\\n",
        "                train_accuracies, \\\n",
        "                val_accuracies = train_model(run, model, device, dataloaders, dataset_sizes, \n",
        "                                            criterion, optimizer, exp_lr_scheduler, num_epochs=num_epochs)\n",
        "                # save model\n",
        "                # torch.save(model.state_dict(), \"weights/{}_{}_transf{}\".format(model_name, option[0], trans))\n",
        "                torch.save(model, \"weights/{}_{}_transf{}_{}.pt\".format(parameters[\"model\"], option[0], trans, parameters[\"optimazer\"]))\n",
        "\n",
        "                # validations\n",
        "                for data in [\"train\", \"val\"]:\n",
        "                    labels, predictions, predictions_proba = get_predictions(model, dataloaders, data)\n",
        "                    auc = roc_auc_score(labels, predictions_proba[:, 1])\n",
        "                    run[\"{}/auc\".format(data)] = auc\n",
        "                \n",
        "                run.stop()"
      ]
    },
    {
      "attachments": {},
      "cell_type": "markdown",
      "metadata": {
        "id": "eEcgQfkyONkm"
      },
      "source": [
        "### Comparasion"
      ]
    },
    {
      "cell_type": "code",
      "execution_count": null,
      "metadata": {
        "colab": {
          "base_uri": "https://localhost:8080/",
          "height": 489
        },
        "id": "KkjlA6v6NvYo",
        "outputId": "2baac61d-3aa5-4aa4-90e6-9b579222dae3"
      },
      "outputs": [
        {
          "data": {
            "image/png": "[encoded data removed]",
            "text/plain": [
              "<Figure size 640x480 with 1 Axes>"
            ]
          },
          "metadata": {},
          "output_type": "display_data"
        }
      ],
      "source": [
        "# Plot the training curves of validation accuracy vs. number\n",
        "#  of training epochs for the transfer learning method and\n",
        "#  the model trained from scratch\n",
        "ohist = []\n",
        "shist = []\n",
        "\n",
        "ohist = [h.cpu().numpy() for h in val_accuracies]\n",
        "shist = [h.cpu().numpy() for h in val_accuracies_]\n",
        "\n",
        "plt.title(\"validation Accuracy vs. Number of Training Epochs\")\n",
        "plt.xlabel(\"Training epochs\")\n",
        "plt.ylabel(\"validation accuracy\")\n",
        "plt.plot(range(1, num_epochs+1), ohist, label=\"Pretrained\")\n",
        "plt.plot(range(1, num_epochs+1), shist, label=\"Scratch\")\n",
        "# plt.ylim((0,1.))\n",
        "# plt.xticks(np.arange(1, num_epochs+1, 1.0))\n",
        "plt.legend()\n",
        "# plt.grid()\n",
        "plt.show()"
      ]
    },
    {
      "attachments": {},
      "cell_type": "markdown",
      "metadata": {
        "id": "3cLn7pnjN-Cb"
      },
      "source": [
        "## View metrics to train and validation"
      ]
    },
    {
      "cell_type": "code",
      "execution_count": null,
      "metadata": {},
      "outputs": [],
      "source": [
        "labels, predictions, predictions_proba = get_predictions(model_ft, dataloaders, data=\"train\"):"
      ]
    },
    {
      "cell_type": "code",
      "execution_count": null,
      "metadata": {
        "colab": {
          "base_uri": "https://localhost:8080/"
        },
        "id": "0E7_RkiINE1h",
        "outputId": "08ccd0be-bce6-4df9-b3e7-aafbf1370af0"
      },
      "outputs": [
        {
          "name": "stdout",
          "output_type": "stream",
          "text": [
            "              precision    recall  f1-score   support\n",
            "\n",
            "           0     0.7261    1.0000    0.8413      5892\n",
            "           1     0.0000    0.0000    0.0000      2223\n",
            "\n",
            "    accuracy                         0.7261      8115\n",
            "   macro avg     0.3630    0.5000    0.4206      8115\n",
            "weighted avg     0.5272    0.7261    0.6108      8115\n",
            "\n"
          ]
        },
        {
          "name": "stderr",
          "output_type": "stream",
          "text": [
            "/home/ealvarez/miniconda3/envs/kaggle_3.10/lib/python3.10/site-packages/sklearn/metrics/_classification.py:1344: UndefinedMetricWarning: Precision and F-score are ill-defined and being set to 0.0 in labels with no predicted samples. Use `zero_division` parameter to control this behavior.\n",
            "  _warn_prf(average, modifier, msg_start, len(result))\n",
            "/home/ealvarez/miniconda3/envs/kaggle_3.10/lib/python3.10/site-packages/sklearn/metrics/_classification.py:1344: UndefinedMetricWarning: Precision and F-score are ill-defined and being set to 0.0 in labels with no predicted samples. Use `zero_division` parameter to control this behavior.\n",
            "  _warn_prf(average, modifier, msg_start, len(result))\n",
            "/home/ealvarez/miniconda3/envs/kaggle_3.10/lib/python3.10/site-packages/sklearn/metrics/_classification.py:1344: UndefinedMetricWarning: Precision and F-score are ill-defined and being set to 0.0 in labels with no predicted samples. Use `zero_division` parameter to control this behavior.\n",
            "  _warn_prf(average, modifier, msg_start, len(result))\n"
          ]
        }
      ],
      "source": [
        "print(classification_report(labels, predictions, digits=4))"
      ]
    },
    {
      "cell_type": "code",
      "execution_count": null,
      "metadata": {
        "colab": {
          "base_uri": "https://localhost:8080/"
        },
        "id": "oRz_xTA_Z9bd",
        "outputId": "3d803388-a6a4-4477-9151-33265244417e"
      },
      "outputs": [
        {
          "data": {
            "text/plain": [
              "0.5438692307997699"
            ]
          },
          "execution_count": 82,
          "metadata": {},
          "output_type": "execute_result"
        }
      ],
      "source": [
        "roc_auc_score(labels, predictions_proba[:, 1])"
      ]
    },
    {
      "attachments": {},
      "cell_type": "markdown",
      "metadata": {
        "id": "dCym4iWAf0_g"
      },
      "source": [
        "## Prepared test data to Kaggle"
      ]
    },
    {
      "attachments": {},
      "cell_type": "markdown",
      "metadata": {
        "id": "7P-Yyo94GOJT"
      },
      "source": [
        "#### Read test image"
      ]
    },
    {
      "cell_type": "code",
      "execution_count": 29,
      "metadata": {
        "colab": {
          "base_uri": "https://localhost:8080/",
          "height": 441
        },
        "id": "BL8XjSW2gCEH",
        "outputId": "8fbfa649-8b8b-478b-946b-a9ad2658435e"
      },
      "outputs": [
        {
          "data": {
            "text/html": [
              "<div>\n",
              "<style scoped>\n",
              "    .dataframe tbody tr th:only-of-type {\n",
              "        vertical-align: middle;\n",
              "    }\n",
              "\n",
              "    .dataframe tbody tr th {\n",
              "        vertical-align: top;\n",
              "    }\n",
              "\n",
              "    .dataframe thead th {\n",
              "        text-align: right;\n",
              "    }\n",
              "</style>\n",
              "<table border=\"1\" class=\"dataframe\">\n",
              "  <thead>\n",
              "    <tr style=\"text-align: right;\">\n",
              "      <th></th>\n",
              "      <th>ID</th>\n",
              "      <th>score</th>\n",
              "    </tr>\n",
              "  </thead>\n",
              "  <tbody>\n",
              "    <tr>\n",
              "      <th>0</th>\n",
              "      <td>c74d97b01eae257e44aa9d5bade97baf_left</td>\n",
              "      <td>0</td>\n",
              "    </tr>\n",
              "    <tr>\n",
              "      <th>1</th>\n",
              "      <td>c74d97b01eae257e44aa9d5bade97baf_right</td>\n",
              "      <td>0</td>\n",
              "    </tr>\n",
              "    <tr>\n",
              "      <th>2</th>\n",
              "      <td>70efdf2ec9b086079795c442636b55fb_left</td>\n",
              "      <td>0</td>\n",
              "    </tr>\n",
              "    <tr>\n",
              "      <th>3</th>\n",
              "      <td>70efdf2ec9b086079795c442636b55fb_right</td>\n",
              "      <td>0</td>\n",
              "    </tr>\n",
              "    <tr>\n",
              "      <th>4</th>\n",
              "      <td>1f0e3dad99908345f7439f8ffabdffc4_left</td>\n",
              "      <td>0</td>\n",
              "    </tr>\n",
              "    <tr>\n",
              "      <th>...</th>\n",
              "      <td>...</td>\n",
              "      <td>...</td>\n",
              "    </tr>\n",
              "    <tr>\n",
              "      <th>10533</th>\n",
              "      <td>e261790d3a4cb0c69c17d7c183830289_right</td>\n",
              "      <td>0</td>\n",
              "    </tr>\n",
              "    <tr>\n",
              "      <th>10534</th>\n",
              "      <td>d21137447f7fdc47f7e6677ae35522a7_left</td>\n",
              "      <td>0</td>\n",
              "    </tr>\n",
              "    <tr>\n",
              "      <th>10535</th>\n",
              "      <td>d21137447f7fdc47f7e6677ae35522a7_right</td>\n",
              "      <td>0</td>\n",
              "    </tr>\n",
              "    <tr>\n",
              "      <th>10536</th>\n",
              "      <td>ec2951e5afb60d72a4a3e0be6d3e9c0a_left</td>\n",
              "      <td>0</td>\n",
              "    </tr>\n",
              "    <tr>\n",
              "      <th>10537</th>\n",
              "      <td>ec2951e5afb60d72a4a3e0be6d3e9c0a_right</td>\n",
              "      <td>0</td>\n",
              "    </tr>\n",
              "  </tbody>\n",
              "</table>\n",
              "<p>10538 rows × 2 columns</p>\n",
              "</div>"
            ],
            "text/plain": [
              "                                           ID  score\n",
              "0       c74d97b01eae257e44aa9d5bade97baf_left      0\n",
              "1      c74d97b01eae257e44aa9d5bade97baf_right      0\n",
              "2       70efdf2ec9b086079795c442636b55fb_left      0\n",
              "3      70efdf2ec9b086079795c442636b55fb_right      0\n",
              "4       1f0e3dad99908345f7439f8ffabdffc4_left      0\n",
              "...                                       ...    ...\n",
              "10533  e261790d3a4cb0c69c17d7c183830289_right      0\n",
              "10534   d21137447f7fdc47f7e6677ae35522a7_left      0\n",
              "10535  d21137447f7fdc47f7e6677ae35522a7_right      0\n",
              "10536   ec2951e5afb60d72a4a3e0be6d3e9c0a_left      0\n",
              "10537  ec2951e5afb60d72a4a3e0be6d3e9c0a_right      0\n",
              "\n",
              "[10538 rows x 2 columns]"
            ]
          },
          "execution_count": 29,
          "metadata": {},
          "output_type": "execute_result"
        },
        {
          "name": "stdout",
          "output_type": "stream",
          "text": [
            "time: 24.8 ms (started: 2023-07-05 12:25:40 -05:00)\n"
          ]
        }
      ],
      "source": [
        "df_test = pd.read_csv(\"source/sample.csv\")\n",
        "df_test"
      ]
    },
    {
      "attachments": {},
      "cell_type": "markdown",
      "metadata": {},
      "source": [
        "#### Get proba (option 3)"
      ]
    },
    {
      "cell_type": "code",
      "execution_count": 38,
      "metadata": {},
      "outputs": [
        {
          "name": "stderr",
          "output_type": "stream",
          "text": [
            "0it [00:00, ?it/s]"
          ]
        },
        {
          "name": "stderr",
          "output_type": "stream",
          "text": [
            "10538it [02:58, 59.04it/s]"
          ]
        },
        {
          "name": "stdout",
          "output_type": "stream",
          "text": [
            "time: 2min 58s (started: 2023-07-05 12:33:09 -05:00)\n"
          ]
        },
        {
          "name": "stderr",
          "output_type": "stream",
          "text": [
            "\n"
          ]
        }
      ],
      "source": [
        "y_prob = []\n",
        "\n",
        "for index, row in tqdm(df_test.iterrows()):\n",
        "    img_path = \"source/test/{}.jpg\".format(row[\"ID\"])\n",
        "\n",
        "    was_training = model.training\n",
        "    model.eval()\n",
        "\n",
        "    img = Image.open(img_path)\n",
        "    img = data_transforms['val'](img)\n",
        "    img = img.unsqueeze(0)\n",
        "    img = img.to(device)\n",
        "\n",
        "    with torch.no_grad():\n",
        "        outputs = model(img)\n",
        "        \n",
        "        # _, preds = torch.max(outputs, 1)\n",
        "\n",
        "        preds = torch.nn.functional.softmax(outputs, dim=-1)\n",
        "        # print(pred)\n",
        "        y_prob.append(preds)\n",
        "\n",
        "        model.train(mode=was_training)\n",
        "y_prob = torch.cat(y_prob, dim=0)\n",
        "y_prob"
      ]
    },
    {
      "cell_type": "code",
      "execution_count": 43,
      "metadata": {},
      "outputs": [
        {
          "data": {
            "text/plain": [
              "tensor([[0.0694, 0.9306],\n",
              "        [0.0192, 0.9808],\n",
              "        [0.7909, 0.2091],\n",
              "        ...,\n",
              "        [0.7124, 0.2876],\n",
              "        [0.9005, 0.0995],\n",
              "        [0.9231, 0.0769]], device='cuda:1')"
            ]
          },
          "execution_count": 43,
          "metadata": {},
          "output_type": "execute_result"
        },
        {
          "name": "stdout",
          "output_type": "stream",
          "text": [
            "time: 19.6 ms (started: 2023-07-05 12:44:37 -05:00)\n"
          ]
        }
      ],
      "source": []
    },
    {
      "cell_type": "code",
      "execution_count": 44,
      "metadata": {},
      "outputs": [
        {
          "data": {
            "text/plain": [
              "array([0.93062013, 0.98084408, 0.20905247, ..., 0.28760818, 0.09945846,\n",
              "       0.07685243])"
            ]
          },
          "execution_count": 44,
          "metadata": {},
          "output_type": "execute_result"
        },
        {
          "name": "stdout",
          "output_type": "stream",
          "text": [
            "time: 160 ms (started: 2023-07-05 12:45:33 -05:00)\n"
          ]
        }
      ],
      "source": [
        "score = [h.cpu().numpy().tolist() for h in y_prob]\n",
        "score = np.array(score)[:, 1]\n",
        "score"
      ]
    },
    {
      "cell_type": "code",
      "execution_count": 45,
      "metadata": {},
      "outputs": [
        {
          "data": {
            "text/html": [
              "<div>\n",
              "<style scoped>\n",
              "    .dataframe tbody tr th:only-of-type {\n",
              "        vertical-align: middle;\n",
              "    }\n",
              "\n",
              "    .dataframe tbody tr th {\n",
              "        vertical-align: top;\n",
              "    }\n",
              "\n",
              "    .dataframe thead th {\n",
              "        text-align: right;\n",
              "    }\n",
              "</style>\n",
              "<table border=\"1\" class=\"dataframe\">\n",
              "  <thead>\n",
              "    <tr style=\"text-align: right;\">\n",
              "      <th></th>\n",
              "      <th>ID</th>\n",
              "      <th>score</th>\n",
              "    </tr>\n",
              "  </thead>\n",
              "  <tbody>\n",
              "    <tr>\n",
              "      <th>0</th>\n",
              "      <td>c74d97b01eae257e44aa9d5bade97baf_left</td>\n",
              "      <td>0.930620</td>\n",
              "    </tr>\n",
              "    <tr>\n",
              "      <th>1</th>\n",
              "      <td>c74d97b01eae257e44aa9d5bade97baf_right</td>\n",
              "      <td>0.980844</td>\n",
              "    </tr>\n",
              "    <tr>\n",
              "      <th>2</th>\n",
              "      <td>70efdf2ec9b086079795c442636b55fb_left</td>\n",
              "      <td>0.209052</td>\n",
              "    </tr>\n",
              "    <tr>\n",
              "      <th>3</th>\n",
              "      <td>70efdf2ec9b086079795c442636b55fb_right</td>\n",
              "      <td>0.383878</td>\n",
              "    </tr>\n",
              "    <tr>\n",
              "      <th>4</th>\n",
              "      <td>1f0e3dad99908345f7439f8ffabdffc4_left</td>\n",
              "      <td>0.123336</td>\n",
              "    </tr>\n",
              "    <tr>\n",
              "      <th>...</th>\n",
              "      <td>...</td>\n",
              "      <td>...</td>\n",
              "    </tr>\n",
              "    <tr>\n",
              "      <th>10533</th>\n",
              "      <td>e261790d3a4cb0c69c17d7c183830289_right</td>\n",
              "      <td>0.410228</td>\n",
              "    </tr>\n",
              "    <tr>\n",
              "      <th>10534</th>\n",
              "      <td>d21137447f7fdc47f7e6677ae35522a7_left</td>\n",
              "      <td>0.101767</td>\n",
              "    </tr>\n",
              "    <tr>\n",
              "      <th>10535</th>\n",
              "      <td>d21137447f7fdc47f7e6677ae35522a7_right</td>\n",
              "      <td>0.287608</td>\n",
              "    </tr>\n",
              "    <tr>\n",
              "      <th>10536</th>\n",
              "      <td>ec2951e5afb60d72a4a3e0be6d3e9c0a_left</td>\n",
              "      <td>0.099458</td>\n",
              "    </tr>\n",
              "    <tr>\n",
              "      <th>10537</th>\n",
              "      <td>ec2951e5afb60d72a4a3e0be6d3e9c0a_right</td>\n",
              "      <td>0.076852</td>\n",
              "    </tr>\n",
              "  </tbody>\n",
              "</table>\n",
              "<p>10538 rows × 2 columns</p>\n",
              "</div>"
            ],
            "text/plain": [
              "                                           ID     score\n",
              "0       c74d97b01eae257e44aa9d5bade97baf_left  0.930620\n",
              "1      c74d97b01eae257e44aa9d5bade97baf_right  0.980844\n",
              "2       70efdf2ec9b086079795c442636b55fb_left  0.209052\n",
              "3      70efdf2ec9b086079795c442636b55fb_right  0.383878\n",
              "4       1f0e3dad99908345f7439f8ffabdffc4_left  0.123336\n",
              "...                                       ...       ...\n",
              "10533  e261790d3a4cb0c69c17d7c183830289_right  0.410228\n",
              "10534   d21137447f7fdc47f7e6677ae35522a7_left  0.101767\n",
              "10535  d21137447f7fdc47f7e6677ae35522a7_right  0.287608\n",
              "10536   ec2951e5afb60d72a4a3e0be6d3e9c0a_left  0.099458\n",
              "10537  ec2951e5afb60d72a4a3e0be6d3e9c0a_right  0.076852\n",
              "\n",
              "[10538 rows x 2 columns]"
            ]
          },
          "execution_count": 45,
          "metadata": {},
          "output_type": "execute_result"
        },
        {
          "name": "stdout",
          "output_type": "stream",
          "text": [
            "time: 13.2 ms (started: 2023-07-05 12:45:49 -05:00)\n"
          ]
        }
      ],
      "source": [
        "df_test[\"score\"] = score\n",
        "df_test"
      ]
    },
    {
      "cell_type": "code",
      "execution_count": 49,
      "metadata": {},
      "outputs": [
        {
          "name": "stdout",
          "output_type": "stream",
          "text": [
            "time: 51.4 ms (started: 2023-07-05 12:48:45 -05:00)\n"
          ]
        }
      ],
      "source": [
        "# save\n",
        "from datetime import datetime\n",
        "\n",
        "# datetime object containing current date and time\n",
        "now = datetime.now()\n",
        "dt_string = now.strftime(\"%d-%m-%Y-%H:%M:%S\")\n",
        "\n",
        "df_test.to_csv(\"output/{}_{}_{}_transf{}.csv\".format(dt_string, model_name, option[0], trans), sep=\",\", index=False, header=True)"
      ]
    },
    {
      "attachments": {},
      "cell_type": "markdown",
      "metadata": {
        "id": "MLvO6ZkD8yG3"
      },
      "source": [
        "## Further Learning\n",
        "\n",
        "If you would like to learn more about the applications of transfer learning,\n",
        "checkout our [Quantized Transfer Learning for Computer Vision Tutorial](https://pytorch.org/tutorials/intermediate/quantized_transfer_learning_tutorial.html).\n",
        "\n",
        "\n",
        "\n"
      ]
    },
    {
      "cell_type": "code",
      "execution_count": null,
      "metadata": {
        "colab": {
          "base_uri": "https://localhost:8080/"
        },
        "id": "lTOGUwKmFvaa",
        "outputId": "6fe6c071-9613-4af2-f9f7-37bc13615e9d"
      },
      "outputs": [
        {
          "data": {
            "text/plain": [
              "(879, 879)"
            ]
          },
          "execution_count": 391,
          "metadata": {},
          "output_type": "execute_result"
        },
        {
          "name": "stdout",
          "output_type": "stream",
          "text": [
            "time: 4.42 ms (started: 2022-10-24 14:11:26 -05:00)\n"
          ]
        }
      ],
      "source": [
        "len(y_prob), len(predictions_proba)"
      ]
    },
    {
      "cell_type": "code",
      "execution_count": null,
      "metadata": {
        "colab": {
          "base_uri": "https://localhost:8080/"
        },
        "id": "oES71VX_CoTr",
        "outputId": "5a2399b9-dc6d-48c5-adea-17cc15f526a8"
      },
      "outputs": [
        {
          "name": "stdout",
          "output_type": "stream",
          "text": [
            "635 244\n",
            "time: 50.6 ms (started: 2022-10-24 14:11:29 -05:00)\n"
          ]
        }
      ],
      "source": [
        "a = 0\n",
        "b = 0\n",
        "for k, item in enumerate(predictions_proba):\n",
        "  if item in y_prob:\n",
        "    a += 1\n",
        "  else:\n",
        "    b += 1\n",
        "\n",
        "print(a, b)"
      ]
    },
    {
      "cell_type": "code",
      "execution_count": null,
      "metadata": {
        "colab": {
          "base_uri": "https://localhost:8080/"
        },
        "id": "aF7e9d1KD2GW",
        "outputId": "6b60be01-47c9-4628-a589-d97183872ce6"
      },
      "outputs": [
        {
          "data": {
            "text/plain": [
              "tensor([[-0.1453,  0.1453],\n",
              "        [-0.2138,  0.2138],\n",
              "        [-0.1328,  0.1328],\n",
              "        ...,\n",
              "        [ 0.4921, -0.4921],\n",
              "        [ 0.7417, -0.7417],\n",
              "        [-0.6879,  0.6879]], device='cuda:0')"
            ]
          },
          "execution_count": 393,
          "metadata": {},
          "output_type": "execute_result"
        },
        {
          "name": "stdout",
          "output_type": "stream",
          "text": [
            "time: 6.92 ms (started: 2022-10-24 14:11:34 -05:00)\n"
          ]
        }
      ],
      "source": [
        "predictions_proba - y_prob"
      ]
    },
    {
      "cell_type": "code",
      "execution_count": null,
      "metadata": {
        "colab": {
          "base_uri": "https://localhost:8080/"
        },
        "id": "II8s8eeLII3Y",
        "outputId": "a1c0d9f9-760e-45c2-fc9a-c149af06a0af"
      },
      "outputs": [
        {
          "name": "stdout",
          "output_type": "stream",
          "text": [
            "time: 47.2 ms (started: 2022-10-24 14:11:39 -05:00)\n"
          ]
        }
      ],
      "source": [
        "ohist = []\n",
        "shist = []\n",
        "\n",
        "ohist = [h.cpu().numpy().tolist() for h in y_prob]\n",
        "shist = [h.cpu().numpy().tolist() for h in predictions_proba]"
      ]
    },
    {
      "cell_type": "code",
      "execution_count": null,
      "metadata": {
        "colab": {
          "base_uri": "https://localhost:8080/"
        },
        "id": "ITm_lDyOJpvx",
        "outputId": "0b020637-dff8-48fa-f043-4b0c3fb6fbbb"
      },
      "outputs": [
        {
          "data": {
            "text/plain": [
              "[[0.14711539447307587, 0.8528845906257629],\n",
              " [0.21607042849063873, 0.7839295864105225],\n",
              " [0.8877939581871033, 0.11220604926347733],\n",
              " [0.01686420850455761, 0.9831357598304749],\n",
              " [0.002497079549357295, 0.9975029826164246],\n",
              " [0.9482443928718567, 0.051755599677562714],\n",
              " [0.9887135028839111, 0.01128657441586256],\n",
              " [0.24072377383708954, 0.7592762112617493],\n",
              " [0.0020917770452797413, 0.9979082345962524],\n",
              " [0.0027087603230029345, 0.9972912669181824]]"
            ]
          },
          "execution_count": 350,
          "metadata": {},
          "output_type": "execute_result"
        },
        {
          "name": "stdout",
          "output_type": "stream",
          "text": [
            "time: 4.9 ms (started: 2022-10-24 13:46:39 -05:00)\n"
          ]
        }
      ],
      "source": [
        "ohist[:10]"
      ]
    },
    {
      "cell_type": "code",
      "execution_count": null,
      "metadata": {
        "colab": {
          "base_uri": "https://localhost:8080/"
        },
        "id": "XVQenBdfJ2y6",
        "outputId": "fdfd226f-c0e2-45ee-a7b7-235e810871c6"
      },
      "outputs": [
        {
          "data": {
            "text/plain": [
              "[[0.984623908996582, 0.015376050025224686],\n",
              " [0.1200985312461853, 0.8799015283584595],\n",
              " [0.5861233472824097, 0.41387665271759033],\n",
              " [7.99512563389726e-05, 0.9999200105667114],\n",
              " [0.0014523343415930867, 0.9985476136207581],\n",
              " [0.00046254004701040685, 0.999537467956543],\n",
              " [0.9405980706214905, 0.05940190330147743],\n",
              " [0.7390910983085632, 0.26090890169143677],\n",
              " [0.9634218215942383, 0.036578238010406494],\n",
              " [0.004561557900160551, 0.9954385161399841]]"
            ]
          },
          "execution_count": 351,
          "metadata": {},
          "output_type": "execute_result"
        },
        {
          "name": "stdout",
          "output_type": "stream",
          "text": [
            "time: 4.82 ms (started: 2022-10-24 13:46:43 -05:00)\n"
          ]
        }
      ],
      "source": [
        "shist[:10]"
      ]
    },
    {
      "cell_type": "code",
      "execution_count": null,
      "metadata": {
        "colab": {
          "base_uri": "https://localhost:8080/"
        },
        "id": "QtIyYaZuM9z0",
        "outputId": "dd8c7df8-d7d1-4d4c-a244-9db6cbfaed03"
      },
      "outputs": [
        {
          "name": "stdout",
          "output_type": "stream",
          "text": [
            "time: 1.97 ms (started: 2022-10-24 14:11:44 -05:00)\n"
          ]
        }
      ],
      "source": [
        "a = np.array(ohist)\n",
        "b = np.array(shist)"
      ]
    },
    {
      "cell_type": "code",
      "execution_count": null,
      "metadata": {
        "colab": {
          "base_uri": "https://localhost:8080/"
        },
        "id": "bvSX9ETKUsjt",
        "outputId": "bc34d8d1-c1e9-4e55-9eff-f7ad049e3d6e"
      },
      "outputs": [
        {
          "data": {
            "text/plain": [
              "array([[ 0.14525925, -0.14525932],\n",
              "       [ 0.21383996, -0.21384001],\n",
              "       [ 0.13283145, -0.13283143],\n",
              "       ...,\n",
              "       [-0.49212154,  0.49212158],\n",
              "       [-0.74168267,  0.7416826 ],\n",
              "       [ 0.68785605, -0.68785617]])"
            ]
          },
          "execution_count": 396,
          "metadata": {},
          "output_type": "execute_result"
        },
        {
          "name": "stdout",
          "output_type": "stream",
          "text": [
            "time: 5.83 ms (started: 2022-10-24 14:11:48 -05:00)\n"
          ]
        }
      ],
      "source": [
        "a_b = a - b\n",
        "a_b"
      ]
    },
    {
      "cell_type": "code",
      "execution_count": null,
      "metadata": {
        "colab": {
          "base_uri": "https://localhost:8080/"
        },
        "id": "RkXz7lwSOKZV",
        "outputId": "8c99d729-1248-4fe7-940d-02e131ad3329"
      },
      "outputs": [
        {
          "data": {
            "text/plain": [
              "array([[9.96677041e-01, 3.32291843e-03],\n",
              "       [9.93342698e-01, 6.65730750e-03],\n",
              "       [9.91753936e-01, 8.24605953e-03],\n",
              "       ...,\n",
              "       [5.45697039e-05, 9.99945402e-01],\n",
              "       [5.34961218e-05, 9.99946475e-01],\n",
              "       [5.62726700e-06, 9.99994397e-01]])"
            ]
          },
          "execution_count": 397,
          "metadata": {},
          "output_type": "execute_result"
        },
        {
          "name": "stdout",
          "output_type": "stream",
          "text": [
            "time: 5.43 ms (started: 2022-10-24 14:11:53 -05:00)\n"
          ]
        }
      ],
      "source": [
        "a_ = a[a[:, 1].argsort()]\n",
        "a_"
      ]
    },
    {
      "cell_type": "code",
      "execution_count": null,
      "metadata": {
        "colab": {
          "base_uri": "https://localhost:8080/"
        },
        "id": "8Rd96MRnOL63",
        "outputId": "773c1425-84b3-46a6-ad14-0a01bd4bef19"
      },
      "outputs": [
        {
          "data": {
            "text/plain": [
              "array([[9.96677041e-01, 3.32291843e-03],\n",
              "       [9.93342698e-01, 6.65730750e-03],\n",
              "       [9.91753936e-01, 8.24605953e-03],\n",
              "       ...,\n",
              "       [5.45698058e-05, 9.99945402e-01],\n",
              "       [5.34960709e-05, 9.99946475e-01],\n",
              "       [5.62726700e-06, 9.99994397e-01]])"
            ]
          },
          "execution_count": 398,
          "metadata": {},
          "output_type": "execute_result"
        },
        {
          "name": "stdout",
          "output_type": "stream",
          "text": [
            "time: 11.2 ms (started: 2022-10-24 14:11:57 -05:00)\n"
          ]
        }
      ],
      "source": [
        "b_ = b[b[:, 1].argsort()]\n",
        "b_"
      ]
    },
    {
      "cell_type": "code",
      "execution_count": null,
      "metadata": {
        "colab": {
          "base_uri": "https://localhost:8080/",
          "height": 469
        },
        "id": "awJ6rCT9PatY",
        "outputId": "dbf078a2-fa12-4a7d-894e-7fee0db0faa9"
      },
      "outputs": [
        {
          "data": {
            "image/png": "[encoded data removed]",
            "text/plain": [
              "<Figure size 640x480 with 2 Axes>"
            ]
          },
          "metadata": {},
          "output_type": "display_data"
        },
        {
          "name": "stdout",
          "output_type": "stream",
          "text": [
            "time: 308 ms (started: 2022-10-24 14:12:05 -05:00)\n"
          ]
        }
      ],
      "source": [
        "# Program to plot 2-D Heat map\n",
        "# using seaborn.heatmap() method\n",
        "import numpy as np\n",
        "import seaborn as sns\n",
        "import matplotlib.pylab as plt\n",
        "\n",
        "sns.heatmap(a_b, annot=False)\n",
        "\n",
        "plt.title( \"2-D Heat Map\" )\n",
        "plt.show()"
      ]
    },
    {
      "cell_type": "code",
      "execution_count": null,
      "metadata": {
        "colab": {
          "base_uri": "https://localhost:8080/",
          "height": 469
        },
        "id": "VE4Lw7xVWoen",
        "outputId": "8c7bc5bb-3362-4dbb-fb81-b473f01722fa"
      },
      "outputs": [
        {
          "data": {
            "image/png": "[encoded data removed]",
            "text/plain": [
              "<Figure size 640x480 with 2 Axes>"
            ]
          },
          "metadata": {},
          "output_type": "display_data"
        },
        {
          "name": "stdout",
          "output_type": "stream",
          "text": [
            "time: 241 ms (started: 2022-10-24 14:12:18 -05:00)\n"
          ]
        }
      ],
      "source": [
        "sns.heatmap(a_b_, annot=False)\n",
        "\n",
        "plt.title( \"2-D Heat Map\" )\n",
        "plt.show()"
      ]
    },
    {
      "cell_type": "code",
      "execution_count": null,
      "metadata": {
        "colab": {
          "base_uri": "https://localhost:8080/"
        },
        "id": "V-jHTawsITZl",
        "outputId": "8da7a7ab-6c67-40aa-ce75-d18844a5911e"
      },
      "outputs": [
        {
          "name": "stdout",
          "output_type": "stream",
          "text": [
            "167 712\n",
            "time: 27.1 ms (started: 2022-10-24 13:12:41 -05:00)\n"
          ]
        }
      ],
      "source": [
        "a = 0\n",
        "b = 0\n",
        "for k, item in enumerate(shist):\n",
        "  if item in ohist:\n",
        "    a += 1\n",
        "  else:\n",
        "    b += 1\n",
        "\n",
        "print(a, b)"
      ]
    }
  ],
  "metadata": {
    "accelerator": "GPU",
    "colab": {
      "collapsed_sections": [
        "1RAC0vLJGeNg",
        "cRArdThPIurA",
        "PG4HUYFv8yG3",
        "eEcgQfkyONkm"
      ],
      "provenance": []
    },
    "kernelspec": {
      "display_name": "Python 3",
      "language": "python",
      "name": "python3"
    },
    "language_info": {
      "codemirror_mode": {
        "name": "ipython",
        "version": 3
      },
      "file_extension": ".py",
      "mimetype": "text/x-python",
      "name": "python",
      "nbconvert_exporter": "python",
      "pygments_lexer": "ipython3",
      "version": "3.10.11"
    }
  },
  "nbformat": 4,
  "nbformat_minor": 0
}
