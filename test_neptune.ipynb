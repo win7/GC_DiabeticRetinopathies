{
 "cells": [
  {
   "cell_type": "code",
   "execution_count": 3,
   "metadata": {},
   "outputs": [
    {
     "name": "stdout",
     "output_type": "stream",
     "text": [
      "https://app.neptune.ai/edwin.alvarez/Kaggle-GC/e/KAG-6\n",
      "Shutting down background jobs, please wait a moment...\n",
      "Done!\n",
      "Waiting for the remaining 5 operations to synchronize with Neptune. Do not kill this process.\n",
      "All 5 operations synced, thanks for waiting!\n",
      "Explore the metadata in the Neptune app:\n",
      "https://app.neptune.ai/edwin.alvarez/Kaggle-GC/e/KAG-6/metadata\n"
     ]
    }
   ],
   "source": [
    "import neptune\n",
    "import time\n",
    "\n",
    "run = neptune.init_run(\n",
    "    project=\"edwin.alvarez/Kaggle-GC\",\n",
    "    api_token=\"eyJhcGlfYWRkcmVzcyI6Imh0dHBzOi8vYXBwLm5lcHR1bmUuYWkiLCJhcGlfdXJsIjoiaHR0cHM6Ly9hcHAubmVwdHVuZS5haSIsImFwaV9rZXkiOiIwZjM0NzgxNy1lMDI1LTQxMzgtYTE2NS03OTIwOWY5NzgwNTkifQ==\",\n",
    ")  # your credentials\n",
    "\n",
    "run[\"sys/tags\"].add(\"best 🏆\")\n",
    "\n",
    "params = {\"learning_rate\": 0.001, \"optimizer\": \"Adam\"}\n",
    "run[\"parameters\"] = params\n",
    "\n",
    "for epoch in range(30):\n",
    "    time.sleep(1)\n",
    "    run[\"train/loss\"].append(0.9 ** epoch)\n",
    "\n",
    "run[\"eval/f1_score\"] = 0.66\n",
    "\n",
    "run.stop()"
   ]
  },
  {
   "cell_type": "code",
   "execution_count": 4,
   "metadata": {},
   "outputs": [
    {
     "name": "stderr",
     "output_type": "stream",
     "text": [
      "Count: 9: 100%|██████████| 10/10 [00:10<00:00,  1.00s/it, After count: 8, Next count: 10]\n"
     ]
    }
   ],
   "source": [
    "from tqdm import tqdm\n",
    "import numpy as np\n",
    "import time\n",
    "\n",
    "loop_obj = tqdm(np.arange(10))\n",
    "\n",
    "for i in loop_obj:\n",
    "    time.sleep(1)\n",
    "    loop_obj.set_description(f\"Count: {i}\")  # Adds text before progessbar\n",
    "    loop_obj.set_postfix_str(f\"After count: {i-1}, Next count: {i+1}\")  # Adds text after progressbar\n"
   ]
  }
 ],
 "metadata": {
  "kernelspec": {
   "display_name": "kaggle_3.10",
   "language": "python",
   "name": "python3"
  },
  "language_info": {
   "codemirror_mode": {
    "name": "ipython",
    "version": 3
   },
   "file_extension": ".py",
   "mimetype": "text/x-python",
   "name": "python",
   "nbconvert_exporter": "python",
   "pygments_lexer": "ipython3",
   "version": "3.10.11"
  },
  "orig_nbformat": 4
 },
 "nbformat": 4,
 "nbformat_minor": 2
}
