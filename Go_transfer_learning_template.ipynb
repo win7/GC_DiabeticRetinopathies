{
  "cells": [
    {
      "attachments": {},
      "cell_type": "markdown",
      "metadata": {
        "id": "md-x1taQ8yGx"
      },
      "source": [
        "## Transfer Learning for Computer Vision Tutorial\n",
        "\n",
        "**Author**: [Sasank Chilamkurthy](https://chsasank.github.io)\n",
        "\n",
        "**Modified by**: win7 at october 2022\n",
        "\n",
        "In this tutorial, you will learn how to train a convolutional neural network for\n",
        "image classification using transfer learning. You can read more about the transfer\n",
        "learning at [cs231n notes](https://cs231n.github.io/transfer-learning/)_\n",
        "\n",
        "Quoting these notes,\n",
        "\n",
        "    In practice, very few people train an entire Convolutional Network\n",
        "    from scratch (with random initialization), because it is relatively\n",
        "    rare to have a dataset of sufficient size. Instead, it is common to\n",
        "    pretrain a ConvNet on a very large dataset (e.g. ImageNet, which\n",
        "    contains 1.2 million images with 1000 categories), and then use the\n",
        "    ConvNet either as an initialization or a fixed feature extractor for\n",
        "    the task of interest.\n",
        "\n",
        "These two major transfer learning scenarios look as follows:\n",
        "\n",
        "-  **Finetuning the convnet**: Instead of random initialization, we\n",
        "   initialize the network with a pretrained network, like the one that is\n",
        "   trained on imagenet 1000 dataset. Rest of the training looks as\n",
        "   usual.\n",
        "-  **ConvNet as fixed feature extractor**: Here, we will freeze the weights\n",
        "   for all of the network except that of the final fully connected\n",
        "   layer. This last fully connected layer is replaced with a new one\n",
        "   with random weights and only this layer is trained.\n"
      ]
    },
    {
      "attachments": {},
      "cell_type": "markdown",
      "metadata": {},
      "source": [
        "### Imports"
      ]
    },
    {
      "cell_type": "code",
      "execution_count": 9,
      "metadata": {
        "colab": {
          "base_uri": "https://localhost:8080/"
        },
        "id": "H0K8D2yZ8yGy",
        "outputId": "f726af03-30dd-455c-e9ef-0d60a6fab390"
      },
      "outputs": [
        {
          "name": "stdout",
          "output_type": "stream",
          "text": [
            "The autotime extension is already loaded. To reload it, use:\n",
            "  %reload_ext autotime\n",
            "time: 3.26 ms (started: 2023-06-30 10:06:03 -05:00)\n"
          ]
        }
      ],
      "source": [
        "# License: BSD\n",
        "# Author: Sasank Chilamkurthy\n",
        "\n",
        "from __future__ import print_function, division\n",
        "\n",
        "import torch\n",
        "import torch.nn as nn\n",
        "import torch.optim as optim\n",
        "from torch.optim import lr_scheduler\n",
        "import torch.backends.cudnn as cudnn\n",
        "import numpy as np\n",
        "import torchvision\n",
        "from torchvision import datasets, models, transforms\n",
        "import matplotlib.pyplot as plt\n",
        "import time\n",
        "import os\n",
        "import copy\n",
        "\n",
        "import pandas as pd\n",
        "import shutil\n",
        "import sys\n",
        "\n",
        "from sklearn.metrics import classification_report\n",
        "from sklearn.metrics import roc_auc_score\n",
        "from sklearn.model_selection import train_test_split\n",
        "from PIL import Image\n",
        "\n",
        "from tqdm import tqdm\n",
        "import memory_profiler  # conda install -c anaconda memory_profiler\n",
        "# cudnn.benchmark = True\n",
        "# plt.ion()   # interactive mode\n",
        "import neptune\n",
        "\n",
        "%matplotlib inline\n",
        "%load_ext autotime"
      ]
    },
    {
      "attachments": {},
      "cell_type": "markdown",
      "metadata": {},
      "source": [
        "### Functions\n",
        "\n"
      ]
    },
    {
      "cell_type": "code",
      "execution_count": 10,
      "metadata": {
        "colab": {
          "base_uri": "https://localhost:8080/"
        },
        "id": "88IWH2bxRwS0",
        "outputId": "a6b5436a-3f34-4064-914c-9f3a1e7a9a92"
      },
      "outputs": [
        {
          "name": "stdout",
          "output_type": "stream",
          "text": [
            "time: 6.13 ms (started: 2023-06-30 10:06:03 -05:00)\n"
          ]
        }
      ],
      "source": [
        "def move_split(df, type): # change this function according your dataset\n",
        "    if not os.path.isdir(\"dataset\"):\n",
        "        os.makedirs(\"dataset\")\n",
        "\n",
        "        for item in np.unique(df.iloc[:, -1]):\n",
        "            os.makedirs(\"dataset/train/class_{}\".format(item))\n",
        "            os.makedirs(\"dataset/valid/class_{}\".format(item))\n",
        "    \n",
        "    for index, row in tqdm(df.iterrows()):\n",
        "        s = \"source/train/{}_{}.jpg\".format(row[\"ID\"], row[\"location\"])\n",
        "        t = \"dataset/{}/class_{}\".format(type, row[\"level\"])\n",
        "        shutil.copy(s, t)\n",
        "\n",
        "def set_parameter_requires_grad(model, feature_extract):\n",
        "    if feature_extract:\n",
        "        for param in model.parameters():\n",
        "            param.requires_grad = False\n",
        "\n",
        "# set initialize weight for custom model\n",
        "def init_weights(m):\n",
        "    if isinstance(m, torch.nn.Linear):\n",
        "        torch.nn.init.xavier_uniform_(m.weight)\n",
        "        m.bias.data.fill_(0.01)\n",
        "\n",
        "def classifier_model(num_ftrs, num_classes, init_weight=False):\n",
        "    # Custom model\n",
        "    \"\"\" torch.nn.Conv2d(in_channels=8, out_channels=3, kernel_size=(3, 3), padding=1),\n",
        "    torch.nn.ReLU(),\n",
        "    torch.nn.MaxPool2d((2, 2)),\n",
        "    torch.nn.Conv2d(in_channels=3, out_channels=2, kernel_size=(3, 3), padding=1),\n",
        "    torch.nn.ReLU(),\n",
        "    torch.nn.MaxPool2d((2, 2)),\n",
        "    torch.nn.Flatten(), \"\"\"\n",
        "\n",
        "    model = torch.nn.Sequential(torch.nn.Linear(num_ftrs, 128),\n",
        "                                torch.nn.ReLU(),\n",
        "\n",
        "                                torch.nn.Linear(128, 64),\n",
        "                                torch.nn.ReLU(),\n",
        "                                torch.nn.Dropout(0.5),\n",
        "\n",
        "                                torch.nn.Linear(64, num_classes))\n",
        "    if init_weight:\n",
        "        model.apply(init_weights)\n",
        "    return model\n",
        "\n",
        "def initialize_model(model_name, num_classes, feature_extract, use_pretrained=True):\n",
        "    # Initialize these variables which will be set in this if statement. Each of these\n",
        "    # variables is model specific.\n",
        "    model_ft = None\n",
        "    input_size = 0\n",
        "\n",
        "    if model_name == \"resnet50\":\n",
        "        weights = models.ResNet50_Weights.IMAGENET1K_V2 # 97.8M\n",
        "        model_ft = models.resnet50(weights=weights)\n",
        "        set_parameter_requires_grad(model_ft, feature_extract)\n",
        "        num_ftrs = model_ft.fc.in_features\n",
        "        model_ft.fc = classifier_model(num_ftrs, num_classes, init_weight=True) # nn.Linear(num_ftrs, num_classes)\n",
        "        input_size = 224\n",
        "\n",
        "    if model_name == \"resnet152\":\n",
        "        weights = models.ResNet152_Weights.IMAGENET1K_V2 # 230M\n",
        "        model_ft = models.resnet152(weights=weights)\n",
        "        set_parameter_requires_grad(model_ft, feature_extract)\n",
        "        num_ftrs = model_ft.fc.in_features\n",
        "        model_ft.fc = classifier_model(num_ftrs, num_classes, init_weight=True) # # nn.Linear(num_ftrs, num_classes)\n",
        "        input_size = 224\n",
        "    elif model_name == \"alexnet\":\n",
        "        model_ft = models.alexnet(pretrained=use_pretrained)\n",
        "        set_parameter_requires_grad(model_ft, feature_extract)\n",
        "        num_ftrs = model_ft.classifier[6].in_features\n",
        "        model_ft.classifier[6] = classifier_model(num_ftrs, num_classes, init_weight=True) # nn.Linear(num_ftrs,num_classes)\n",
        "        input_size = 224\n",
        "\n",
        "    elif model_name == \"vgg19\":\n",
        "        weights = models.VGG19_Weights.IMAGENET1K_V1 # 548M\n",
        "        model_ft = models.vgg19(weights=weights)\n",
        "        set_parameter_requires_grad(model_ft, feature_extract)\n",
        "        num_ftrs = model_ft.classifier[6].in_features\n",
        "        model_ft.classifier[6] = classifier_model(num_ftrs, num_classes, init_weight=True) # nn.Linear(num_ftrs,num_classes)\n",
        "        input_size = 224\n",
        "\n",
        "    elif model_name == \"squeezenet1_0\":\n",
        "        model_ft = models.squeezenet1_0(pretrained=use_pretrained)\n",
        "        set_parameter_requires_grad(model_ft, feature_extract)\n",
        "        model_ft.classifier[1] = nn.Conv2d(512, num_classes, kernel_size=(1,1), stride=(1,1))\n",
        "        model_ft.num_classes = num_classes\n",
        "        input_size = 224\n",
        "\n",
        "    elif model_name == \"densenet201\":\n",
        "        weights = models.DenseNet201_Weights.IMAGENET1K_V1 # 77.4M\n",
        "        model_ft = models.densenet201(weights=weights)\n",
        "        set_parameter_requires_grad(model_ft, feature_extract)\n",
        "        num_ftrs = model_ft.classifier.in_features\n",
        "        model_ft.classifier = classifier_model(num_ftrs, num_classes, init_weight=True) # nn.Linear(num_ftrs, num_classes)\n",
        "        input_size = 224\n",
        "\n",
        "    elif model_name == \"inception\":\n",
        "        \"\"\" Inception v3\n",
        "        Be careful, expects (299,299) sized images and has auxiliary output\n",
        "        \"\"\"\n",
        "        weights = models.Inception_V3_Weights.IMAGENET1K_V1 #\n",
        "        model_ft = models.inception_v3(weights=weights, progress=True)\n",
        "        set_parameter_requires_grad(model_ft, feature_extract)\n",
        "        # Handle the auxilary net\n",
        "        num_ftrs = model_ft.AuxLogits.fc.in_features\n",
        "        model_ft.AuxLogits.fc = nn.Linear(num_ftrs, num_classes)\n",
        "        # Handle the primary net\n",
        "        num_ftrs = model_ft.fc.in_features\n",
        "        model_ft.fc = nn.Linear(num_ftrs,num_classes)\n",
        "        input_size = 299\n",
        "\n",
        "    else:\n",
        "        print(\"Invalidid model name, exiting...\")\n",
        "        exit()\n",
        "\n",
        "    return model_ft, input_size\n",
        "\n",
        "def imshow(inp, title=None):\n",
        "    \"\"\"Imshow for Tensor.\"\"\"\n",
        "    inp = inp.numpy().transpose((1, 2, 0))\n",
        "    mean = np.array([0.485, 0.456, 0.406])\n",
        "    std = np.array([0.229, 0.224, 0.225])\n",
        "    inp = std * inp + mean\n",
        "    inp = np.clip(inp, 0, 1)\n",
        "    plt.imshow(inp)\n",
        "    if title is not None:\n",
        "        plt.title(title)\n",
        "    plt.pause(0.001)  # pause a bit so that plots are updated\n",
        "\n",
        "def train_model(model, criterion, optimizer, scheduler, num_epochs=25):\n",
        "    since = time.time()\n",
        "\n",
        "    valid_acc_history = []\n",
        "\n",
        "    train_losses = []\n",
        "    valid_losses = []\n",
        "\n",
        "    train_accuracies = []\n",
        "    valid_accuracies = []\n",
        "\n",
        "    best_model_wts = copy.deepcopy(model.state_dict())\n",
        "    best_acc = 0.0\n",
        "\n",
        "    for epoch in range(num_epochs):\n",
        "        print(f\"Epoch {epoch + 1}/{num_epochs}\")\n",
        "        print(\"-\" * 10)\n",
        "\n",
        "        # Each epoch has a training and valididation phase\n",
        "        for phase in [\"train\", \"valid\"]:\n",
        "            if phase == \"train\":\n",
        "                model.train()  # Set model to training mode\n",
        "            else:\n",
        "                model.eval()   # Set model to evaluate mode\n",
        "\n",
        "            running_loss = 0.0\n",
        "            running_corrects = 0\n",
        "\n",
        "            # Iterate over data.\n",
        "            for inputs, labels in dataloaders[phase]:\n",
        "                inputs = inputs.to(device)\n",
        "                labels = labels.to(device)\n",
        "\n",
        "                # zero the parameter gradients\n",
        "                optimizer.zero_grad()\n",
        "\n",
        "                # forward\n",
        "                # track history if only in train\n",
        "                with torch.set_grad_enabled(phase == \"train\"):\n",
        "                    outputs = model(inputs)\n",
        "                    _, preds = torch.max(outputs, 1)\n",
        "                    loss = criterion(outputs, labels)\n",
        "\n",
        "                    # backward + optimize only if in training phase\n",
        "                    if phase == \"train\":\n",
        "                        loss.backward()\n",
        "                        optimizer.step()\n",
        "\n",
        "                # statistics\n",
        "                running_loss += loss.item() * inputs.size(0)\n",
        "                running_corrects += torch.sum(preds == labels.data)\n",
        "\n",
        "            if phase == \"train\":\n",
        "                scheduler.step()\n",
        "\n",
        "            epoch_loss = running_loss / dataset_sizes[phase]\n",
        "            epoch_acc = running_corrects.double() / dataset_sizes[phase]\n",
        "\n",
        "            if phase == \"train\":\n",
        "                train_accuracies.append(epoch_acc)\n",
        "                train_losses.append(epoch_loss)\n",
        "\n",
        "                run[\"train/accuracy\"].append(epoch_acc)\n",
        "                run[\"train/loss\"].append(epoch_loss)\n",
        "            else:\n",
        "                valid_accuracies.append(epoch_acc)\n",
        "                valid_losses.append(epoch_loss)\n",
        "\n",
        "                run[\"valid/accuracy\"].append(epoch_acc)\n",
        "                run[\"valid/loss\"].append(epoch_loss)\n",
        "\n",
        "            print(f\"{phase} Loss: {epoch_loss:.4f} Acc: {epoch_acc:.4f}\")\n",
        "\n",
        "            # deep copy the model\n",
        "            if phase == \"valid\" and epoch_acc > best_acc:\n",
        "                best_acc = epoch_acc\n",
        "                best_model_wts = copy.deepcopy(model.state_dict())\n",
        "            if phase == \"valid\":\n",
        "                valid_acc_history.append(epoch_acc)\n",
        "\n",
        "        print()\n",
        "\n",
        "    time_elapsed = time.time() - since\n",
        "    print(f\"Training complete in {time_elapsed // 60:.0f}m {time_elapsed % 60:.0f}s\")\n",
        "    print(f\"Best valid Acc: {best_acc:4f}\")\n",
        "\n",
        "    run[\"runtimel/training\"] = time_elapsed\n",
        "\n",
        "    # load best model weights\n",
        "    model.load_state_dict(best_model_wts)\n",
        "\n",
        "    run.stop()\n",
        "    return model, train_losses, valid_losses, train_accuracies, valid_accuracies # valid_acc_history\n",
        "\n",
        "def visualize_model(model, num_images=6):\n",
        "    was_training = model.training\n",
        "    model.eval()\n",
        "    images_so_far = 0\n",
        "    fig = plt.figure()\n",
        "\n",
        "    with torch.no_grad():\n",
        "        for i, (inputs, labels) in enumerate(dataloaders[\"valid\"]):\n",
        "            inputs = inputs.to(device)\n",
        "            labels = labels.to(device)\n",
        "\n",
        "            outputs = model(inputs)\n",
        "            _, preds = torch.max(outputs, 1)\n",
        "\n",
        "            for j in range(inputs.size()[0]):\n",
        "                images_so_far += 1\n",
        "                ax = plt.subplot(num_images//2, 2, images_so_far)\n",
        "                ax.axis(\"off\")\n",
        "                ax.set_title(f\"predicted: {class_names[preds[j]]}\")\n",
        "                imshow(inputs.cpu().data[j])\n",
        "\n",
        "                if images_so_far == num_images:\n",
        "                    model.train(mode=was_training)\n",
        "                    return\n",
        "        model.train(mode=was_training)\n",
        "\n",
        "def show_results(train_losses, valid_losses, train_accuracies, valid_accuracies):\n",
        "    train_accuracies_ = [h.cpu().numpy() for h in train_accuracies]\n",
        "    valid_accuracies_ = [h.cpu().numpy() for h in valid_accuracies]\n",
        "\n",
        "    fig, axes = plt.subplots(1, 2, figsize=(14,4))\n",
        "    ax1, ax2 = axes\n",
        "    ax1.plot(train_losses, label=\"train\")\n",
        "    ax1.plot(valid_losses, label=\"valid\")\n",
        "    ax1.set_xlabel(\"Epoch\"); ax1.set_ylabel(\"Loss\")\n",
        "    ax1.grid()\n",
        "    ax2.plot(train_accuracies_, label=\"train\")\n",
        "    ax2.plot(valid_accuracies_, label=\"valid\")\n",
        "    ax2.set_xlabel(\"Epoch\"); ax2.set_ylabel(\"Accuracy\")\n",
        "    ax2.grid()\n",
        "    for ax in axes: ax.legend()"
      ]
    },
    {
      "attachments": {},
      "cell_type": "markdown",
      "metadata": {
        "id": "1RAC0vLJGeNg"
      },
      "source": [
        "### Split data"
      ]
    },
    {
      "cell_type": "code",
      "execution_count": 11,
      "metadata": {
        "colab": {
          "base_uri": "https://localhost:8080/",
          "height": 441
        },
        "id": "zWISQyq-NsgY",
        "outputId": "8650caa7-d10f-4e87-9606-41a4404a345e"
      },
      "outputs": [
        {
          "data": {
            "text/html": [
              "<div>\n",
              "<style scoped>\n",
              "    .dataframe tbody tr th:only-of-type {\n",
              "        vertical-align: middle;\n",
              "    }\n",
              "\n",
              "    .dataframe tbody tr th {\n",
              "        vertical-align: top;\n",
              "    }\n",
              "\n",
              "    .dataframe thead th {\n",
              "        text-align: right;\n",
              "    }\n",
              "</style>\n",
              "<table border=\"1\" class=\"dataframe\">\n",
              "  <thead>\n",
              "    <tr style=\"text-align: right;\">\n",
              "      <th></th>\n",
              "      <th>ID</th>\n",
              "      <th>location</th>\n",
              "      <th>level</th>\n",
              "    </tr>\n",
              "  </thead>\n",
              "  <tbody>\n",
              "    <tr>\n",
              "      <th>0</th>\n",
              "      <td>d3d9446802a44259755d38e6d163e820</td>\n",
              "      <td>left</td>\n",
              "      <td>0</td>\n",
              "    </tr>\n",
              "    <tr>\n",
              "      <th>1</th>\n",
              "      <td>d3d9446802a44259755d38e6d163e820</td>\n",
              "      <td>right</td>\n",
              "      <td>0</td>\n",
              "    </tr>\n",
              "    <tr>\n",
              "      <th>2</th>\n",
              "      <td>c51ce410c124a10e0db5e4b97fc2af39</td>\n",
              "      <td>left</td>\n",
              "      <td>0</td>\n",
              "    </tr>\n",
              "    <tr>\n",
              "      <th>3</th>\n",
              "      <td>c51ce410c124a10e0db5e4b97fc2af39</td>\n",
              "      <td>right</td>\n",
              "      <td>0</td>\n",
              "    </tr>\n",
              "    <tr>\n",
              "      <th>4</th>\n",
              "      <td>9bf31c7ff062936a96d3c8bd1f8f2ff3</td>\n",
              "      <td>left</td>\n",
              "      <td>1</td>\n",
              "    </tr>\n",
              "    <tr>\n",
              "      <th>...</th>\n",
              "      <td>...</td>\n",
              "      <td>...</td>\n",
              "      <td>...</td>\n",
              "    </tr>\n",
              "    <tr>\n",
              "      <th>24583</th>\n",
              "      <td>7dc5ece165388748790d8170245197ed</td>\n",
              "      <td>right</td>\n",
              "      <td>0</td>\n",
              "    </tr>\n",
              "    <tr>\n",
              "      <th>24584</th>\n",
              "      <td>e3c216d521607da146fa23d65cfcc6b6</td>\n",
              "      <td>left</td>\n",
              "      <td>0</td>\n",
              "    </tr>\n",
              "    <tr>\n",
              "      <th>24585</th>\n",
              "      <td>e3c216d521607da146fa23d65cfcc6b6</td>\n",
              "      <td>right</td>\n",
              "      <td>0</td>\n",
              "    </tr>\n",
              "    <tr>\n",
              "      <th>24586</th>\n",
              "      <td>54d9ee4df2caa006b994d148f23a9b10</td>\n",
              "      <td>left</td>\n",
              "      <td>0</td>\n",
              "    </tr>\n",
              "    <tr>\n",
              "      <th>24587</th>\n",
              "      <td>54d9ee4df2caa006b994d148f23a9b10</td>\n",
              "      <td>right</td>\n",
              "      <td>0</td>\n",
              "    </tr>\n",
              "  </tbody>\n",
              "</table>\n",
              "<p>24588 rows × 3 columns</p>\n",
              "</div>"
            ],
            "text/plain": [
              "                                     ID location  level\n",
              "0      d3d9446802a44259755d38e6d163e820     left      0\n",
              "1      d3d9446802a44259755d38e6d163e820    right      0\n",
              "2      c51ce410c124a10e0db5e4b97fc2af39     left      0\n",
              "3      c51ce410c124a10e0db5e4b97fc2af39    right      0\n",
              "4      9bf31c7ff062936a96d3c8bd1f8f2ff3     left      1\n",
              "...                                 ...      ...    ...\n",
              "24583  7dc5ece165388748790d8170245197ed    right      0\n",
              "24584  e3c216d521607da146fa23d65cfcc6b6     left      0\n",
              "24585  e3c216d521607da146fa23d65cfcc6b6    right      0\n",
              "24586  54d9ee4df2caa006b994d148f23a9b10     left      0\n",
              "24587  54d9ee4df2caa006b994d148f23a9b10    right      0\n",
              "\n",
              "[24588 rows x 3 columns]"
            ]
          },
          "execution_count": 11,
          "metadata": {},
          "output_type": "execute_result"
        },
        {
          "name": "stdout",
          "output_type": "stream",
          "text": [
            "time: 51.7 ms (started: 2023-06-30 10:06:03 -05:00)\n"
          ]
        }
      ],
      "source": [
        "df = pd.read_csv(\"source/train.csv\")\n",
        "df"
      ]
    },
    {
      "cell_type": "code",
      "execution_count": 12,
      "metadata": {
        "colab": {
          "base_uri": "https://localhost:8080/"
        },
        "id": "t0RuA0yyITq7",
        "outputId": "df041e05-f3eb-4761-f474-16feb78812bd"
      },
      "outputs": [
        {
          "data": {
            "text/plain": [
              "0    18057\n",
              "1     6531\n",
              "Name: level, dtype: int64"
            ]
          },
          "execution_count": 12,
          "metadata": {},
          "output_type": "execute_result"
        },
        {
          "name": "stdout",
          "output_type": "stream",
          "text": [
            "time: 3.95 ms (started: 2023-06-30 10:06:03 -05:00)\n"
          ]
        }
      ],
      "source": [
        "# count classes\n",
        "df[\"level\"].value_counts()"
      ]
    },
    {
      "cell_type": "code",
      "execution_count": 13,
      "metadata": {},
      "outputs": [
        {
          "data": {
            "text/plain": [
              "(19670, 4918)"
            ]
          },
          "execution_count": 13,
          "metadata": {},
          "output_type": "execute_result"
        },
        {
          "name": "stdout",
          "output_type": "stream",
          "text": [
            "time: 17.3 ms (started: 2023-06-30 10:06:03 -05:00)\n"
          ]
        }
      ],
      "source": [
        "df_train, df_test = train_test_split(df, test_size=0.2, random_state=42)\n",
        "len(df_train), len(df_test)"
      ]
    },
    {
      "cell_type": "code",
      "execution_count": 14,
      "metadata": {
        "colab": {
          "base_uri": "https://localhost:8080/"
        },
        "id": "I9nkO1ifIesW",
        "outputId": "ff8f38b5-8547-48a9-cb3e-402a56946b66"
      },
      "outputs": [
        {
          "name": "stdout",
          "output_type": "stream",
          "text": [
            "time: 1.04 ms (started: 2023-06-30 10:06:03 -05:00)\n"
          ]
        }
      ],
      "source": [
        "# move image into train and test folder\n",
        "# move_split(df_train, \"train\")\n",
        "# move_split(df_test, \"valid\")"
      ]
    },
    {
      "attachments": {},
      "cell_type": "markdown",
      "metadata": {
        "id": "cRArdThPIurA"
      },
      "source": [
        "### Parameters"
      ]
    },
    {
      "cell_type": "code",
      "execution_count": 15,
      "metadata": {
        "colab": {
          "base_uri": "https://localhost:8080/"
        },
        "id": "gC0FohLwIwcC",
        "outputId": "79e0375e-bd35-42c1-8b26-b9e30707ef17"
      },
      "outputs": [
        {
          "name": "stdout",
          "output_type": "stream",
          "text": [
            "time: 13.9 ms (started: 2023-06-30 10:06:03 -05:00)\n"
          ]
        }
      ],
      "source": [
        "# Top level data directory. Here we assume the format of the directory conforms\n",
        "# to the ImageFolder structure\n",
        "data_dir = \"dataset\"\n",
        "\n",
        "# Models to choose from [resnet50, resnet152, alexnet, vgg19, squeezenet1_0, densenet201]\n",
        "model_name = \"resnet50\"\n",
        "\n",
        "# Number of classes in the dataset\n",
        "num_classes = 2\n",
        "\n",
        "# Batch size for training (change depending on how much memory you have)\n",
        "batch_size = 8\n",
        "\n",
        "# Number of epochs to train for\n",
        "num_epochs = 20\n",
        "\n",
        "# Flag for feature extracting. When False, we finetune the whole model,\n",
        "# when True we only update the reshaped layer params\n",
        "# feature_extract = True\n",
        "\n",
        "input_size = 224"
      ]
    },
    {
      "attachments": {},
      "cell_type": "markdown",
      "metadata": {
        "id": "Sg-eScWwJgsN"
      },
      "source": [
        "### Initialize and Reshape the networks"
      ]
    },
    {
      "attachments": {},
      "cell_type": "markdown",
      "metadata": {
        "id": "4b0blWotqRIV"
      },
      "source": [
        "Set Model Parameters’ .requires_grad attribute\n",
        "~~~~~~~~~~~~~~~~~~~~~~~~~~~~~~~~~~~~~~~~~~~~~~\n",
        "\n",
        "This helper function sets the ``.requires_grad`` attribute of the\n",
        "parameters in the model to False when we are feature extracting. By\n",
        "default, when we load a pretrained model all of the parameters have\n",
        "``.requires_grad=True``, which is fine if we are training from scratch\n",
        "or finetuning. However, if we are feature extracting and only want to\n",
        "compute gradients for the newly initialized layer then we want all of\n",
        "the other parameters to not require gradients. This will make more sense\n",
        "later.\n",
        "\n",
        "\n"
      ]
    },
    {
      "attachments": {},
      "cell_type": "markdown",
      "metadata": {
        "id": "JWmsZnoOKJys"
      },
      "source": [
        "#### Details"
      ]
    },
    {
      "attachments": {},
      "cell_type": "markdown",
      "metadata": {
        "id": "qSQWr6_PqRIW"
      },
      "source": [
        "Now to the most interesting part. Here is where we handle the reshaping\n",
        "of each network. Note, this is not an automatic procedure and is unique\n",
        "to each model. Recall, the final layer of a CNN model, which is often\n",
        "times an FC layer, has the same number of nodes as the number of output\n",
        "classes in the dataset. Since all of the models have been pretrained on\n",
        "Imagenet, they all have output layers of size 1000, one node for each\n",
        "class. The goal here is to reshape the last layer to have the same\n",
        "number of inputs as before, AND to have the same number of outputs as\n",
        "the number of classes in the dataset. In the following sections we will\n",
        "discuss how to alter the architecture of each model individually. But\n",
        "first, there is one important detail regarding the difference between\n",
        "finetuning and feature-extraction.\n",
        "\n",
        "When feature extracting, we only want to update the parameters of the\n",
        "last layer, or in other words, we only want to update the parameters for\n",
        "the layer(s) we are reshaping. Therefore, we do not need to compute the\n",
        "gradients of the parameters that we are not changing, so for efficiency\n",
        "we set the .requires_grad attribute to False. This is important because\n",
        "by default, this attribute is set to True. Then, when we initialize the\n",
        "new layer and by default the new parameters have ``.requires_grad=True``\n",
        "so only the new layer’s parameters will be updated. When we are\n",
        "finetuning we can leave all of the .required_grad’s set to the default\n",
        "of True.\n",
        "\n",
        "Finally, notice that inception_v3 requires the input size to be\n",
        "(299,299), whereas all of the other models expect (224,224).\n",
        "\n",
        "Resnet\n",
        "~~~~~~\n",
        "\n",
        "Resnet was introduced in the paper `Deep Residual Learning for Image\n",
        "Recognition <https://arxiv.org/abs/1512.03385>`__. There are several\n",
        "variants of different sizes, including Resnet18, Resnet34, Resnet50,\n",
        "Resnet101, and Resnet152, all of which are available from torchvision\n",
        "models. Here we use Resnet18, as our dataset is small and only has two\n",
        "classes. When we print the model, we see that the last layer is a fully\n",
        "connected layer as shown below:\n",
        "\n",
        "::\n",
        "\n",
        "   (fc): Linear(in_features=512, out_features=1000, bias=True)\n",
        "\n",
        "Thus, we must reinitialize ``model.fc`` to be a Linear layer with 512\n",
        "input features and 2 output features with:\n",
        "\n",
        "::\n",
        "\n",
        "   model.fc = nn.Linear(512, num_classes)\n",
        "\n",
        "Alexnet\n",
        "~~~~~~~\n",
        "\n",
        "Alexnet was introduced in the paper `ImageNet Classification with Deep\n",
        "Convolutional Neural\n",
        "Networks <https://papers.nips.cc/paper/4824-imagenet-classification-with-deep-convolutional-neural-networks.pdf>`__\n",
        "and was the first very successful CNN on the ImageNet dataset. When we\n",
        "print the model architecture, we see the model output comes from the 6th\n",
        "layer of the classifier\n",
        "\n",
        "::\n",
        "\n",
        "   (classifier): Sequential(\n",
        "       ...\n",
        "       (6): Linear(in_features=4096, out_features=1000, bias=True)\n",
        "    )\n",
        "\n",
        "To use the model with our dataset we reinitialize this layer as\n",
        "\n",
        "::\n",
        "\n",
        "   model.classifier[6] = nn.Linear(4096,num_classes)\n",
        "\n",
        "VGG\n",
        "~~~\n",
        "\n",
        "VGG was introduced in the paper `Very Deep Convolutional Networks for\n",
        "Large-Scale Image Recognition <https://arxiv.org/pdf/1409.1556.pdf>`__.\n",
        "Torchvision offers eight versions of VGG with various lengths and some\n",
        "that have batch normalizations layers. Here we use VGG-11 with batch\n",
        "normalization. The output layer is similar to Alexnet, i.e.\n",
        "\n",
        "::\n",
        "\n",
        "   (classifier): Sequential(\n",
        "       ...\n",
        "       (6): Linear(in_features=4096, out_features=1000, bias=True)\n",
        "    )\n",
        "\n",
        "Therefore, we use the same technique to modify the output layer\n",
        "\n",
        "::\n",
        "\n",
        "   model.classifier[6] = nn.Linear(4096,num_classes)\n",
        "\n",
        "Squeezenet\n",
        "~~~~~~~~~~\n",
        "\n",
        "The Squeeznet architecture is described in the paper `SqueezeNet:\n",
        "AlexNet-level accuracy with 50x fewer parameters and <0.5MB model\n",
        "size <https://arxiv.org/abs/1602.07360>`__ and uses a different output\n",
        "structure than any of the other models shown here. Torchvision has two\n",
        "versions of Squeezenet, we use version 1.0. The output comes from a 1x1\n",
        "convolutional layer which is the 1st layer of the classifier:\n",
        "\n",
        "::\n",
        "\n",
        "   (classifier): Sequential(\n",
        "       (0): Dropout(p=0.5)\n",
        "       (1): Conv2d(512, 1000, kernel_size=(1, 1), stride=(1, 1))\n",
        "       (2): ReLU(inplace)\n",
        "       (3): AvgPool2d(kernel_size=13, stride=1, padding=0)\n",
        "    )\n",
        "\n",
        "To modify the network, we reinitialize the Conv2d layer to have an\n",
        "output feature map of depth 2 as\n",
        "\n",
        "::\n",
        "\n",
        "   model.classifier[1] = nn.Conv2d(512, num_classes, kernel_size=(1,1), stride=(1,1))\n",
        "\n",
        "Densenet\n",
        "~~~~~~~~\n",
        "\n",
        "Densenet was introduced in the paper `Densely Connected Convolutional\n",
        "Networks <https://arxiv.org/abs/1608.06993>`__. Torchvision has four\n",
        "variants of Densenet but here we only use Densenet-121. The output layer\n",
        "is a linear layer with 1024 input features:\n",
        "\n",
        "::\n",
        "\n",
        "   (classifier): Linear(in_features=1024, out_features=1000, bias=True)\n",
        "\n",
        "To reshape the network, we reinitialize the classifier’s linear layer as\n",
        "\n",
        "::\n",
        "\n",
        "   model.classifier = nn.Linear(1024, num_classes)\n",
        "\n",
        "Inception v3\n",
        "~~~~~~~~~~~~\n",
        "\n",
        "Finally, Inception v3 was first described in `Rethinking the Inception\n",
        "Architecture for Computer\n",
        "Vision <https://arxiv.org/pdf/1512.00567v1.pdf>`__. This network is\n",
        "unique because it has two output layers when training. The second output\n",
        "is known as an auxiliary output and is contained in the AuxLogits part\n",
        "of the network. The primary output is a linear layer at the end of the\n",
        "network. Note, when testing we only consider the primary output. The\n",
        "auxiliary output and primary output of the loaded model are printed as:\n",
        "\n",
        "::\n",
        "\n",
        "   (AuxLogits): InceptionAux(\n",
        "       ...\n",
        "       (fc): Linear(in_features=768, out_features=1000, bias=True)\n",
        "    )\n",
        "    ...\n",
        "   (fc): Linear(in_features=2048, out_features=1000, bias=True)\n",
        "\n",
        "To finetune this model we must reshape both layers. This is accomplished\n",
        "with the following\n",
        "\n",
        "::\n",
        "\n",
        "   model.AuxLogits.fc = nn.Linear(768, num_classes)\n",
        "   model.fc = nn.Linear(2048, num_classes)\n",
        "\n",
        "Notice, many of the models have similar output structures, but each must\n",
        "be handled slightly differently. Also, check out the printed model\n",
        "architecture of the reshaped network and make sure the number of output\n",
        "features is the same as the number of classes in the dataset.\n",
        "\n",
        "\n"
      ]
    },
    {
      "attachments": {},
      "cell_type": "markdown",
      "metadata": {
        "id": "ImsFin2V8yGz"
      },
      "source": [
        "### Load data\n",
        "\n",
        "We will use torchvision and torch.utils.data packages for loading the\n",
        "data.\n",
        "\n",
        "The problem we\"re going to solve today is to train a model to classify\n",
        "**ants** and **bees**\n"
      ]
    },
    {
      "attachments": {},
      "cell_type": "markdown",
      "metadata": {},
      "source": [
        "```\n",
        "├── transfer_learning.ipynb\n",
        "└── dataset ← data dir here\n",
        "    ├── train\n",
        "    │   ├── class_1\n",
        "    │   └── class_2\n",
        "    ├── test\n",
        "    │   ├── class_1\n",
        "    └── └── class_2\n",
        "```"
      ]
    },
    {
      "cell_type": "code",
      "execution_count": 16,
      "metadata": {},
      "outputs": [
        {
          "name": "stdout",
          "output_type": "stream",
          "text": [
            "Go_transfer_learning_template.ipynb  environment.yml\t test_neptune.py\n",
            "README.md\t\t\t     source\n",
            "dataset\t\t\t\t     test_neptune.ipynb\n",
            "time: 718 ms (started: 2023-06-30 10:06:03 -05:00)\n"
          ]
        }
      ],
      "source": [
        "!ls"
      ]
    },
    {
      "cell_type": "code",
      "execution_count": 17,
      "metadata": {
        "colab": {
          "base_uri": "https://localhost:8080/"
        },
        "id": "dRayjtg7O9oH",
        "outputId": "23c45d87-92cc-4b42-8609-568cb6e282c9"
      },
      "outputs": [
        {
          "name": "stdout",
          "output_type": "stream",
          "text": [
            "time: 722 µs (started: 2023-06-30 10:06:04 -05:00)\n"
          ]
        }
      ],
      "source": [
        "# Only for get input_size to resized image\n",
        "# model_ft, input_size = initialize_model(model_name, num_classes, feature_extract=False, use_pretrained=True)"
      ]
    },
    {
      "cell_type": "code",
      "execution_count": 18,
      "metadata": {},
      "outputs": [
        {
          "name": "stdout",
          "output_type": "stream",
          "text": [
            "train\n"
          ]
        },
        {
          "name": "stdout",
          "output_type": "stream",
          "text": [
            "Memory consumed: 0 mb\n",
            "Classes: ['class_0', 'class_1']\n",
            "Class count: 14522, 5148\n",
            "Samples: 19670\n",
            "First sample: ('dataset/train/class_0/000c076c390a4c357313fca29e390ece_left.jpg', 0)\n",
            "Class: class_0\n",
            "Image data type: <class 'PIL.Image.Image'>\n",
            "Image size: (800, 533)\n",
            "\n",
            "valid\n",
            "Memory consumed: 0 mb\n",
            "Classes: ['class_0', 'class_1']\n",
            "Class count: 3535, 1383\n",
            "Samples: 4918\n",
            "First sample: ('dataset/valid/class_0/000c076c390a4c357313fca29e390ece_right.jpg', 0)\n",
            "Class: class_0\n",
            "Image data type: <class 'PIL.Image.Image'>\n",
            "Image size: (800, 533)\n",
            "\n",
            "time: 521 ms (started: 2023-06-30 10:06:04 -05:00)\n"
          ]
        }
      ],
      "source": [
        "# images information\n",
        "image_datasets = {x: datasets.ImageFolder(os.path.join(data_dir, x)) for x in [\"train\", \"valid\"]}\n",
        "\n",
        "for x in [\"train\", \"valid\"]:\n",
        "    print(x)\n",
        "    mem = memory_profiler.memory_usage()[0]\n",
        "    train_dataset = image_datasets[x]\n",
        "    print(f\"Memory consumed: {memory_profiler.memory_usage()[0] - mem:.0f} mb\")\n",
        "\n",
        "    print(f\"Classes: {train_dataset.classes}\")\n",
        "    print(f\"Class count: {train_dataset.targets.count(0)}, {train_dataset.targets.count(1)}\")\n",
        "    print(f\"Samples:\",len(train_dataset))\n",
        "    print(f\"First sample: {train_dataset.samples[0]}\")\n",
        "\n",
        "    img, target = next(iter(train_dataset))\n",
        "    print(f\"Class: {train_dataset.classes[target]}\")\n",
        "    img\n",
        "\n",
        "    print(f\"Image data type: {type(img)}\")\n",
        "    print(f\"Image size: {img.size}\")\n",
        "    print()"
      ]
    },
    {
      "cell_type": "code",
      "execution_count": 19,
      "metadata": {
        "colab": {
          "base_uri": "https://localhost:8080/"
        },
        "id": "iXtMNQ1Y8yG0",
        "outputId": "00707a12-6c39-4c52-f10a-0fe3e5b2f7fc"
      },
      "outputs": [
        {
          "name": "stdout",
          "output_type": "stream",
          "text": [
            "time: 73.4 ms (started: 2023-06-30 10:06:04 -05:00)\n"
          ]
        }
      ],
      "source": [
        "# Data augmentation and normalization for training\n",
        "# Just normalization for valididation\n",
        "\n",
        "data_transforms0 = {\n",
        "    \"train\": transforms.Compose([\n",
        "        transforms.RandomResizedCrop(input_size),\n",
        "        transforms.RandomHorizontalFlip(),\n",
        "        transforms.ToTensor(),\n",
        "        transforms.Normalize([0.485, 0.456, 0.406], [0.229, 0.224, 0.225])\n",
        "    ]),\n",
        "    \"valid\": transforms.Compose([\n",
        "        transforms.Resize(input_size),\n",
        "        transforms.CenterCrop(input_size),\n",
        "        transforms.ToTensor(),\n",
        "        transforms.Normalize([0.485, 0.456, 0.406], [0.229, 0.224, 0.225])\n",
        "    ]),\n",
        "}\n",
        "\n",
        "data_transforms1 = transforms.Compose([\n",
        "    transforms.RandomResizedCrop(input_size),\n",
        "    transforms.RandomHorizontalFlip(),\n",
        "    transforms.ToTensor(),\n",
        "    transforms.Normalize([0.485, 0.456, 0.406], [0.229, 0.224, 0.225])\n",
        "])\n",
        "\n",
        "data_transforms2 = transforms.Compose([\n",
        "    torchvision.transforms.Resize((224, 224)),\n",
        "    transforms.ToTensor()\n",
        "])\n",
        "\n",
        "data_transforms3 = transforms.Compose([\n",
        "    transforms.RandomVerticalFlip(p=0.5),\n",
        "    transforms.RandomRotation(degrees=20),\n",
        "    transforms.Resize(input_size),\n",
        "    transforms.ToTensor()\n",
        "])\n",
        "\n",
        "data_transforms4 = torchvision.transforms.Compose([\n",
        "    torchvision.transforms.Resize((224, 224)),\n",
        "    torchvision.transforms.ToTensor(),\n",
        "    transforms.Normalize([0.485, 0.456, 0.406], [0.229, 0.224, 0.225])\n",
        "])\n",
        "\n",
        "image_datasets = {x: datasets.ImageFolder(os.path.join(data_dir, x),\n",
        "                                          data_transforms0[x])\n",
        "                  for x in [\"train\", \"valid\"]}\n",
        "\n",
        "dataloaders = {x: torch.utils.data.DataLoader(image_datasets[x], batch_size=batch_size,\n",
        "                                              shuffle=True, drop_last=False, num_workers=4)\n",
        "              for x in [\"train\", \"valid\"]}\n",
        "              \n",
        "dataset_sizes = {x: len(image_datasets[x]) for x in [\"train\", \"valid\"]}\n",
        "class_names = image_datasets[\"train\"].classes"
      ]
    },
    {
      "attachments": {},
      "cell_type": "markdown",
      "metadata": {
        "id": "MbzVjjHI8yG0"
      },
      "source": [
        "### Visualize a few images\n",
        "\n",
        "Let\"s visualize a few training images so as to understand the data\n",
        "augmentations."
      ]
    },
    {
      "cell_type": "code",
      "execution_count": 20,
      "metadata": {
        "colab": {
          "base_uri": "https://localhost:8080/",
          "height": 162
        },
        "id": "ZMQZKsjj8yG0",
        "outputId": "fae6cf54-9e1c-44ab-eae8-ca593357e728"
      },
      "outputs": [
        {
          "data": {
            "image/png": "[encoded data removed]",
            "text/plain": [
              "<Figure size 640x480 with 1 Axes>"
            ]
          },
          "metadata": {},
          "output_type": "display_data"
        },
        {
          "name": "stdout",
          "output_type": "stream",
          "text": [
            "time: 502 ms (started: 2023-06-30 10:06:04 -05:00)\n"
          ]
        }
      ],
      "source": [
        "# Get a batch of training data\n",
        "inputs, classes = next(iter(dataloaders[\"train\"]))\n",
        "\n",
        "# Make a grid from batch\n",
        "out = torchvision.utils.make_grid(inputs)\n",
        "\n",
        "imshow(out, title=[class_names[x] for x in classes])"
      ]
    },
    {
      "cell_type": "code",
      "execution_count": 21,
      "metadata": {},
      "outputs": [
        {
          "name": "stdout",
          "output_type": "stream",
          "text": [
            "Image data type: <class 'torch.Tensor'>\n",
            "Image size: torch.Size([8, 3, 224, 224])\n",
            "time: 1.48 ms (started: 2023-06-30 10:06:08 -05:00)\n"
          ]
        }
      ],
      "source": [
        "print(f\"Image data type: {type(inputs)}\")\n",
        "print(f\"Image size: {inputs.shape}\")"
      ]
    },
    {
      "attachments": {},
      "cell_type": "markdown",
      "metadata": {},
      "source": [
        "#### Transfer Learning Summary\n",
        "\n",
        "- Use a pre-trained model out-of-the-box (good if a model already exists for your problem).\n",
        "\n",
        "- Use a pre-trained model as a “feature extractor” (good if you want to adapt a pre-trained model for a specific problem).\n",
        "\n",
        "- Fine-tune a pre-trained model (same as 2 but generally yields better results, although at more computational cost)."
      ]
    },
    {
      "attachments": {},
      "cell_type": "markdown",
      "metadata": {
        "id": "c6X9scrh8yG1"
      },
      "source": [
        "### Training the model\n",
        "\n",
        "Now, let\"s write a general function to train a model. Here, we will\n",
        "illustrate:\n",
        "\n",
        "-  Scheduling the learning rate\n",
        "-  Saving the best model\n",
        "\n",
        "In the following, parameter ``scheduler`` is an LR scheduler object from\n",
        "``torch.optim.lr_scheduler``."
      ]
    },
    {
      "attachments": {},
      "cell_type": "markdown",
      "metadata": {
        "id": "RGBOESpR8yG1"
      },
      "source": [
        "### Visualizing the model predictions\n",
        "\n",
        "Generic function to display predictions for a few images\n",
        "\n",
        "\n"
      ]
    },
    {
      "attachments": {},
      "cell_type": "markdown",
      "metadata": {
        "id": "2lUBQUri0gWR"
      },
      "source": [
        "Generic function to display accuracy, and loss for train, and valididation data"
      ]
    },
    {
      "attachments": {},
      "cell_type": "markdown",
      "metadata": {
        "id": "RrNqkFvy8yG2"
      },
      "source": [
        "## Fine Tuning\n",
        "\n",
        "Load a pretrained model and reset final fully connected layer."
      ]
    },
    {
      "cell_type": "code",
      "execution_count": null,
      "metadata": {},
      "outputs": [],
      "source": [
        "run = neptune.init_run(\n",
        "    project=\"edwin.alvarez/Kaggle-GC\",\n",
        "    api_token=\"eyJhcGlfYWRkcmVzcyI6Imh0dHBzOi8vYXBwLm5lcHR1bmUuYWkiLCJhcGlfdXJsIjoiaHR0cHM6Ly9hcHAubmVwdHVuZS5haSIsImFwaV9rZXkiOiIwZjM0NzgxNy1lMDI1LTQxMzgtYTE2NS03OTIwOWY5NzgwNTkifQ==\",\n",
        ")  # your credentials\n",
        "\n",
        "parameters = {\n",
        "    \"model_name\": model_name,\n",
        "    \"num_classes\": num_classes,\n",
        "    \"batch_size\": batch_size,\n",
        "    \"num_epochs\": num_epochs\n",
        "}\n",
        "run[\"parameters\"] = parameters\n",
        "run[\"option/name\"] = \"fine tuning\""
      ]
    },
    {
      "cell_type": "code",
      "execution_count": 30,
      "metadata": {
        "colab": {
          "base_uri": "https://localhost:8080/"
        },
        "id": "z9tMQe-W8yG2",
        "outputId": "eb9fb15b-2305-404e-e879-1124d423377a"
      },
      "outputs": [
        {
          "name": "stdout",
          "output_type": "stream",
          "text": [
            "time: 361 ms (started: 2023-06-29 18:41:59 -05:00)\n"
          ]
        }
      ],
      "source": [
        "device = torch.device(\"cuda:0\" if torch.cuda.is_available() else \"cpu\")\n",
        "device\n",
        "\n",
        "model_ft, input_size = initialize_model(model_name, num_classes, feature_extract=False, use_pretrained=True)\n",
        "model_ft = model_ft.to(device)\n",
        "\n",
        "criterion = nn.CrossEntropyLoss() # nn.BCELoss() # nn.CrossEntropyLoss()\n",
        "\n",
        "# Observe that all parameters are being optimized\n",
        "# optimizer_ft = optim.SGD(model_ft.parameters(), lr=0.001, momentum=0.9)\n",
        "optimizer_ft = optim.Adam(model_ft.parameters(), lr=0.001)\n",
        "\n",
        "# Decay LR by a factor of 0.1 every 7 epochs\n",
        "exp_lr_scheduler = lr_scheduler.StepLR(optimizer_ft, step_size=7, gamma=0.1)\n",
        "\n",
        "run[\"optim/name\"] = \"Adam\"\n",
        "run[\"optim/lr\"] = 0.001"
      ]
    },
    {
      "attachments": {},
      "cell_type": "markdown",
      "metadata": {
        "id": "fCu9jGK58yG2"
      },
      "source": [
        "### Train and evaluation\n",
        "\n",
        "It should take around 15-25 min on CPU. On GPU though, it takes less than a\n",
        "minute.\n"
      ]
    },
    {
      "cell_type": "code",
      "execution_count": 31,
      "metadata": {
        "colab": {
          "base_uri": "https://localhost:8080/"
        },
        "id": "WtMlHnKO8yG2",
        "outputId": "f4533e13-b110-43cd-c95f-5cdce85bace4"
      },
      "outputs": [
        {
          "name": "stdout",
          "output_type": "stream",
          "text": [
            "Epoch 1/25\n",
            "----------\n",
            "train Loss: 0.5635 Acc: 0.7415\n",
            "val Loss: 0.5547 Acc: 0.7275\n",
            "\n",
            "Epoch 2/25\n",
            "----------\n",
            "train Loss: 0.5429 Acc: 0.7528\n",
            "val Loss: 0.5273 Acc: 0.7562\n",
            "\n",
            "Epoch 3/25\n",
            "----------\n",
            "train Loss: 0.5329 Acc: 0.7592\n",
            "val Loss: 0.5265 Acc: 0.7625\n",
            "\n",
            "Epoch 4/25\n",
            "----------\n",
            "train Loss: 0.5284 Acc: 0.7615\n",
            "val Loss: 0.5336 Acc: 0.7562\n",
            "\n",
            "Epoch 5/25\n",
            "----------\n",
            "train Loss: 0.5258 Acc: 0.7600\n",
            "val Loss: 0.5118 Acc: 0.7662\n",
            "\n",
            "Epoch 6/25\n",
            "----------\n",
            "train Loss: 0.5235 Acc: 0.7652\n",
            "val Loss: 0.5191 Acc: 0.7623\n",
            "\n",
            "Epoch 7/25\n",
            "----------\n",
            "train Loss: 0.5236 Acc: 0.7636\n",
            "val Loss: 0.5339 Acc: 0.7534\n",
            "\n",
            "Epoch 8/25\n",
            "----------\n",
            "train Loss: 0.5141 Acc: 0.7682\n",
            "val Loss: 0.5242 Acc: 0.7595\n",
            "\n",
            "Epoch 9/25\n",
            "----------\n",
            "train Loss: 0.5132 Acc: 0.7692\n",
            "val Loss: 0.5311 Acc: 0.7576\n",
            "\n",
            "Epoch 10/25\n",
            "----------\n",
            "train Loss: 0.5105 Acc: 0.7702\n",
            "val Loss: 0.5150 Acc: 0.7641\n",
            "\n",
            "Epoch 11/25\n",
            "----------\n",
            "train Loss: 0.5138 Acc: 0.7696\n",
            "val Loss: 0.5308 Acc: 0.7580\n",
            "\n",
            "Epoch 12/25\n",
            "----------\n",
            "train Loss: 0.5107 Acc: 0.7725\n",
            "val Loss: 0.5343 Acc: 0.7548\n",
            "\n",
            "Epoch 13/25\n",
            "----------\n",
            "train Loss: 0.5142 Acc: 0.7682\n",
            "val Loss: 0.5145 Acc: 0.7676\n",
            "\n",
            "Epoch 14/25\n",
            "----------\n",
            "train Loss: 0.5112 Acc: 0.7680\n",
            "val Loss: 0.5231 Acc: 0.7623\n",
            "\n",
            "Epoch 15/25\n",
            "----------\n",
            "train Loss: 0.5118 Acc: 0.7701\n",
            "val Loss: 0.5246 Acc: 0.7601\n",
            "\n",
            "Epoch 16/25\n",
            "----------\n",
            "train Loss: 0.5119 Acc: 0.7696\n",
            "val Loss: 0.5236 Acc: 0.7617\n",
            "\n",
            "Epoch 17/25\n",
            "----------\n",
            "train Loss: 0.5169 Acc: 0.7673\n",
            "val Loss: 0.5171 Acc: 0.7633\n",
            "\n",
            "Epoch 18/25\n",
            "----------\n",
            "train Loss: 0.5111 Acc: 0.7698\n",
            "val Loss: 0.5200 Acc: 0.7633\n",
            "\n",
            "Epoch 19/25\n",
            "----------\n",
            "train Loss: 0.5124 Acc: 0.7678\n",
            "val Loss: 0.5189 Acc: 0.7633\n",
            "\n",
            "Epoch 20/25\n",
            "----------\n",
            "train Loss: 0.5101 Acc: 0.7684\n",
            "val Loss: 0.5191 Acc: 0.7623\n",
            "\n",
            "Epoch 21/25\n",
            "----------\n",
            "train Loss: 0.5095 Acc: 0.7710\n",
            "val Loss: 0.5184 Acc: 0.7647\n",
            "\n",
            "Epoch 22/25\n",
            "----------\n",
            "train Loss: 0.5121 Acc: 0.7687\n",
            "val Loss: 0.5354 Acc: 0.7554\n",
            "\n",
            "Epoch 23/25\n",
            "----------\n",
            "train Loss: 0.5114 Acc: 0.7671\n",
            "val Loss: 0.5235 Acc: 0.7623\n",
            "\n",
            "Epoch 24/25\n",
            "----------\n",
            "train Loss: 0.5114 Acc: 0.7705\n",
            "val Loss: 0.5212 Acc: 0.7627\n",
            "\n",
            "Epoch 25/25\n",
            "----------\n",
            "train Loss: 0.5096 Acc: 0.7705\n",
            "val Loss: 0.5182 Acc: 0.7660\n",
            "\n",
            "Training complete in 33m 36s\n",
            "Best val Acc: 0.767588\n",
            "Shutting down background jobs, please wait a moment...\n",
            "Done!\n",
            "Waiting for the remaining 3 operations to synchronize with Neptune. Do not kill this process.\n",
            "All 3 operations synced, thanks for waiting!\n",
            "Explore the metadata in the Neptune app:\n",
            "https://app.neptune.ai/edwin.alvarez/Kaggle-GC/e/KAG-11/metadata\n",
            "time: 33min 37s (started: 2023-06-29 18:42:01 -05:00)\n"
          ]
        }
      ],
      "source": [
        "model_ft, train_losses, valid_losses, train_accuracies, valid_accuracies = train_model(model_ft, criterion, optimizer_ft,\n",
        "                                                                                        exp_lr_scheduler, num_epochs=num_epochs)"
      ]
    },
    {
      "cell_type": "code",
      "execution_count": null,
      "metadata": {
        "colab": {
          "base_uri": "https://localhost:8080/"
        },
        "id": "QYMIL5usxMyd",
        "outputId": "3bd92eac-c730-4748-ccc8-e25432cb5725"
      },
      "outputs": [],
      "source": [
        "# show_results(train_losses, valid_losses, train_accuracies, valid_accuracies)"
      ]
    },
    {
      "cell_type": "code",
      "execution_count": 19,
      "metadata": {
        "colab": {
          "base_uri": "https://localhost:8080/",
          "height": 1000
        },
        "id": "xEFOktLp8yG2",
        "outputId": "8e1b7eb4-d59b-4222-a6b0-abc96ecc8a29"
      },
      "outputs": [
        {
          "data": {
            "image/png": "[encoded data removed]",
            "text/plain": [
              "<Figure size 640x480 with 1 Axes>"
            ]
          },
          "metadata": {},
          "output_type": "display_data"
        },
        {
          "data": {
            "image/png": "[encoded data removed]",
            "text/plain": [
              "<Figure size 640x480 with 1 Axes>"
            ]
          },
          "metadata": {},
          "output_type": "display_data"
        },
        {
          "data": {
            "image/png": "[encoded data removed]",
            "text/plain": [
              "<Figure size 640x480 with 1 Axes>"
            ]
          },
          "metadata": {},
          "output_type": "display_data"
        },
        {
          "data": {
            "image/png": "[encoded data removed]",
            "text/plain": [
              "<Figure size 640x480 with 1 Axes>"
            ]
          },
          "metadata": {},
          "output_type": "display_data"
        },
        {
          "data": {
            "image/png": "[encoded data removed]",
            "text/plain": [
              "<Figure size 640x480 with 1 Axes>"
            ]
          },
          "metadata": {},
          "output_type": "display_data"
        },
        {
          "data": {
            "image/png": "[encoded data removed]",
            "text/plain": [
              "<Figure size 640x480 with 1 Axes>"
            ]
          },
          "metadata": {},
          "output_type": "display_data"
        },
        {
          "name": "stdout",
          "output_type": "stream",
          "text": [
            "time: 961 ms (started: 2023-06-29 16:59:13 -05:00)\n"
          ]
        }
      ],
      "source": [
        "visualize_model(model_ft, num_images=2)"
      ]
    },
    {
      "attachments": {},
      "cell_type": "markdown",
      "metadata": {
        "id": "PG4HUYFv8yG3"
      },
      "source": [
        "## Feature extractor\n",
        "\n",
        "Here, we need to freeze all the network except the final layer. We need\n",
        "to set ``requires_grad = False`` to freeze the parameters so that the\n",
        "gradients are not computed in ``backward()``.\n",
        "\n",
        "You can read more about this in the documentation\n",
        "[here](https://pytorch.org/docs/notes/autograd.html#excluding-subgraphs-from-backward)_.\n",
        "\n",
        "\n"
      ]
    },
    {
      "cell_type": "code",
      "execution_count": null,
      "metadata": {},
      "outputs": [],
      "source": [
        "run = neptune.init_run(\n",
        "    project=\"edwin.alvarez/Kaggle-GC\",\n",
        "    api_token=\"eyJhcGlfYWRkcmVzcyI6Imh0dHBzOi8vYXBwLm5lcHR1bmUuYWkiLCJhcGlfdXJsIjoiaHR0cHM6Ly9hcHAubmVwdHVuZS5haSIsImFwaV9rZXkiOiIwZjM0NzgxNy1lMDI1LTQxMzgtYTE2NS03OTIwOWY5NzgwNTkifQ==\",\n",
        ")  # your credentials\n",
        "\n",
        "run[\"parameters\"] = parameters\n",
        "run[\"option/name\"] = \"feature extractor\""
      ]
    },
    {
      "cell_type": "code",
      "execution_count": 33,
      "metadata": {
        "colab": {
          "base_uri": "https://localhost:8080/"
        },
        "id": "z0_7lAM08yG3",
        "outputId": "d236d456-c39d-47ec-b8bc-891f09514c90"
      },
      "outputs": [
        {
          "name": "stdout",
          "output_type": "stream",
          "text": [
            "time: 550 ms (started: 2023-06-29 19:29:59 -05:00)\n"
          ]
        }
      ],
      "source": [
        "# model_conv = torchvision.models.resnet18(pretrained=True)\n",
        "model_conv, input_size = initialize_model(model_name, num_classes, feature_extract=True, use_pretrained=True)\n",
        "model_conv = model_conv.to(device)\n",
        "\n",
        "criterion = nn.CrossEntropyLoss()\n",
        "\n",
        "# Observe that only parameters of final layer are being optimized as\n",
        "# opposed to before.\n",
        "# optimizer_conv = optim.SGD(model_conv.fc.parameters(), lr=0.001, momentum=0.9)\n",
        "optimizer_conv = optim.Adam(model_conv.parameters(), lr=0.001)\n",
        "\n",
        "# Decay LR by a factor of 0.1 every 7 epochs\n",
        "exp_lr_scheduler = lr_scheduler.StepLR(optimizer_conv, step_size=7, gamma=0.1)\n",
        "\n",
        "run[\"optim/name\"] = \"Adam\"\n",
        "run[\"optim/lr\"] = 0.001"
      ]
    },
    {
      "attachments": {},
      "cell_type": "markdown",
      "metadata": {
        "id": "rkgoL6xK8yG3"
      },
      "source": [
        "### Train and evaluation\n",
        "\n",
        "On CPU this will take about half the time compared to previous scenario.\n",
        "This is expected as gradients don\"t need to be computed for most of the\n",
        "network. However, forward does need to be computed.\n"
      ]
    },
    {
      "cell_type": "code",
      "execution_count": 34,
      "metadata": {
        "colab": {
          "base_uri": "https://localhost:8080/"
        },
        "id": "ZoAa5SWj8yG3",
        "outputId": "48845c45-5219-46d9-c0e7-08b80e3543ca"
      },
      "outputs": [
        {
          "name": "stdout",
          "output_type": "stream",
          "text": [
            "Epoch 1/25\n",
            "----------\n",
            "train Loss: 0.5912 Acc: 0.7356\n",
            "val Loss: 0.5993 Acc: 0.7188\n",
            "\n",
            "Epoch 2/25\n",
            "----------\n",
            "train Loss: 0.5763 Acc: 0.7383\n",
            "val Loss: 0.5953 Acc: 0.7188\n",
            "\n",
            "Epoch 3/25\n",
            "----------\n",
            "train Loss: 0.5756 Acc: 0.7383\n",
            "val Loss: 0.5962 Acc: 0.7188\n",
            "\n",
            "Epoch 4/25\n",
            "----------\n",
            "train Loss: 0.5757 Acc: 0.7383\n",
            "val Loss: 0.5965 Acc: 0.7188\n",
            "\n",
            "Epoch 5/25\n",
            "----------\n",
            "train Loss: 0.5755 Acc: 0.7383\n",
            "val Loss: 0.5948 Acc: 0.7188\n",
            "\n",
            "Epoch 6/25\n",
            "----------\n",
            "train Loss: 0.5753 Acc: 0.7383\n",
            "val Loss: 0.5953 Acc: 0.7188\n",
            "\n",
            "Epoch 7/25\n",
            "----------\n",
            "train Loss: 0.5751 Acc: 0.7383\n",
            "val Loss: 0.5947 Acc: 0.7188\n",
            "\n",
            "Epoch 8/25\n",
            "----------\n",
            "train Loss: 0.5748 Acc: 0.7383\n",
            "val Loss: 0.5949 Acc: 0.7188\n",
            "\n",
            "Epoch 9/25\n",
            "----------\n",
            "train Loss: 0.5749 Acc: 0.7383\n",
            "val Loss: 0.5949 Acc: 0.7188\n",
            "\n",
            "Epoch 10/25\n",
            "----------\n",
            "train Loss: 0.5750 Acc: 0.7383\n",
            "val Loss: 0.5950 Acc: 0.7188\n",
            "\n",
            "Epoch 11/25\n",
            "----------\n",
            "train Loss: 0.5749 Acc: 0.7383\n",
            "val Loss: 0.5950 Acc: 0.7188\n",
            "\n",
            "Epoch 12/25\n",
            "----------\n",
            "train Loss: 0.5750 Acc: 0.7383\n",
            "val Loss: 0.5950 Acc: 0.7188\n",
            "\n",
            "Epoch 13/25\n",
            "----------\n",
            "train Loss: 0.5750 Acc: 0.7383\n",
            "val Loss: 0.5950 Acc: 0.7188\n",
            "\n",
            "Epoch 14/25\n",
            "----------\n",
            "train Loss: 0.5749 Acc: 0.7383\n",
            "val Loss: 0.5950 Acc: 0.7188\n",
            "\n",
            "Epoch 15/25\n",
            "----------\n",
            "train Loss: 0.5749 Acc: 0.7383\n",
            "val Loss: 0.5950 Acc: 0.7188\n",
            "\n",
            "Epoch 16/25\n",
            "----------\n",
            "train Loss: 0.5748 Acc: 0.7383\n",
            "val Loss: 0.5950 Acc: 0.7188\n",
            "\n",
            "Epoch 17/25\n",
            "----------\n",
            "train Loss: 0.5749 Acc: 0.7383\n",
            "val Loss: 0.5950 Acc: 0.7188\n",
            "\n",
            "Epoch 18/25\n",
            "----------\n",
            "train Loss: 0.5749 Acc: 0.7383\n",
            "val Loss: 0.5950 Acc: 0.7188\n",
            "\n",
            "Epoch 19/25\n",
            "----------\n",
            "train Loss: 0.5748 Acc: 0.7383\n",
            "val Loss: 0.5950 Acc: 0.7188\n",
            "\n",
            "Epoch 20/25\n",
            "----------\n",
            "train Loss: 0.5749 Acc: 0.7383\n",
            "val Loss: 0.5950 Acc: 0.7188\n",
            "\n",
            "Epoch 21/25\n",
            "----------\n",
            "train Loss: 0.5749 Acc: 0.7383\n",
            "val Loss: 0.5950 Acc: 0.7188\n",
            "\n",
            "Epoch 22/25\n",
            "----------\n",
            "train Loss: 0.5748 Acc: 0.7383\n",
            "val Loss: 0.5950 Acc: 0.7188\n",
            "\n",
            "Epoch 23/25\n",
            "----------\n",
            "train Loss: 0.5748 Acc: 0.7383\n",
            "val Loss: 0.5950 Acc: 0.7188\n",
            "\n",
            "Epoch 24/25\n",
            "----------\n",
            "train Loss: 0.5750 Acc: 0.7383\n",
            "val Loss: 0.5950 Acc: 0.7188\n",
            "\n",
            "Epoch 25/25\n",
            "----------\n",
            "train Loss: 0.5750 Acc: 0.7383\n",
            "val Loss: 0.5950 Acc: 0.7188\n",
            "\n",
            "Training complete in 89m 56s\n",
            "Best val Acc: 0.718788\n",
            "Shutting down background jobs, please wait a moment...\n",
            "Done!\n",
            "Waiting for the remaining 3 operations to synchronize with Neptune. Do not kill this process.\n",
            "All 3 operations synced, thanks for waiting!\n",
            "Explore the metadata in the Neptune app:\n",
            "https://app.neptune.ai/edwin.alvarez/Kaggle-GC/e/KAG-12/metadata\n",
            "time: 1h 29min 56s (started: 2023-06-29 19:30:06 -05:00)\n"
          ]
        }
      ],
      "source": [
        "model_conv, train_losses_, valid_losses_, train_accuracies_, valid_accuracies_ = train_model(model_conv, criterion, optimizer_conv,\n",
        "                                                                                         exp_lr_scheduler, num_epochs=num_epochs)"
      ]
    },
    {
      "cell_type": "code",
      "execution_count": null,
      "metadata": {
        "colab": {
          "base_uri": "https://localhost:8080/"
        },
        "id": "xpLv6-Ub4acj",
        "outputId": "408aec7d-2c9d-4ec0-c6f2-bc1e8d45a132"
      },
      "outputs": [],
      "source": [
        "# show_results(train_losses_, valid_losses_, train_accuracies_, valid_accuracies_)"
      ]
    },
    {
      "cell_type": "code",
      "execution_count": null,
      "metadata": {
        "colab": {
          "base_uri": "https://localhost:8080/",
          "height": 1000
        },
        "id": "wRxtQn4a8yG3",
        "outputId": "72dd5859-7e41-4fb0-8fff-0968a7a55cc5"
      },
      "outputs": [],
      "source": [
        "visualize_model(model_conv, num_images=2)\n",
        "\n",
        "plt.ioff()\n",
        "plt.show()"
      ]
    },
    {
      "attachments": {},
      "cell_type": "markdown",
      "metadata": {},
      "source": [
        "## Experiments"
      ]
    },
    {
      "cell_type": "code",
      "execution_count": 22,
      "metadata": {},
      "outputs": [
        {
          "name": "stderr",
          "output_type": "stream",
          "text": [
            "/tmp/ipykernel_118211/561111087.py:25: NeptuneWarning: To avoid unintended consumption of logging hours during interactive sessions, the following monitoring options are disabled unless set to 'True' when initializing the run: 'capture_stdout', 'capture_stderr', and 'capture_hardware_metrics'.\n",
            "  run = neptune.init_run(\n"
          ]
        },
        {
          "name": "stdout",
          "output_type": "stream",
          "text": [
            "https://app.neptune.ai/edwin.alvarez/Kaggle-GC/e/KGC-9\n"
          ]
        },
        {
          "name": "stderr",
          "output_type": "stream",
          "text": [
            "/home/ealvarez/miniconda3/envs/kaggle_3.10/lib/python3.10/site-packages/torchvision/models/_utils.py:208: UserWarning: The parameter 'pretrained' is deprecated since 0.13 and may be removed in the future, please use 'weights' instead.\n",
            "  warnings.warn(\n",
            "/home/ealvarez/miniconda3/envs/kaggle_3.10/lib/python3.10/site-packages/torchvision/models/_utils.py:223: UserWarning: Arguments other than a weight enum or `None` for 'weights' are deprecated since 0.13 and may be removed in the future. The current behavior is equivalent to passing `weights=SqueezeNet1_0_Weights.IMAGENET1K_V1`. You can also use `weights=SqueezeNet1_0_Weights.DEFAULT` to get the most up-to-date weights.\n",
            "  warnings.warn(msg)\n"
          ]
        },
        {
          "name": "stdout",
          "output_type": "stream",
          "text": [
            "Epoch 1/20\n",
            "----------\n",
            "train Loss: 0.5852 Acc: 0.7378\n",
            "valid Loss: 0.5981 Acc: 0.7188\n",
            "\n",
            "Epoch 2/20\n",
            "----------\n",
            "train Loss: 0.5784 Acc: 0.7383\n",
            "valid Loss: 0.5912 Acc: 0.7188\n",
            "\n",
            "Epoch 3/20\n",
            "----------\n",
            "train Loss: 0.5760 Acc: 0.7383\n",
            "valid Loss: 0.5920 Acc: 0.7188\n",
            "\n",
            "Epoch 4/20\n",
            "----------\n",
            "train Loss: 0.5756 Acc: 0.7383\n",
            "valid Loss: 0.5959 Acc: 0.7188\n",
            "\n",
            "Epoch 5/20\n",
            "----------\n",
            "train Loss: 0.5752 Acc: 0.7383\n",
            "valid Loss: 0.5956 Acc: 0.7188\n",
            "\n",
            "Epoch 6/20\n",
            "----------\n",
            "train Loss: 0.5756 Acc: 0.7383\n",
            "valid Loss: 0.5964 Acc: 0.7188\n",
            "\n",
            "Epoch 7/20\n",
            "----------\n"
          ]
        }
      ],
      "source": [
        "# Top level data directory. Here we assume the format of the directory conforms\n",
        "# to the ImageFolder structure\n",
        "data_dir = \"dataset\"\n",
        "\n",
        "# Models to choose from [resnet50, resnet152, alexnet, vgg19, squeezenet1_0, densenet201]\n",
        "models_name = [\"squeezenet1_0\", \"densenet201\"] # [\"resnet50\", \"resnet152\", \"alexnet\", \"vgg19\", \"squeezenet1_0\", \"densenet201\"]\n",
        "\n",
        "# Number of classes in the dataset\n",
        "num_classes = 2\n",
        "\n",
        "# Batch size for training (change depending on how much memory you have)\n",
        "batch_size = 8\n",
        "\n",
        "# Number of epochs to train for\n",
        "num_epochs = 20\n",
        "\n",
        "# Flag for feature extracting. When False, we finetune the whole model,\n",
        "# when True we only update the reshaped layer params\n",
        "# feature_extract = True\n",
        "\n",
        "input_size = 224\n",
        "for option in [(\"fine tuning\", False), (\"feature extractor\", True)][:1]:\n",
        "    for model_name in models_name:\n",
        "        #---\n",
        "        run = neptune.init_run(\n",
        "            project=\"edwin.alvarez/Kaggle-GC\",\n",
        "            api_token=\"eyJhcGlfYWRkcmVzcyI6Imh0dHBzOi8vYXBwLm5lcHR1bmUuYWkiLCJhcGlfdXJsIjoiaHR0cHM6Ly9hcHAubmVwdHVuZS5haSIsImFwaV9rZXkiOiIwZjM0NzgxNy1lMDI1LTQxMzgtYTE2NS03OTIwOWY5NzgwNTkifQ==\",\n",
        "        )  # your credentials\n",
        "\n",
        "        run[\"sys/tags\"].add(option[0])\n",
        "\n",
        "        parameters = {\n",
        "            \"model_name\": model_name,\n",
        "            \"num_classes\": num_classes,\n",
        "            \"batch_size\": batch_size,\n",
        "            \"num_epochs\": num_epochs\n",
        "        }\n",
        "        run[\"parameters\"] = parameters\n",
        "        run[\"option/name\"] = option[0]\n",
        "\n",
        "        #---\n",
        "        device = torch.device(\"cuda:0\" if torch.cuda.is_available() else \"cpu\")\n",
        "        device\n",
        "\n",
        "        model, input_size = initialize_model(model_name, num_classes, feature_extract=option[1], use_pretrained=True)\n",
        "        model = model.to(device)\n",
        "\n",
        "        criterion = nn.CrossEntropyLoss() # nn.BCELoss() # nn.CrossEntropyLoss()\n",
        "\n",
        "        # Observe that all parameters are being optimized\n",
        "        # optimizer_ft = optim.SGD(model_ft.parameters(), lr=0.001, momentum=0.9)\n",
        "        optimizer = optim.Adam(model.parameters(), lr=0.001)\n",
        "\n",
        "        # Decay LR by a factor of 0.1 every 7 epochs\n",
        "        exp_lr_scheduler = lr_scheduler.StepLR(optimizer, step_size=7, gamma=0.1)\n",
        "\n",
        "        run[\"optim/name\"] = \"Adam\"\n",
        "        run[\"optim/lr\"] = 0.001\n",
        "\n",
        "        #---\n",
        "        model, train_losses, valid_losses, train_accuracies, valid_accuracies = train_model(model, criterion, optimizer,\n",
        "                                                                                            exp_lr_scheduler, num_epochs=num_epochs)"
      ]
    },
    {
      "attachments": {},
      "cell_type": "markdown",
      "metadata": {
        "id": "eEcgQfkyONkm"
      },
      "source": [
        "## Comparasion"
      ]
    },
    {
      "cell_type": "code",
      "execution_count": 78,
      "metadata": {
        "colab": {
          "base_uri": "https://localhost:8080/",
          "height": 489
        },
        "id": "KkjlA6v6NvYo",
        "outputId": "2baac61d-3aa5-4aa4-90e6-9b579222dae3"
      },
      "outputs": [
        {
          "data": {
            "image/png": "[encoded data removed]",
            "text/plain": [
              "<Figure size 640x480 with 1 Axes>"
            ]
          },
          "metadata": {},
          "output_type": "display_data"
        }
      ],
      "source": [
        "# Plot the training curves of valididation accuracy vs. number\n",
        "#  of training epochs for the transfer learning method and\n",
        "#  the model trained from scratch\n",
        "ohist = []\n",
        "shist = []\n",
        "\n",
        "ohist = [h.cpu().numpy() for h in valid_accuracies]\n",
        "shist = [h.cpu().numpy() for h in valid_accuracies_]\n",
        "\n",
        "plt.title(\"valididation Accuracy vs. Number of Training Epochs\")\n",
        "plt.xlabel(\"Training epochs\")\n",
        "plt.ylabel(\"valididation accuracy\")\n",
        "plt.plot(range(1, num_epochs+1), ohist, label=\"Pretrained\")\n",
        "plt.plot(range(1, num_epochs+1), shist, label=\"Scratch\")\n",
        "# plt.ylim((0,1.))\n",
        "# plt.xticks(np.arange(1, num_epochs+1, 1.0))\n",
        "plt.legend()\n",
        "# plt.grid()\n",
        "plt.show()"
      ]
    },
    {
      "attachments": {},
      "cell_type": "markdown",
      "metadata": {
        "id": "3cLn7pnjN-Cb"
      },
      "source": [
        "## View metrics to train and valididation"
      ]
    },
    {
      "cell_type": "code",
      "execution_count": 79,
      "metadata": {
        "colab": {
          "base_uri": "https://localhost:8080/"
        },
        "id": "4w3g8LISNSev",
        "outputId": "2175bffa-3ced-45a1-d34d-7c99cdf72ae6"
      },
      "outputs": [],
      "source": [
        "data = \"valid\" # train or valid\n",
        "labels = []\n",
        "predictions = []\n",
        "predictions_proba = []\n",
        "\n",
        "with torch.no_grad():\n",
        "  for batch_x_test, batch_y_test in dataloaders[data]:\n",
        "    batch_x_test = batch_x_test.to(device).to(torch.float32)\n",
        "    batch_y_test = batch_y_test.to(device).to(torch.int64)\n",
        "\n",
        "    batch_test_predictions = model_ft(batch_x_test)\n",
        "    # batch_test_predictions = model_conv(batch_x_test)\n",
        "\n",
        "    batch_test_predictions = torch.nn.functional.softmax(batch_test_predictions, dim=-1)\n",
        "    predictions_proba.append(batch_test_predictions)\n",
        "    # print(batch_test_predictions)\n",
        "\n",
        "    batch_test_predictions = batch_test_predictions.max(dim=1).indices\n",
        "    # print(batch_test_predictions)\n",
        "\n",
        "    labels.append(batch_y_test)\n",
        "    predictions.append(batch_test_predictions)\n",
        "\n",
        "labels = torch.cat(labels, dim=0)\n",
        "predictions = torch.cat(predictions, dim=0)\n",
        "predictions_proba = torch.cat(predictions_proba, dim=0)"
      ]
    },
    {
      "cell_type": "code",
      "execution_count": 80,
      "metadata": {
        "colab": {
          "base_uri": "https://localhost:8080/"
        },
        "id": "7XD8rNdDN41y",
        "outputId": "4ea58fc7-d794-4e4a-9894-bbea5aa1ce78"
      },
      "outputs": [],
      "source": [
        "labels = labels.cpu().numpy()\n",
        "predictions = predictions.cpu().numpy()\n",
        "predictions_proba = predictions_proba.cpu().numpy()"
      ]
    },
    {
      "cell_type": "code",
      "execution_count": 81,
      "metadata": {
        "colab": {
          "base_uri": "https://localhost:8080/"
        },
        "id": "0E7_RkiINE1h",
        "outputId": "08ccd0be-bce6-4df9-b3e7-aafbf1370af0"
      },
      "outputs": [
        {
          "name": "stdout",
          "output_type": "stream",
          "text": [
            "              precision    recall  f1-score   support\n",
            "\n",
            "           0     0.7261    1.0000    0.8413      5892\n",
            "           1     0.0000    0.0000    0.0000      2223\n",
            "\n",
            "    accuracy                         0.7261      8115\n",
            "   macro avg     0.3630    0.5000    0.4206      8115\n",
            "weighted avg     0.5272    0.7261    0.6108      8115\n",
            "\n"
          ]
        },
        {
          "name": "stderr",
          "output_type": "stream",
          "text": [
            "/home/ealvarez/miniconda3/envs/kaggle_3.10/lib/python3.10/site-packages/sklearn/metrics/_classification.py:1344: UndefinedMetricWarning: Precision and F-score are ill-defined and being set to 0.0 in labels with no predicted samples. Use `zero_division` parameter to control this behavior.\n",
            "  _warn_prf(average, modifier, msg_start, len(result))\n",
            "/home/ealvarez/miniconda3/envs/kaggle_3.10/lib/python3.10/site-packages/sklearn/metrics/_classification.py:1344: UndefinedMetricWarning: Precision and F-score are ill-defined and being set to 0.0 in labels with no predicted samples. Use `zero_division` parameter to control this behavior.\n",
            "  _warn_prf(average, modifier, msg_start, len(result))\n",
            "/home/ealvarez/miniconda3/envs/kaggle_3.10/lib/python3.10/site-packages/sklearn/metrics/_classification.py:1344: UndefinedMetricWarning: Precision and F-score are ill-defined and being set to 0.0 in labels with no predicted samples. Use `zero_division` parameter to control this behavior.\n",
            "  _warn_prf(average, modifier, msg_start, len(result))\n"
          ]
        }
      ],
      "source": [
        "print(classification_report(labels, predictions, digits=4))"
      ]
    },
    {
      "cell_type": "code",
      "execution_count": 82,
      "metadata": {
        "colab": {
          "base_uri": "https://localhost:8080/"
        },
        "id": "oRz_xTA_Z9bd",
        "outputId": "3d803388-a6a4-4477-9151-33265244417e"
      },
      "outputs": [
        {
          "data": {
            "text/plain": [
              "0.5438692307997699"
            ]
          },
          "execution_count": 82,
          "metadata": {},
          "output_type": "execute_result"
        }
      ],
      "source": [
        "roc_auc_score(labels, predictions_proba[:,1])"
      ]
    },
    {
      "attachments": {},
      "cell_type": "markdown",
      "metadata": {
        "id": "dCym4iWAf0_g"
      },
      "source": [
        "## Prepared test data to Kaggle"
      ]
    },
    {
      "attachments": {},
      "cell_type": "markdown",
      "metadata": {
        "id": "7P-Yyo94GOJT"
      },
      "source": [
        "#### Read test image"
      ]
    },
    {
      "cell_type": "code",
      "execution_count": 39,
      "metadata": {
        "colab": {
          "base_uri": "https://localhost:8080/",
          "height": 441
        },
        "id": "BL8XjSW2gCEH",
        "outputId": "8fbfa649-8b8b-478b-946b-a9ad2658435e"
      },
      "outputs": [
        {
          "data": {
            "text/html": [
              "<div>\n",
              "<style scoped>\n",
              "    .dataframe tbody tr th:only-of-type {\n",
              "        vertical-align: middle;\n",
              "    }\n",
              "\n",
              "    .dataframe tbody tr th {\n",
              "        vertical-align: top;\n",
              "    }\n",
              "\n",
              "    .dataframe thead th {\n",
              "        text-align: right;\n",
              "    }\n",
              "</style>\n",
              "<table border=\"1\" class=\"dataframe\">\n",
              "  <thead>\n",
              "    <tr style=\"text-align: right;\">\n",
              "      <th></th>\n",
              "      <th>ID</th>\n",
              "      <th>score</th>\n",
              "    </tr>\n",
              "  </thead>\n",
              "  <tbody>\n",
              "    <tr>\n",
              "      <th>0</th>\n",
              "      <td>c74d97b01eae257e44aa9d5bade97baf_left</td>\n",
              "      <td>0</td>\n",
              "    </tr>\n",
              "    <tr>\n",
              "      <th>1</th>\n",
              "      <td>c74d97b01eae257e44aa9d5bade97baf_right</td>\n",
              "      <td>0</td>\n",
              "    </tr>\n",
              "    <tr>\n",
              "      <th>2</th>\n",
              "      <td>70efdf2ec9b086079795c442636b55fb_left</td>\n",
              "      <td>0</td>\n",
              "    </tr>\n",
              "    <tr>\n",
              "      <th>3</th>\n",
              "      <td>70efdf2ec9b086079795c442636b55fb_right</td>\n",
              "      <td>0</td>\n",
              "    </tr>\n",
              "    <tr>\n",
              "      <th>4</th>\n",
              "      <td>1f0e3dad99908345f7439f8ffabdffc4_left</td>\n",
              "      <td>0</td>\n",
              "    </tr>\n",
              "    <tr>\n",
              "      <th>...</th>\n",
              "      <td>...</td>\n",
              "      <td>...</td>\n",
              "    </tr>\n",
              "    <tr>\n",
              "      <th>10533</th>\n",
              "      <td>e261790d3a4cb0c69c17d7c183830289_right</td>\n",
              "      <td>0</td>\n",
              "    </tr>\n",
              "    <tr>\n",
              "      <th>10534</th>\n",
              "      <td>d21137447f7fdc47f7e6677ae35522a7_left</td>\n",
              "      <td>0</td>\n",
              "    </tr>\n",
              "    <tr>\n",
              "      <th>10535</th>\n",
              "      <td>d21137447f7fdc47f7e6677ae35522a7_right</td>\n",
              "      <td>0</td>\n",
              "    </tr>\n",
              "    <tr>\n",
              "      <th>10536</th>\n",
              "      <td>ec2951e5afb60d72a4a3e0be6d3e9c0a_left</td>\n",
              "      <td>0</td>\n",
              "    </tr>\n",
              "    <tr>\n",
              "      <th>10537</th>\n",
              "      <td>ec2951e5afb60d72a4a3e0be6d3e9c0a_right</td>\n",
              "      <td>0</td>\n",
              "    </tr>\n",
              "  </tbody>\n",
              "</table>\n",
              "<p>10538 rows × 2 columns</p>\n",
              "</div>"
            ],
            "text/plain": [
              "                                           ID  score\n",
              "0       c74d97b01eae257e44aa9d5bade97baf_left      0\n",
              "1      c74d97b01eae257e44aa9d5bade97baf_right      0\n",
              "2       70efdf2ec9b086079795c442636b55fb_left      0\n",
              "3      70efdf2ec9b086079795c442636b55fb_right      0\n",
              "4       1f0e3dad99908345f7439f8ffabdffc4_left      0\n",
              "...                                       ...    ...\n",
              "10533  e261790d3a4cb0c69c17d7c183830289_right      0\n",
              "10534   d21137447f7fdc47f7e6677ae35522a7_left      0\n",
              "10535  d21137447f7fdc47f7e6677ae35522a7_right      0\n",
              "10536   ec2951e5afb60d72a4a3e0be6d3e9c0a_left      0\n",
              "10537  ec2951e5afb60d72a4a3e0be6d3e9c0a_right      0\n",
              "\n",
              "[10538 rows x 2 columns]"
            ]
          },
          "execution_count": 39,
          "metadata": {},
          "output_type": "execute_result"
        }
      ],
      "source": [
        "df_test = pd.read_csv(\"source/sample.csv\")\n",
        "df_test"
      ]
    },
    {
      "cell_type": "code",
      "execution_count": null,
      "metadata": {
        "colab": {
          "base_uri": "https://localhost:8080/"
        },
        "id": "3l-kbSdaf5OD",
        "outputId": "95744c46-9b43-4230-e11a-864dfda96456"
      },
      "outputs": [
        {
          "name": "stdout",
          "output_type": "stream",
          "text": [
            "time: 10.5 s (started: 2022-10-24 00:40:09 -05:00)\n"
          ]
        }
      ],
      "source": [
        "# Copy images to test folder\n",
        "\"\"\" for index, row in df_test.iterrows():\n",
        "    # print(row[\"File_names\"], row[\"Target\"])\n",
        "    s = \"source/X-Ray-Pneumonia-Images/Images/{}\".format(row[\"File_names\"])\n",
        "    t = \"x_rays_data/test/\".format(group, row[\"File_names\"])\n",
        "    shutil.copy(s, t) \"\"\""
      ]
    },
    {
      "attachments": {},
      "cell_type": "markdown",
      "metadata": {
        "id": "kSleZ2rdGUVP"
      },
      "source": [
        "#### Get proba (option 1)"
      ]
    },
    {
      "cell_type": "code",
      "execution_count": null,
      "metadata": {
        "colab": {
          "base_uri": "https://localhost:8080/"
        },
        "id": "xJ28vakkKmWJ",
        "outputId": "6fe34645-18c3-4fd3-9cf9-6473397147cf"
      },
      "outputs": [
        {
          "name": "stdout",
          "output_type": "stream",
          "text": [
            "time: 1.67 ms (started: 2022-10-24 18:25:17 -05:00)\n"
          ]
        }
      ],
      "source": [
        "test_transformations = transforms.Compose([\n",
        "    transforms.Resize(input_size),\n",
        "    transforms.CenterCrop(input_size),\n",
        "    transforms.ToTensor(),\n",
        "    transforms.Normalize([0.485, 0.456, 0.406], [0.229, 0.224, 0.225])\n",
        "])"
      ]
    },
    {
      "cell_type": "code",
      "execution_count": null,
      "metadata": {
        "colab": {
          "base_uri": "https://localhost:8080/"
        },
        "id": "Nh1jkFPelcIA",
        "outputId": "ed5e22e2-2ee5-4133-bb88-86f7cd3399a4"
      },
      "outputs": [
        {
          "name": "stdout",
          "output_type": "stream",
          "text": [
            "time: 1.84 ms (started: 2022-10-24 18:25:21 -05:00)\n"
          ]
        }
      ],
      "source": [
        "def get_predict_proba(df_image_path, labels_dict, final_model):\n",
        "  y_prob = list()\n",
        "  for index, row in df_image_path.iterrows():\n",
        "    path = \"source/X-Ray-Pneumonia-Images/Images/\" + row[\"File_names\"]\n",
        "    img = Image.open(path).convert(\"RGB\")\n",
        "\n",
        "    with torch.no_grad():\n",
        "      # Preprocesamos la imagen\n",
        "      x = test_transformations(img)\n",
        "      x = x[None] #(224, 224, 3) -> (1, 224, 224, 3)\n",
        "\n",
        "      x = x.to(device).to(torch.float32)\n",
        "      # Get prediction\n",
        "      outputs = final_model(x)\n",
        "\n",
        "      y = torch.nn.functional.softmax(outputs, dim=-1)\n",
        "      # print(y[0])\n",
        "      # print(y.cpu().numpy()[0])\n",
        "      y_prob.append(y)\n",
        "\n",
        "  y_prob = torch.cat(y_prob, dim=0)\n",
        "  return y_prob"
      ]
    },
    {
      "cell_type": "code",
      "execution_count": null,
      "metadata": {
        "colab": {
          "base_uri": "https://localhost:8080/"
        },
        "id": "Oh4IAjCROg9B",
        "outputId": "0afda560-4702-4aee-a4bd-fa25cb282622"
      },
      "outputs": [
        {
          "data": {
            "text/plain": [
              "tensor([[1.5601e-02, 9.8440e-01],\n",
              "        [1.0494e-01, 8.9506e-01],\n",
              "        [9.8930e-01, 1.0702e-02],\n",
              "        ...,\n",
              "        [5.8417e-04, 9.9942e-01],\n",
              "        [2.8505e-03, 9.9715e-01],\n",
              "        [9.9165e-01, 8.3534e-03]], device='cuda:0')"
            ]
          },
          "execution_count": 456,
          "metadata": {},
          "output_type": "execute_result"
        },
        {
          "name": "stdout",
          "output_type": "stream",
          "text": [
            "time: 21.2 s (started: 2022-10-24 18:25:28 -05:00)\n"
          ]
        }
      ],
      "source": [
        "y_prob = get_predict_proba(df_test, {}, model_ft)\n",
        "y_prob"
      ]
    },
    {
      "cell_type": "code",
      "execution_count": null,
      "metadata": {
        "colab": {
          "base_uri": "https://localhost:8080/"
        },
        "id": "6O_9Ys8_avx6",
        "outputId": "9e3440b1-ac5d-4e5c-b4bf-3f33523cbfd1"
      },
      "outputs": [
        {
          "name": "stdout",
          "output_type": "stream",
          "text": [
            "time: 28.4 ms (started: 2022-10-24 18:25:55 -05:00)\n"
          ]
        }
      ],
      "source": [
        "y_prob_ = [h.cpu().numpy().tolist() for h in y_prob]\n",
        "y_prob_ = np.array(y_prob_)[:,1]\n",
        "# y_prob_"
      ]
    },
    {
      "cell_type": "code",
      "execution_count": null,
      "metadata": {
        "colab": {
          "base_uri": "https://localhost:8080/",
          "height": 224
        },
        "id": "xlgjMiVnbHnE",
        "outputId": "6d21da65-9641-4478-b732-bc79892f870c"
      },
      "outputs": [
        {
          "data": {
            "text/html": [
              "<div>\n",
              "<style scoped>\n",
              "    .dataframe tbody tr th:only-of-type {\n",
              "        vertical-align: middle;\n",
              "    }\n",
              "\n",
              "    .dataframe tbody tr th {\n",
              "        vertical-align: top;\n",
              "    }\n",
              "\n",
              "    .dataframe thead th {\n",
              "        text-align: right;\n",
              "    }\n",
              "</style>\n",
              "<table border=\"1\" class=\"dataframe\">\n",
              "  <thead>\n",
              "    <tr style=\"text-align: right;\">\n",
              "      <th></th>\n",
              "      <th>Id</th>\n",
              "      <th>Predicted</th>\n",
              "    </tr>\n",
              "  </thead>\n",
              "  <tbody>\n",
              "    <tr>\n",
              "      <th>874</th>\n",
              "      <td>874</td>\n",
              "      <td>0.002335</td>\n",
              "    </tr>\n",
              "    <tr>\n",
              "      <th>875</th>\n",
              "      <td>875</td>\n",
              "      <td>0.399763</td>\n",
              "    </tr>\n",
              "    <tr>\n",
              "      <th>876</th>\n",
              "      <td>876</td>\n",
              "      <td>0.999416</td>\n",
              "    </tr>\n",
              "    <tr>\n",
              "      <th>877</th>\n",
              "      <td>877</td>\n",
              "      <td>0.997150</td>\n",
              "    </tr>\n",
              "    <tr>\n",
              "      <th>878</th>\n",
              "      <td>878</td>\n",
              "      <td>0.008353</td>\n",
              "    </tr>\n",
              "  </tbody>\n",
              "</table>\n",
              "</div>"
            ],
            "text/plain": [
              "      Id  Predicted\n",
              "874  874   0.002335\n",
              "875  875   0.399763\n",
              "876  876   0.999416\n",
              "877  877   0.997150\n",
              "878  878   0.008353"
            ]
          },
          "execution_count": 458,
          "metadata": {},
          "output_type": "execute_result"
        },
        {
          "name": "stdout",
          "output_type": "stream",
          "text": [
            "time: 13.3 ms (started: 2022-10-24 18:26:00 -05:00)\n"
          ]
        }
      ],
      "source": [
        "# Create data frame for prob\n",
        "data = {\"Id\": list(range(len(y_prob_))),\n",
        "        \"Predicted\": y_prob_}\n",
        "\n",
        "result = pd.DataFrame(data)\n",
        "result.tail()"
      ]
    },
    {
      "cell_type": "code",
      "execution_count": null,
      "metadata": {
        "colab": {
          "base_uri": "https://localhost:8080/"
        },
        "id": "_EXbMDkXbOrJ",
        "outputId": "01ef2151-bf3c-438c-d73e-01690811cc26"
      },
      "outputs": [
        {
          "name": "stdout",
          "output_type": "stream",
          "text": [
            "time: 51.3 ms (started: 2022-10-24 18:26:26 -05:00)\n"
          ]
        }
      ],
      "source": [
        "# Save\n",
        "from datetime import datetime\n",
        "\n",
        "# datetime object containing current date and time\n",
        "now = datetime.now()\n",
        "dt_string = now.strftime(\"%d-%m-%Y-%H:%M:%S\")\n",
        "\n",
        "result.to_csv(\"results/y_prob_z_{}.csv\".format(dt_string), sep=\",\", index=False, header=True)"
      ]
    },
    {
      "attachments": {},
      "cell_type": "markdown",
      "metadata": {
        "id": "vIgZRtm1OfSF"
      },
      "source": [
        "Get proba (option 2)"
      ]
    },
    {
      "cell_type": "code",
      "execution_count": null,
      "metadata": {
        "colab": {
          "base_uri": "https://localhost:8080/"
        },
        "id": "SuqvC3jEpdUw",
        "outputId": "228d44aa-7c2f-4585-dc3c-b10fde669d59"
      },
      "outputs": [
        {
          "name": "stdout",
          "output_type": "stream",
          "text": [
            "time: 9.54 ms (started: 2022-10-24 13:58:59 -05:00)\n"
          ]
        }
      ],
      "source": [
        "data_transforms_ = {\n",
        "    \"test\": test_transformations,\n",
        "}\n",
        "\n",
        "image_datasets_ = {x: datasets.ImageFolder(os.path.join(data_dir, x),\n",
        "                                          data_transforms_[x])\n",
        "                  for x in [\"test\"]}\n",
        "dataloaders_ = {x: torch.utils.data.DataLoader(image_datasets_[x], batch_size=batch_size,\n",
        "                                               shuffle=False, num_workers=4)\n",
        "              for x in [\"test\"]}"
      ]
    },
    {
      "cell_type": "code",
      "execution_count": null,
      "metadata": {
        "colab": {
          "base_uri": "https://localhost:8080/"
        },
        "id": "7w9wPK-KX1xv",
        "outputId": "2aad6129-b5a5-4756-b31d-460477052e31"
      },
      "outputs": [
        {
          "name": "stdout",
          "output_type": "stream",
          "text": [
            "time: 11.2 ms (started: 2022-10-24 14:10:50 -05:00)\n"
          ]
        }
      ],
      "source": [
        "data_transforms_ = {\n",
        "    \"test\": test_transformations,\n",
        "}\n",
        "\n",
        "image_datasets_ = {x: datasets.ImageFolder(os.path.join(data_dir, x),\n",
        "                                           data_transforms_[x])\n",
        "                  for x in [\"test\"]}\n",
        "\n",
        "shuffled_dataset = torch.utils.data.Subset(image_datasets_[\"test\"], torch.randperm(len(image_datasets_[\"test\"])).tolist())\n",
        "\n",
        "dataloaders_ = {x: torch.utils.data.DataLoader(shuffled_dataset, batch_size=batch_size,\n",
        "                                               shuffle=False, num_workers=1)\n",
        "              for x in [\"test\"]}"
      ]
    },
    {
      "cell_type": "code",
      "execution_count": null,
      "metadata": {
        "colab": {
          "base_uri": "https://localhost:8080/"
        },
        "id": "15Wdmgmnqejg",
        "outputId": "7a8a90cb-b98c-4710-bdbd-7086d2ef3447"
      },
      "outputs": [
        {
          "name": "stdout",
          "output_type": "stream",
          "text": [
            "time: 11.6 s (started: 2022-10-24 14:10:56 -05:00)\n"
          ]
        }
      ],
      "source": [
        "predictions_proba = list()\n",
        "\n",
        "with torch.no_grad():\n",
        "  for batch_x_test, batch_y_test in dataloaders_[\"test\"]:\n",
        "    batch_x_test = batch_x_test.to(device).to(torch.float32)\n",
        "    batch_y_test = batch_y_test.to(device).to(torch.int64)\n",
        "\n",
        "    batch_test_predictions = model_ft(batch_x_test)\n",
        "    # batch_test_predictions = model_conv(batch_x_test)\n",
        "\n",
        "    batch_test_predictions = torch.nn.functional.softmax(batch_test_predictions, dim=-1)\n",
        "    predictions_proba.append(batch_test_predictions)\n",
        "    # print(batch_test_predictions)\n",
        "\n",
        "    labels.append(batch_y_test)\n",
        "    predictions.append(batch_test_predictions)\n",
        "\n",
        "predictions_proba = torch.cat(predictions_proba, dim=0)"
      ]
    },
    {
      "cell_type": "code",
      "execution_count": null,
      "metadata": {
        "colab": {
          "base_uri": "https://localhost:8080/"
        },
        "id": "hheDvnXAKd5c",
        "outputId": "3396e17c-01c3-4bd0-a77c-67d7b5baeedb"
      },
      "outputs": [
        {
          "data": {
            "text/plain": [
              "tensor([[0.0019, 0.9981],\n",
              "        [0.0022, 0.9978],\n",
              "        [0.7550, 0.2450],\n",
              "        ...,\n",
              "        [0.5107, 0.4893],\n",
              "        [0.7598, 0.2402],\n",
              "        [0.0129, 0.9871]], device='cuda:0')"
            ]
          },
          "execution_count": 390,
          "metadata": {},
          "output_type": "execute_result"
        },
        {
          "name": "stdout",
          "output_type": "stream",
          "text": [
            "time: 8.41 ms (started: 2022-10-24 14:11:16 -05:00)\n"
          ]
        }
      ],
      "source": [
        "predictions_proba"
      ]
    },
    {
      "attachments": {},
      "cell_type": "markdown",
      "metadata": {
        "id": "MLvO6ZkD8yG3"
      },
      "source": [
        "## Further Learning\n",
        "\n",
        "If you would like to learn more about the applications of transfer learning,\n",
        "checkout our [Quantized Transfer Learning for Computer Vision Tutorial](https://pytorch.org/tutorials/intermediate/quantized_transfer_learning_tutorial.html).\n",
        "\n",
        "\n",
        "\n"
      ]
    },
    {
      "cell_type": "code",
      "execution_count": null,
      "metadata": {
        "colab": {
          "base_uri": "https://localhost:8080/"
        },
        "id": "lTOGUwKmFvaa",
        "outputId": "6fe6c071-9613-4af2-f9f7-37bc13615e9d"
      },
      "outputs": [
        {
          "data": {
            "text/plain": [
              "(879, 879)"
            ]
          },
          "execution_count": 391,
          "metadata": {},
          "output_type": "execute_result"
        },
        {
          "name": "stdout",
          "output_type": "stream",
          "text": [
            "time: 4.42 ms (started: 2022-10-24 14:11:26 -05:00)\n"
          ]
        }
      ],
      "source": [
        "len(y_prob), len(predictions_proba)"
      ]
    },
    {
      "cell_type": "code",
      "execution_count": null,
      "metadata": {
        "colab": {
          "base_uri": "https://localhost:8080/"
        },
        "id": "oES71VX_CoTr",
        "outputId": "5a2399b9-dc6d-48c5-adea-17cc15f526a8"
      },
      "outputs": [
        {
          "name": "stdout",
          "output_type": "stream",
          "text": [
            "635 244\n",
            "time: 50.6 ms (started: 2022-10-24 14:11:29 -05:00)\n"
          ]
        }
      ],
      "source": [
        "a = 0\n",
        "b = 0\n",
        "for k, item in enumerate(predictions_proba):\n",
        "  if item in y_prob:\n",
        "    a += 1\n",
        "  else:\n",
        "    b += 1\n",
        "\n",
        "print(a, b)"
      ]
    },
    {
      "cell_type": "code",
      "execution_count": null,
      "metadata": {
        "colab": {
          "base_uri": "https://localhost:8080/"
        },
        "id": "aF7e9d1KD2GW",
        "outputId": "6b60be01-47c9-4628-a589-d97183872ce6"
      },
      "outputs": [
        {
          "data": {
            "text/plain": [
              "tensor([[-0.1453,  0.1453],\n",
              "        [-0.2138,  0.2138],\n",
              "        [-0.1328,  0.1328],\n",
              "        ...,\n",
              "        [ 0.4921, -0.4921],\n",
              "        [ 0.7417, -0.7417],\n",
              "        [-0.6879,  0.6879]], device='cuda:0')"
            ]
          },
          "execution_count": 393,
          "metadata": {},
          "output_type": "execute_result"
        },
        {
          "name": "stdout",
          "output_type": "stream",
          "text": [
            "time: 6.92 ms (started: 2022-10-24 14:11:34 -05:00)\n"
          ]
        }
      ],
      "source": [
        "predictions_proba - y_prob"
      ]
    },
    {
      "cell_type": "code",
      "execution_count": null,
      "metadata": {
        "colab": {
          "base_uri": "https://localhost:8080/"
        },
        "id": "II8s8eeLII3Y",
        "outputId": "a1c0d9f9-760e-45c2-fc9a-c149af06a0af"
      },
      "outputs": [
        {
          "name": "stdout",
          "output_type": "stream",
          "text": [
            "time: 47.2 ms (started: 2022-10-24 14:11:39 -05:00)\n"
          ]
        }
      ],
      "source": [
        "ohist = []\n",
        "shist = []\n",
        "\n",
        "ohist = [h.cpu().numpy().tolist() for h in y_prob]\n",
        "shist = [h.cpu().numpy().tolist() for h in predictions_proba]"
      ]
    },
    {
      "cell_type": "code",
      "execution_count": null,
      "metadata": {
        "colab": {
          "base_uri": "https://localhost:8080/"
        },
        "id": "ITm_lDyOJpvx",
        "outputId": "0b020637-dff8-48fa-f043-4b0c3fb6fbbb"
      },
      "outputs": [
        {
          "data": {
            "text/plain": [
              "[[0.14711539447307587, 0.8528845906257629],\n",
              " [0.21607042849063873, 0.7839295864105225],\n",
              " [0.8877939581871033, 0.11220604926347733],\n",
              " [0.01686420850455761, 0.9831357598304749],\n",
              " [0.002497079549357295, 0.9975029826164246],\n",
              " [0.9482443928718567, 0.051755599677562714],\n",
              " [0.9887135028839111, 0.01128657441586256],\n",
              " [0.24072377383708954, 0.7592762112617493],\n",
              " [0.0020917770452797413, 0.9979082345962524],\n",
              " [0.0027087603230029345, 0.9972912669181824]]"
            ]
          },
          "execution_count": 350,
          "metadata": {},
          "output_type": "execute_result"
        },
        {
          "name": "stdout",
          "output_type": "stream",
          "text": [
            "time: 4.9 ms (started: 2022-10-24 13:46:39 -05:00)\n"
          ]
        }
      ],
      "source": [
        "ohist[:10]"
      ]
    },
    {
      "cell_type": "code",
      "execution_count": null,
      "metadata": {
        "colab": {
          "base_uri": "https://localhost:8080/"
        },
        "id": "XVQenBdfJ2y6",
        "outputId": "fdfd226f-c0e2-45ee-a7b7-235e810871c6"
      },
      "outputs": [
        {
          "data": {
            "text/plain": [
              "[[0.984623908996582, 0.015376050025224686],\n",
              " [0.1200985312461853, 0.8799015283584595],\n",
              " [0.5861233472824097, 0.41387665271759033],\n",
              " [7.99512563389726e-05, 0.9999200105667114],\n",
              " [0.0014523343415930867, 0.9985476136207581],\n",
              " [0.00046254004701040685, 0.999537467956543],\n",
              " [0.9405980706214905, 0.05940190330147743],\n",
              " [0.7390910983085632, 0.26090890169143677],\n",
              " [0.9634218215942383, 0.036578238010406494],\n",
              " [0.004561557900160551, 0.9954385161399841]]"
            ]
          },
          "execution_count": 351,
          "metadata": {},
          "output_type": "execute_result"
        },
        {
          "name": "stdout",
          "output_type": "stream",
          "text": [
            "time: 4.82 ms (started: 2022-10-24 13:46:43 -05:00)\n"
          ]
        }
      ],
      "source": [
        "shist[:10]"
      ]
    },
    {
      "cell_type": "code",
      "execution_count": null,
      "metadata": {
        "colab": {
          "base_uri": "https://localhost:8080/"
        },
        "id": "QtIyYaZuM9z0",
        "outputId": "dd8c7df8-d7d1-4d4c-a244-9db6cbfaed03"
      },
      "outputs": [
        {
          "name": "stdout",
          "output_type": "stream",
          "text": [
            "time: 1.97 ms (started: 2022-10-24 14:11:44 -05:00)\n"
          ]
        }
      ],
      "source": [
        "a = np.array(ohist)\n",
        "b = np.array(shist)"
      ]
    },
    {
      "cell_type": "code",
      "execution_count": null,
      "metadata": {
        "colab": {
          "base_uri": "https://localhost:8080/"
        },
        "id": "bvSX9ETKUsjt",
        "outputId": "bc34d8d1-c1e9-4e55-9eff-f7ad049e3d6e"
      },
      "outputs": [
        {
          "data": {
            "text/plain": [
              "array([[ 0.14525925, -0.14525932],\n",
              "       [ 0.21383996, -0.21384001],\n",
              "       [ 0.13283145, -0.13283143],\n",
              "       ...,\n",
              "       [-0.49212154,  0.49212158],\n",
              "       [-0.74168267,  0.7416826 ],\n",
              "       [ 0.68785605, -0.68785617]])"
            ]
          },
          "execution_count": 396,
          "metadata": {},
          "output_type": "execute_result"
        },
        {
          "name": "stdout",
          "output_type": "stream",
          "text": [
            "time: 5.83 ms (started: 2022-10-24 14:11:48 -05:00)\n"
          ]
        }
      ],
      "source": [
        "a_b = a - b\n",
        "a_b"
      ]
    },
    {
      "cell_type": "code",
      "execution_count": null,
      "metadata": {
        "colab": {
          "base_uri": "https://localhost:8080/"
        },
        "id": "RkXz7lwSOKZV",
        "outputId": "8c99d729-1248-4fe7-940d-02e131ad3329"
      },
      "outputs": [
        {
          "data": {
            "text/plain": [
              "array([[9.96677041e-01, 3.32291843e-03],\n",
              "       [9.93342698e-01, 6.65730750e-03],\n",
              "       [9.91753936e-01, 8.24605953e-03],\n",
              "       ...,\n",
              "       [5.45697039e-05, 9.99945402e-01],\n",
              "       [5.34961218e-05, 9.99946475e-01],\n",
              "       [5.62726700e-06, 9.99994397e-01]])"
            ]
          },
          "execution_count": 397,
          "metadata": {},
          "output_type": "execute_result"
        },
        {
          "name": "stdout",
          "output_type": "stream",
          "text": [
            "time: 5.43 ms (started: 2022-10-24 14:11:53 -05:00)\n"
          ]
        }
      ],
      "source": [
        "a_ = a[a[:, 1].argsort()]\n",
        "a_"
      ]
    },
    {
      "cell_type": "code",
      "execution_count": null,
      "metadata": {
        "colab": {
          "base_uri": "https://localhost:8080/"
        },
        "id": "8Rd96MRnOL63",
        "outputId": "773c1425-84b3-46a6-ad14-0a01bd4bef19"
      },
      "outputs": [
        {
          "data": {
            "text/plain": [
              "array([[9.96677041e-01, 3.32291843e-03],\n",
              "       [9.93342698e-01, 6.65730750e-03],\n",
              "       [9.91753936e-01, 8.24605953e-03],\n",
              "       ...,\n",
              "       [5.45698058e-05, 9.99945402e-01],\n",
              "       [5.34960709e-05, 9.99946475e-01],\n",
              "       [5.62726700e-06, 9.99994397e-01]])"
            ]
          },
          "execution_count": 398,
          "metadata": {},
          "output_type": "execute_result"
        },
        {
          "name": "stdout",
          "output_type": "stream",
          "text": [
            "time: 11.2 ms (started: 2022-10-24 14:11:57 -05:00)\n"
          ]
        }
      ],
      "source": [
        "b_ = b[b[:, 1].argsort()]\n",
        "b_"
      ]
    },
    {
      "cell_type": "code",
      "execution_count": null,
      "metadata": {
        "colab": {
          "base_uri": "https://localhost:8080/",
          "height": 469
        },
        "id": "awJ6rCT9PatY",
        "outputId": "dbf078a2-fa12-4a7d-894e-7fee0db0faa9"
      },
      "outputs": [
        {
          "data": {
            "image/png": "[encoded data removed]",
            "text/plain": [
              "<Figure size 640x480 with 2 Axes>"
            ]
          },
          "metadata": {},
          "output_type": "display_data"
        },
        {
          "name": "stdout",
          "output_type": "stream",
          "text": [
            "time: 308 ms (started: 2022-10-24 14:12:05 -05:00)\n"
          ]
        }
      ],
      "source": [
        "# Program to plot 2-D Heat map\n",
        "# using seaborn.heatmap() method\n",
        "import numpy as np\n",
        "import seaborn as sns\n",
        "import matplotlib.pylab as plt\n",
        "\n",
        "sns.heatmap(a_b, annot=False)\n",
        "\n",
        "plt.title( \"2-D Heat Map\" )\n",
        "plt.show()"
      ]
    },
    {
      "cell_type": "code",
      "execution_count": null,
      "metadata": {
        "colab": {
          "base_uri": "https://localhost:8080/",
          "height": 469
        },
        "id": "VE4Lw7xVWoen",
        "outputId": "8c7bc5bb-3362-4dbb-fb81-b473f01722fa"
      },
      "outputs": [
        {
          "data": {
            "image/png": "[encoded data removed]",
            "text/plain": [
              "<Figure size 640x480 with 2 Axes>"
            ]
          },
          "metadata": {},
          "output_type": "display_data"
        },
        {
          "name": "stdout",
          "output_type": "stream",
          "text": [
            "time: 241 ms (started: 2022-10-24 14:12:18 -05:00)\n"
          ]
        }
      ],
      "source": [
        "sns.heatmap(a_b_, annot=False)\n",
        "\n",
        "plt.title( \"2-D Heat Map\" )\n",
        "plt.show()"
      ]
    },
    {
      "cell_type": "code",
      "execution_count": null,
      "metadata": {
        "colab": {
          "base_uri": "https://localhost:8080/"
        },
        "id": "V-jHTawsITZl",
        "outputId": "8da7a7ab-6c67-40aa-ce75-d18844a5911e"
      },
      "outputs": [
        {
          "name": "stdout",
          "output_type": "stream",
          "text": [
            "167 712\n",
            "time: 27.1 ms (started: 2022-10-24 13:12:41 -05:00)\n"
          ]
        }
      ],
      "source": [
        "a = 0\n",
        "b = 0\n",
        "for k, item in enumerate(shist):\n",
        "  if item in ohist:\n",
        "    a += 1\n",
        "  else:\n",
        "    b += 1\n",
        "\n",
        "print(a, b)"
      ]
    }
  ],
  "metadata": {
    "accelerator": "GPU",
    "colab": {
      "collapsed_sections": [
        "1RAC0vLJGeNg",
        "cRArdThPIurA",
        "PG4HUYFv8yG3",
        "eEcgQfkyONkm"
      ],
      "provenance": []
    },
    "kernelspec": {
      "display_name": "Python 3",
      "language": "python",
      "name": "python3"
    },
    "language_info": {
      "codemirror_mode": {
        "name": "ipython",
        "version": 3
      },
      "file_extension": ".py",
      "mimetype": "text/x-python",
      "name": "python",
      "nbconvert_exporter": "python",
      "pygments_lexer": "ipython3",
      "version": "3.10.11"
    }
  },
  "nbformat": 4,
  "nbformat_minor": 0
}
